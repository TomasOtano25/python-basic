{
  "nbformat": 4,
  "nbformat_minor": 0,
  "metadata": {
    "colab": {
      "name": "7.3 Atributos y metodos de clase.ipynb",
      "provenance": [],
      "collapsed_sections": [],
      "authorship_tag": "ABX9TyOEHoJ0d9UpA6O40hVACHbe",
      "include_colab_link": true
    },
    "kernelspec": {
      "name": "python3",
      "display_name": "Python 3"
    },
    "language_info": {
      "name": "python"
    }
  },
  "cells": [
    {
      "cell_type": "markdown",
      "metadata": {
        "id": "view-in-github",
        "colab_type": "text"
      },
      "source": [
        "<a href=\"https://colab.research.google.com/github/TomasOtano25/python-basic/blob/main/7_3_Atributos_y_metodos_de_clase.ipynb\" target=\"_parent\"><img src=\"https://colab.research.google.com/assets/colab-badge.svg\" alt=\"Open In Colab\"/></a>"
      ]
    },
    {
      "cell_type": "markdown",
      "source": [
        "# 7.3 Atributos y metodos de clase\n",
        "\n",
        "Aunque os objetos salgan del mismo molde (clase), no todos los objetos son iguales.\n",
        "\n",
        "Un objeto se diferencia de otros objetos de su misma clase por el valor de sus atributos."
      ],
      "metadata": {
        "id": "8uMRBWxaJ5R3"
      }
    },
    {
      "cell_type": "code",
      "execution_count": 1,
      "metadata": {
        "id": "2Yw9Y4zoJ0gd"
      },
      "outputs": [],
      "source": [
        "class Torta:\n",
        "  pass\n",
        "\n",
        "torta_fresa = Torta()"
      ]
    },
    {
      "cell_type": "code",
      "source": [
        "torta_fresa"
      ],
      "metadata": {
        "colab": {
          "base_uri": "https://localhost:8080/"
        },
        "id": "a7V0vXb5KQ-u",
        "outputId": "f75b98a5-4faa-4242-c419-d1a014195fd7"
      },
      "execution_count": 2,
      "outputs": [
        {
          "output_type": "execute_result",
          "data": {
            "text/plain": [
              "<__main__.Torta at 0x7fba0b5a7750>"
            ]
          },
          "metadata": {},
          "execution_count": 2
        }
      ]
    },
    {
      "cell_type": "markdown",
      "source": [
        "### Podemos asignarle atributos al objeto luego de su creacion"
      ],
      "metadata": {
        "id": "ZiLhmn8IKW0Y"
      }
    },
    {
      "cell_type": "code",
      "source": [
        "torta_fresa.sabor = \"Fresa\"\n",
        "torta_fresa.color = \"Rosado\""
      ],
      "metadata": {
        "id": "2tyMo7R6KWRp"
      },
      "execution_count": 3,
      "outputs": []
    },
    {
      "cell_type": "code",
      "source": [
        "torta_fresa.sabor"
      ],
      "metadata": {
        "colab": {
          "base_uri": "https://localhost:8080/",
          "height": 35
        },
        "id": "rDz265UvKmch",
        "outputId": "c3e35466-3446-4306-95f2-f91bcba84db5"
      },
      "execution_count": 4,
      "outputs": [
        {
          "output_type": "execute_result",
          "data": {
            "text/plain": [
              "'Fresa'"
            ],
            "application/vnd.google.colaboratory.intrinsic+json": {
              "type": "string"
            }
          },
          "metadata": {},
          "execution_count": 4
        }
      ]
    },
    {
      "cell_type": "code",
      "source": [
        "f'El sabor de la torta es {torta_fresa.sabor}'"
      ],
      "metadata": {
        "colab": {
          "base_uri": "https://localhost:8080/",
          "height": 35
        },
        "id": "-mH85wmVKwP0",
        "outputId": "c4fea142-9467-407f-f8b4-04be8aca585a"
      },
      "execution_count": null,
      "outputs": [
        {
          "output_type": "execute_result",
          "data": {
            "text/plain": [
              "'El sabor de la torta es Fresa'"
            ],
            "application/vnd.google.colaboratory.intrinsic+json": {
              "type": "string"
            }
          },
          "metadata": {},
          "execution_count": 8
        }
      ]
    },
    {
      "cell_type": "markdown",
      "source": [
        "### Tambien podemos definir internamente los atributos de la clase, y asignarle un valor por defecto que compartiran todas las instancias."
      ],
      "metadata": {
        "id": "vGXy5af_K_Kq"
      }
    },
    {
      "cell_type": "code",
      "source": [
        "class Torta:\n",
        "  chocolate = False"
      ],
      "metadata": {
        "id": "8izxzt7qK8_C"
      },
      "execution_count": 6,
      "outputs": []
    },
    {
      "cell_type": "code",
      "source": [
        "torta_2 = Torta()\n",
        "torta_2.chocolate"
      ],
      "metadata": {
        "colab": {
          "base_uri": "https://localhost:8080/"
        },
        "id": "WugH4McvLZlw",
        "outputId": "7c54c7bd-52b7-4cfd-e603-3f83bf67d1f4"
      },
      "execution_count": 7,
      "outputs": [
        {
          "output_type": "execute_result",
          "data": {
            "text/plain": [
              "False"
            ]
          },
          "metadata": {},
          "execution_count": 7
        }
      ]
    },
    {
      "cell_type": "code",
      "source": [
        "torta_2.chocolate = True\n",
        "torta_2.chocolate"
      ],
      "metadata": {
        "colab": {
          "base_uri": "https://localhost:8080/"
        },
        "id": "EUFvuSXcLaFr",
        "outputId": "5098c624-dd1c-45f9-dd9b-e55ce97adcd3"
      },
      "execution_count": 8,
      "outputs": [
        {
          "output_type": "execute_result",
          "data": {
            "text/plain": [
              "True"
            ]
          },
          "metadata": {},
          "execution_count": 8
        }
      ]
    },
    {
      "cell_type": "markdown",
      "source": [
        "## El metodo *INIT* y el termino *self*\n",
        "\n",
        "*   *init* (metodo contructor)\n",
        "*   *self* hace referencia la propio objeto: Sirve para diferenciar el ambito de clase y el de un metodo\n"
      ],
      "metadata": {
        "id": "4o53_sVPKybh"
      }
    },
    {
      "cell_type": "code",
      "source": [
        "class Torta():\n",
        "  glaseado = False\n",
        "\n",
        "  def __init__(self):\n",
        "    print('Se creo una torta.')\n",
        "\n",
        "t = Torta()"
      ],
      "metadata": {
        "colab": {
          "base_uri": "https://localhost:8080/"
        },
        "id": "Yy_bNDgZLXDo",
        "outputId": "dc816e9f-24bd-41c4-c41a-ea71f112d430"
      },
      "execution_count": 11,
      "outputs": [
        {
          "output_type": "stream",
          "name": "stdout",
          "text": [
            "Se creo una torta.\n"
          ]
        }
      ]
    },
    {
      "cell_type": "code",
      "source": [
        "class Torta():\n",
        "  glaseado = False\n",
        "\n",
        "  def __init__(self):\n",
        "    print('Se creo una torta.')\n",
        "\n",
        "  def glasear(self):\n",
        "    self.glaseado = True\n",
        "\n",
        "t = Torta()\n",
        "t.glaseado"
      ],
      "metadata": {
        "colab": {
          "base_uri": "https://localhost:8080/"
        },
        "id": "EF4JO_CSLe_c",
        "outputId": "1cf8f58b-027f-4f01-cd84-894dd7b58e6b"
      },
      "execution_count": 23,
      "outputs": [
        {
          "output_type": "stream",
          "name": "stdout",
          "text": [
            "Se creo una torta.\n"
          ]
        },
        {
          "output_type": "execute_result",
          "data": {
            "text/plain": [
              "False"
            ]
          },
          "metadata": {},
          "execution_count": 23
        }
      ]
    },
    {
      "cell_type": "code",
      "source": [
        "t.glasear()\n",
        "t.glaseado"
      ],
      "metadata": {
        "colab": {
          "base_uri": "https://localhost:8080/"
        },
        "id": "uiFhSntxMPn9",
        "outputId": "bcf73c6b-42b6-41be-b62a-8abfc6dd77a1"
      },
      "execution_count": 24,
      "outputs": [
        {
          "output_type": "execute_result",
          "data": {
            "text/plain": [
              "True"
            ]
          },
          "metadata": {},
          "execution_count": 24
        }
      ]
    },
    {
      "cell_type": "code",
      "source": [
        "class Torta():\n",
        "  glaseado = False\n",
        "\n",
        "  def __init__(self):\n",
        "    print('Se creo una torta.')\n",
        "\n",
        "  def glasear(self):\n",
        "    self.glaseado = True\n",
        "  \n",
        "  def esta_glaseada(self):\n",
        "    if(self.glaseado):\n",
        "      print('Soy una torta glaseada')\n",
        "    else:\n",
        "      print('Soy una torta sencilla sin glaseado.')"
      ],
      "metadata": {
        "id": "n3v7SSJWMzm5"
      },
      "execution_count": 26,
      "outputs": []
    },
    {
      "cell_type": "code",
      "source": [
        "t = Torta()\n",
        "t.esta_glaseada()"
      ],
      "metadata": {
        "colab": {
          "base_uri": "https://localhost:8080/"
        },
        "id": "qOJwgUjhNe7R",
        "outputId": "a2699b85-dcfd-4e95-af7c-fd52f6be195d"
      },
      "execution_count": 28,
      "outputs": [
        {
          "output_type": "stream",
          "name": "stdout",
          "text": [
            "Se creo una torta.\n",
            "Soy una torta sencilla sin glaseado.\n"
          ]
        }
      ]
    },
    {
      "cell_type": "code",
      "source": [
        "t.glasear()\n",
        "t.esta_glaseada()"
      ],
      "metadata": {
        "colab": {
          "base_uri": "https://localhost:8080/"
        },
        "id": "bNd6AC9nNwUk",
        "outputId": "7ef1840b-92d0-44aa-a4ae-532bdf5e4278"
      },
      "execution_count": 29,
      "outputs": [
        {
          "output_type": "stream",
          "name": "stdout",
          "text": [
            "Soy una torta glaseada\n"
          ]
        }
      ]
    },
    {
      "cell_type": "code",
      "source": [
        "class Torta():\n",
        "  glaseado = False\n",
        "\n",
        "  def __init__(self,sabor,color):\n",
        "    self.sabor = sabor\n",
        "    self.color = color\n",
        "    print(f'Se acaba de crear una torta de {sabor} {color}.')\n",
        "\n",
        "  def glasear(self):\n",
        "    self.glaseado = True\n",
        "  \n",
        "  def esta_glaseada(self):\n",
        "    if(self.glaseado):\n",
        "      print(f'Soy una torta de {self.sabor} glaseada')\n",
        "    else:\n",
        "      print(f'Soy una torta de {self.sabor} sin glaseado.')"
      ],
      "metadata": {
        "id": "rVVlV9xFN3jC"
      },
      "execution_count": 30,
      "outputs": []
    },
    {
      "cell_type": "code",
      "source": [
        "o = Torta(sabor=\"Fresa\",color=\"Morada\")"
      ],
      "metadata": {
        "colab": {
          "base_uri": "https://localhost:8080/"
        },
        "collapsed": true,
        "id": "D1tm7FkUOWa_",
        "outputId": "79e7470f-840b-48e0-861f-929dcb4fcae9"
      },
      "execution_count": 37,
      "outputs": [
        {
          "output_type": "stream",
          "name": "stdout",
          "text": [
            "Se acaba de crear una torta de Fresa Morada.\n"
          ]
        }
      ]
    },
    {
      "cell_type": "code",
      "source": [
        "o.esta_glaseada()"
      ],
      "metadata": {
        "colab": {
          "base_uri": "https://localhost:8080/"
        },
        "id": "7rPQcO5EOiSy",
        "outputId": "de8cb200-bfcc-4c4e-a557-abdfe06feb3b"
      },
      "execution_count": 38,
      "outputs": [
        {
          "output_type": "stream",
          "name": "stdout",
          "text": [
            "Soy una torta de Fresa sin glaseado.\n"
          ]
        }
      ]
    },
    {
      "cell_type": "code",
      "source": [
        "o.color"
      ],
      "metadata": {
        "colab": {
          "base_uri": "https://localhost:8080/",
          "height": 35
        },
        "id": "DRovi9ySPXBG",
        "outputId": "6b42154f-dad4-4412-f42b-455debb1ebe2"
      },
      "execution_count": 40,
      "outputs": [
        {
          "output_type": "execute_result",
          "data": {
            "text/plain": [
              "'Morada'"
            ],
            "application/vnd.google.colaboratory.intrinsic+json": {
              "type": "string"
            }
          },
          "metadata": {},
          "execution_count": 40
        }
      ]
    },
    {
      "cell_type": "code",
      "source": [
        "o.glasear()\n",
        "o.esta_glaseada()"
      ],
      "metadata": {
        "colab": {
          "base_uri": "https://localhost:8080/"
        },
        "id": "KjtfgnWVOkok",
        "outputId": "8e53696f-d309-4092-e28e-9021f24e48a4"
      },
      "execution_count": 39,
      "outputs": [
        {
          "output_type": "stream",
          "name": "stdout",
          "text": [
            "Soy una torta de Fresa glaseada\n"
          ]
        }
      ]
    },
    {
      "cell_type": "code",
      "source": [
        "m = Torta()"
      ],
      "metadata": {
        "colab": {
          "base_uri": "https://localhost:8080/",
          "height": 165
        },
        "id": "nVSGPflUPd-B",
        "outputId": "1c0eef04-83ed-44e2-c668-fce29dfe062a"
      },
      "execution_count": 43,
      "outputs": [
        {
          "output_type": "error",
          "ename": "TypeError",
          "evalue": "ignored",
          "traceback": [
            "\u001b[0;31m---------------------------------------------------------------------------\u001b[0m",
            "\u001b[0;31mTypeError\u001b[0m                                 Traceback (most recent call last)",
            "\u001b[0;32m<ipython-input-43-dfb7e99e376d>\u001b[0m in \u001b[0;36m<module>\u001b[0;34m()\u001b[0m\n\u001b[0;32m----> 1\u001b[0;31m \u001b[0mm\u001b[0m \u001b[0;34m=\u001b[0m \u001b[0mTorta\u001b[0m\u001b[0;34m(\u001b[0m\u001b[0;34m)\u001b[0m\u001b[0;34m\u001b[0m\u001b[0;34m\u001b[0m\u001b[0m\n\u001b[0m",
            "\u001b[0;31mTypeError\u001b[0m: __init__() missing 2 required positional arguments: 'sabor' and 'color'"
          ]
        }
      ]
    },
    {
      "cell_type": "code",
      "source": [
        "class Torta():\n",
        "  glaseado = False\n",
        "\n",
        "  def __init__(self,sabor=None,color=None):\n",
        "    self.sabor = sabor\n",
        "    self.color = color\n",
        "    print(f'Se acaba de crear una torta de {sabor} {color}.')\n",
        "\n",
        "  def glasear(self):\n",
        "    self.glaseado = True\n",
        "  \n",
        "  def esta_glaseada(self):\n",
        "    if(self.glaseado):\n",
        "      print(f'Soy una torta de {self.sabor} glaseada')\n",
        "    else:\n",
        "      print(f'Soy una torta de {self.sabor} sin glaseado.')"
      ],
      "metadata": {
        "id": "PFVXVxlUPRUQ"
      },
      "execution_count": 44,
      "outputs": []
    },
    {
      "cell_type": "code",
      "source": [
        "m = Torta()"
      ],
      "metadata": {
        "colab": {
          "base_uri": "https://localhost:8080/"
        },
        "id": "lFmsRwMLPmwY",
        "outputId": "f3947a40-7e40-491c-f407-d66f204e2740"
      },
      "execution_count": 46,
      "outputs": [
        {
          "output_type": "stream",
          "name": "stdout",
          "text": [
            "Se acaba de crear una torta de None None.\n"
          ]
        }
      ]
    },
    {
      "cell_type": "code",
      "source": [
        "class Torta():\n",
        "  glaseado = False\n",
        "\n",
        "  def __init__(self,sabor=None,color=None):\n",
        "    self.sabor = sabor\n",
        "    self.color = color\n",
        "    if sabor is not None and color is not None:\n",
        "      print(f'Se acaba de crear una torta de {sabor} {color}.')\n",
        "    else:\n",
        "      print(f'Se creo una torta de vainilla.')\n",
        "\n",
        "  def glasear(self):\n",
        "    self.glaseado = True\n",
        "  \n",
        "  def esta_glaseada(self):\n",
        "    if(self.glaseado):\n",
        "      print(f'Soy una torta de {self.sabor} glaseada')\n",
        "    else:\n",
        "      print(f'Soy una torta de {self.sabor} sin glaseado.')"
      ],
      "metadata": {
        "id": "GHKNohikPvB3"
      },
      "execution_count": 47,
      "outputs": []
    },
    {
      "cell_type": "code",
      "source": [
        "m=Torta()"
      ],
      "metadata": {
        "colab": {
          "base_uri": "https://localhost:8080/"
        },
        "id": "7Zg59QqJQBs5",
        "outputId": "c2c7898f-1d08-4599-84db-79135ee56fc4"
      },
      "execution_count": 48,
      "outputs": [
        {
          "output_type": "stream",
          "name": "stdout",
          "text": [
            "Se creo una torta de vainilla.\n"
          ]
        }
      ]
    }
  ]
}