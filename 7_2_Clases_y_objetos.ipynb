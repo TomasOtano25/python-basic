{
  "nbformat": 4,
  "nbformat_minor": 0,
  "metadata": {
    "colab": {
      "name": "7.2 Clases y objetos.ipynb",
      "provenance": [],
      "collapsed_sections": [],
      "authorship_tag": "ABX9TyNf+eYUiI5Ro/yHgp9OYQTh",
      "include_colab_link": true
    },
    "kernelspec": {
      "name": "python3",
      "display_name": "Python 3"
    },
    "language_info": {
      "name": "python"
    }
  },
  "cells": [
    {
      "cell_type": "markdown",
      "metadata": {
        "id": "view-in-github",
        "colab_type": "text"
      },
      "source": [
        "<a href=\"https://colab.research.google.com/github/TomasOtano25/python-basic/blob/main/7_2_Clases_y_objetos.ipynb\" target=\"_parent\"><img src=\"https://colab.research.google.com/assets/colab-badge.svg\" alt=\"Open In Colab\"/></a>"
      ]
    },
    {
      "cell_type": "markdown",
      "source": [
        "# 7.2 Clases y objetos\n",
        "\n",
        "Las Clases se asemejan a moldes que nos permiten crear objetos."
      ],
      "metadata": {
        "id": "ZOPJAcrAF33S"
      }
    },
    {
      "cell_type": "code",
      "execution_count": 1,
      "metadata": {
        "id": "t7FZ-IW5FMek"
      },
      "outputs": [],
      "source": [
        "class Torta:\n",
        "  pass"
      ]
    },
    {
      "cell_type": "markdown",
      "source": [
        "El proceso de crear un objeto a partir de su clase se llama instanciacion y por esto los objetos se conocen tambien como una instancia de clase."
      ],
      "metadata": {
        "id": "Xs8g0fn6JPUR"
      }
    },
    {
      "cell_type": "code",
      "source": [
        "torta = Torta()\n",
        "\n",
        "torta_3_leches = Torta()"
      ],
      "metadata": {
        "id": "Jbv77XSsJaYY"
      },
      "execution_count": 3,
      "outputs": []
    },
    {
      "cell_type": "code",
      "source": [
        "torta"
      ],
      "metadata": {
        "colab": {
          "base_uri": "https://localhost:8080/"
        },
        "id": "7iK2x18KJiAG",
        "outputId": "a5a06ab5-8e4b-450b-a04f-604cbbc1ead5"
      },
      "execution_count": 4,
      "outputs": [
        {
          "output_type": "execute_result",
          "data": {
            "text/plain": [
              "<__main__.Torta at 0x7f0d39ee9490>"
            ]
          },
          "metadata": {},
          "execution_count": 4
        }
      ]
    },
    {
      "cell_type": "code",
      "source": [
        "torta_3_leches"
      ],
      "metadata": {
        "colab": {
          "base_uri": "https://localhost:8080/"
        },
        "id": "xB4c0qn_JkoK",
        "outputId": "acf9e56a-56a0-43ee-cbc9-7ad4d7449931"
      },
      "execution_count": 5,
      "outputs": [
        {
          "output_type": "execute_result",
          "data": {
            "text/plain": [
              "<__main__.Torta at 0x7f0d39ee9ad0>"
            ]
          },
          "metadata": {},
          "execution_count": 5
        }
      ]
    }
  ]
}