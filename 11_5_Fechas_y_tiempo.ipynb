{
  "nbformat": 4,
  "nbformat_minor": 0,
  "metadata": {
    "colab": {
      "name": "11.5 Fechas y tiempo.ipynb",
      "provenance": [],
      "authorship_tag": "ABX9TyPFyY7mSMY6YOCpw699Zl+9",
      "include_colab_link": true
    },
    "kernelspec": {
      "name": "python3",
      "display_name": "Python 3"
    },
    "language_info": {
      "name": "python"
    }
  },
  "cells": [
    {
      "cell_type": "markdown",
      "metadata": {
        "id": "view-in-github",
        "colab_type": "text"
      },
      "source": [
        "<a href=\"https://colab.research.google.com/github/TomasOtano25/python-basic/blob/main/11_5_Fechas_y_tiempo.ipynb\" target=\"_parent\"><img src=\"https://colab.research.google.com/assets/colab-badge.svg\" alt=\"Open In Colab\"/></a>"
      ]
    },
    {
      "cell_type": "markdown",
      "source": [
        "# 11.5 Fechas y tiempo\n",
        "\n",
        "Para trabajar con valores de fecha y tiempo debemos utilizar el modulo `datetime`."
      ],
      "metadata": {
        "id": "UE8m5bUYHCTT"
      }
    },
    {
      "cell_type": "code",
      "execution_count": null,
      "metadata": {
        "colab": {
          "base_uri": "https://localhost:8080/"
        },
        "id": "3EfK7gGbG_Ue",
        "outputId": "24bd62a0-7c37-46dc-b392-f68bc7646ff8"
      },
      "outputs": [
        {
          "output_type": "stream",
          "name": "stdout",
          "text": [
            "2013-05-20\n",
            "<class 'datetime.date'>\n"
          ]
        }
      ],
      "source": [
        "from datetime import date\n",
        "\n",
        "d1 = date(2013,5,20)\n",
        "\n",
        "print(d1)\n",
        "\n",
        "print(type(d1))"
      ]
    },
    {
      "cell_type": "markdown",
      "source": [
        "## datetime.date\n",
        "\n",
        "La clase `datetime.date` tiene atributos para obtener el dia, mes y el año de la fecha."
      ],
      "metadata": {
        "id": "B81yBYAqHcQ_"
      }
    },
    {
      "cell_type": "code",
      "source": [
        "print(d1)\n",
        "\n",
        "#Dia\n",
        "print('Dia: ', d1.day)\n",
        "\n",
        "#Mes\n",
        "print('Mes: ', d1.month)\n",
        "\n",
        "#Año\n",
        "print('Año: ', d1.year)"
      ],
      "metadata": {
        "colab": {
          "base_uri": "https://localhost:8080/"
        },
        "id": "9ci0aLZuHb5R",
        "outputId": "684786e7-9bc3-4bb7-84b7-97cf379e2516"
      },
      "execution_count": null,
      "outputs": [
        {
          "output_type": "stream",
          "name": "stdout",
          "text": [
            "2013-05-20\n",
            "Dia:  20\n",
            "Mes:  5\n",
            "Año:  2013\n"
          ]
        }
      ]
    },
    {
      "cell_type": "markdown",
      "source": [
        "El metodo `date.today()` nos devuelve la fecha del dia"
      ],
      "metadata": {
        "id": "r8zsLM1PH51M"
      }
    },
    {
      "cell_type": "code",
      "source": [
        "d1 = date.today()\n",
        "print(d1)\n",
        "\n",
        "#Dia\n",
        "print('Dia: ', d1.day)\n",
        "\n",
        "#Mes\n",
        "print('Mes: ', d1.month)\n",
        "\n",
        "#Año\n",
        "print('Año: ', d1.year)"
      ],
      "metadata": {
        "colab": {
          "base_uri": "https://localhost:8080/"
        },
        "id": "7dKceI9nH2Y4",
        "outputId": "ef371b75-3ffa-4e91-b48a-623f91a186ff"
      },
      "execution_count": null,
      "outputs": [
        {
          "output_type": "stream",
          "name": "stdout",
          "text": [
            "2022-05-23\n",
            "Dia:  23\n",
            "Mes:  5\n",
            "Año:  2022\n"
          ]
        }
      ]
    },
    {
      "cell_type": "markdown",
      "source": [
        "## datetime.time\n",
        "\n",
        "Un objeto de clase `datetime.time` tiene atributos para obtener la hora, los minutos y segundos de una hora."
      ],
      "metadata": {
        "id": "1J726r3nIHLq"
      }
    },
    {
      "cell_type": "code",
      "source": [
        "from datetime import time\n",
        "\n",
        "t1 = time(15,20,13,40)\n",
        "\n",
        "print(t1)\n",
        "\n",
        "print(type(t1))"
      ],
      "metadata": {
        "colab": {
          "base_uri": "https://localhost:8080/"
        },
        "id": "gemOnKhkIU9F",
        "outputId": "99821e7a-8353-4911-819a-a1ef88e01b3a"
      },
      "execution_count": null,
      "outputs": [
        {
          "output_type": "stream",
          "name": "stdout",
          "text": [
            "15:20:13.000040\n",
            "<class 'datetime.time'>\n"
          ]
        }
      ]
    },
    {
      "cell_type": "code",
      "source": [
        "#Hora\n",
        "print('Hora: ', t1.hour)\n",
        "\n",
        "#Minuto\n",
        "print('Minuto: ', t1.minute)\n",
        "\n",
        "#Segundo\n",
        "print('Segundo: ', t1.second)\n",
        "\n",
        "#Microsegundo\n",
        "print('Microsegundo: ', t1.microsecond)"
      ],
      "metadata": {
        "colab": {
          "base_uri": "https://localhost:8080/"
        },
        "id": "IGV6LfwCIiTl",
        "outputId": "b7837b61-5388-4c24-8031-9092ec6df802"
      },
      "execution_count": null,
      "outputs": [
        {
          "output_type": "stream",
          "name": "stdout",
          "text": [
            "Hora:  15\n",
            "Minuto:  20\n",
            "Segundo:  13\n",
            "Microsegundo:  40\n"
          ]
        }
      ]
    },
    {
      "cell_type": "markdown",
      "source": [
        "## datetime.datetime\n",
        "\n",
        "La clase `datetime.datetime` contiene tanto la informacion de fecha como de hora."
      ],
      "metadata": {
        "id": "T5YdAkeDI3p5"
      }
    },
    {
      "cell_type": "code",
      "source": [
        "import datetime\n",
        "\n",
        "d1 = datetime.datetime.now()\n",
        "d1"
      ],
      "metadata": {
        "colab": {
          "base_uri": "https://localhost:8080/"
        },
        "id": "znwtTjCAI_hM",
        "outputId": "78b02315-4c6f-4a9d-9160-cd91e6c158a1"
      },
      "execution_count": null,
      "outputs": [
        {
          "output_type": "execute_result",
          "data": {
            "text/plain": [
              "datetime.datetime(2022, 5, 23, 18, 18, 23, 52953)"
            ]
          },
          "metadata": {},
          "execution_count": 7
        }
      ]
    },
    {
      "cell_type": "code",
      "source": [
        "d1 = datetime.datetime(2022, 5, 23, 18, 18, 23, 52953)\n",
        "\n",
        "print(d1)\n",
        "\n",
        "#Dia\n",
        "print('Dia: ', d1.day)\n",
        "\n",
        "#Mes\n",
        "print('Mes: ', d1.month)\n",
        "\n",
        "#Año\n",
        "print('Año: ', d1.year)\n",
        "\n",
        "\n",
        "#Hora\n",
        "print('----------------\\nHora: ', d1.hour)\n",
        "\n",
        "#Minuto\n",
        "print('Minuto: ', d1.minute)\n",
        "\n",
        "#Segundo\n",
        "print('Segundo: ', d1.second)\n",
        "\n",
        "#Microsegundo\n",
        "print('Microsegundo: ', d1.microsecond)\n"
      ],
      "metadata": {
        "colab": {
          "base_uri": "https://localhost:8080/"
        },
        "id": "0ncmv6UhJGMl",
        "outputId": "30acb89b-643f-41ec-8622-5aeef62c2124"
      },
      "execution_count": null,
      "outputs": [
        {
          "output_type": "stream",
          "name": "stdout",
          "text": [
            "2022-05-23 18:18:23.052953\n",
            "Dia:  23\n",
            "Mes:  5\n",
            "Año:  2022\n",
            "----------------\n",
            "Hora:  18\n",
            "Minuto:  18\n",
            "Segundo:  23\n",
            "Microsegundo:  52953\n"
          ]
        }
      ]
    },
    {
      "cell_type": "markdown",
      "source": [
        "## .weekday()\n",
        "\n",
        "Este metodo nos devuelve un numero correspondiente al dia de la semana.\n",
        "\n",
        "> __{Lunes: 0, Martes: 1, Miércoles:2, Jueves:3, Viernes:4, Sábado: 5, Domingo: 6}__"
      ],
      "metadata": {
        "id": "8b1i2c-PJlo0"
      }
    },
    {
      "cell_type": "code",
      "source": [
        "print(d1)\n",
        "print(d1.weekday())"
      ],
      "metadata": {
        "colab": {
          "base_uri": "https://localhost:8080/"
        },
        "id": "0osxzocbJvZd",
        "outputId": "7f955bec-86db-444d-c7e4-9c24ec993927"
      },
      "execution_count": null,
      "outputs": [
        {
          "output_type": "stream",
          "name": "stdout",
          "text": [
            "2022-05-23 18:18:23.052953\n",
            "0\n"
          ]
        }
      ]
    },
    {
      "cell_type": "code",
      "source": [
        "print(d1.isoweekday())"
      ],
      "metadata": {
        "colab": {
          "base_uri": "https://localhost:8080/"
        },
        "id": "mC48v7_OJzkR",
        "outputId": "fa07608b-27fd-4ea9-cf97-f0466710b329"
      },
      "execution_count": null,
      "outputs": [
        {
          "output_type": "stream",
          "name": "stdout",
          "text": [
            "1\n"
          ]
        }
      ]
    },
    {
      "cell_type": "markdown",
      "source": [
        "## .isocalendar\n",
        "\n",
        "### Este método nos devuelve una tupla (`valor_1`,`valor_2`,`valor_3`) que representa una fecha:\n",
        "+ `valor_1` indica el año en formato ISO.\n",
        "+ `valor_2` indica la semana del año en formato ISO.\n",
        "+ `valor_3` indica el día de la semana en formato ISO."
      ],
      "metadata": {
        "id": "Bhq0UaDoKRKs"
      }
    },
    {
      "cell_type": "code",
      "source": [
        "d1.isocalendar()"
      ],
      "metadata": {
        "colab": {
          "base_uri": "https://localhost:8080/"
        },
        "id": "dC8wUl0SKa-1",
        "outputId": "732e6728-1214-4928-f1c3-6aa06127d110"
      },
      "execution_count": null,
      "outputs": [
        {
          "output_type": "execute_result",
          "data": {
            "text/plain": [
              "(2022, 21, 1)"
            ]
          },
          "metadata": {},
          "execution_count": 14
        }
      ]
    },
    {
      "cell_type": "markdown",
      "source": [
        "## Obtener fechas con otros metodos."
      ],
      "metadata": {
        "id": "D45sWw0hKnQz"
      }
    },
    {
      "cell_type": "code",
      "source": [
        "d1_datetime = date.fromisoformat('2020-04-23')\n",
        "print(d1_datetime)\n",
        "print(type(d1_datetime))"
      ],
      "metadata": {
        "colab": {
          "base_uri": "https://localhost:8080/"
        },
        "id": "J8iWg6k6KrUI",
        "outputId": "7ce0620c-2496-45fe-bf11-1dcc9eddf792"
      },
      "execution_count": null,
      "outputs": [
        {
          "output_type": "stream",
          "name": "stdout",
          "text": [
            "2020-04-23\n",
            "<class 'datetime.date'>\n"
          ]
        }
      ]
    },
    {
      "cell_type": "code",
      "source": [
        "d1_ISO = date(2020,4,23).isoformat()\n",
        "print(d1_ISO)\n",
        "print(type(d1_ISO))"
      ],
      "metadata": {
        "colab": {
          "base_uri": "https://localhost:8080/"
        },
        "id": "Hf3JntE4K7qz",
        "outputId": "0e00de8c-04d9-4393-c793-742cdc333aec"
      },
      "execution_count": null,
      "outputs": [
        {
          "output_type": "stream",
          "name": "stdout",
          "text": [
            "2020-04-23\n",
            "<class 'str'>\n"
          ]
        }
      ]
    },
    {
      "cell_type": "markdown",
      "source": [
        "## *.strptime()*\n",
        "\n",
        " Este método nos permite leer una cadena de texto con una fecha en un formato indeterminado como un objeto de clase `.datetime`\n",
        "\n",
        "|Formatos|Descripción|\n",
        "|-------|-----------|\n",
        "|`%a`|Nombre del día de la semana abreviado|\n",
        "|`%A`|Nombre del día de la semana completo|\n",
        "|`%w`|Día de la semana como número decimal|\n",
        "|`%d`|Día del mes como número de dos dígitos|\n",
        "|`%-d`|Día del mes como número decimal|\n",
        "|`%b`|Nombre del mes abreviado|\n",
        "|`%B`|Nombre del mes completo|\n",
        "|`%m`|Mes del año número de dos dígitos|\n",
        "|`%-m`|Mes del año como número decimal|\n",
        "|`%y`|Año sin centenas como número de dos dígitos|\n",
        "|`%-y`|Año sin centenas como número decimal|\n",
        "|`%Y`|Año completo|\n",
        "|`%H`|Hora en 24 hrs. con dos dígitos|\n",
        "|`%-H`|Hora en 24 hrs. como número decimal|\n",
        "|`%I`|Hora en 12 hrs. con dos dígitos|\n",
        "|`%-I`|Hora en 12 hrs. como número decimal|\n",
        "|`%M`|Minutos con dos dígitos|\n",
        "|`%-M`|Minutos como número decimal|\n",
        "|`%S`|Segundos con dos dígitos|\n",
        "|`%-S`|Segundos como número decimal|"
      ],
      "metadata": {
        "id": "yF3TR-qmLNLK"
      }
    },
    {
      "cell_type": "code",
      "source": [
        "fecha = '22 April, 2020 13:20:13'\n",
        "\n",
        "d1 = datetime.datetime.strptime(fecha, '%d %B, %Y %H:%M:%S')\n",
        "\n",
        "print(d1)\n",
        "print(type(d1))"
      ],
      "metadata": {
        "colab": {
          "base_uri": "https://localhost:8080/"
        },
        "id": "9qRj-ankLG53",
        "outputId": "3733f285-ccd5-48dd-d28f-592fa8effb8c"
      },
      "execution_count": null,
      "outputs": [
        {
          "output_type": "stream",
          "name": "stdout",
          "text": [
            "2020-04-22 13:20:13\n",
            "<class 'datetime.datetime'>\n"
          ]
        }
      ]
    },
    {
      "cell_type": "markdown",
      "source": [
        "## datetime.timedelta\n",
        "\n",
        "La clase `timedelta` nos permite operar entre fechas."
      ],
      "metadata": {
        "id": "4IOYyne8MWoS"
      }
    },
    {
      "cell_type": "code",
      "source": [
        "d1 = datetime.datetime.now()\n",
        "\n",
        "print('Fecha de hoy: ', d1)"
      ],
      "metadata": {
        "colab": {
          "base_uri": "https://localhost:8080/"
        },
        "id": "r8GPGZENMeU9",
        "outputId": "7dbc2800-0291-4530-9c1b-7b0d43def5be"
      },
      "execution_count": null,
      "outputs": [
        {
          "output_type": "stream",
          "name": "stdout",
          "text": [
            "Fecha de hoy:  2022-05-23 18:33:44.373676\n"
          ]
        }
      ]
    },
    {
      "cell_type": "markdown",
      "source": [
        "Para obtener la fecha de pasada mañana realizamos una suma de fechas."
      ],
      "metadata": {
        "id": "3q5Ab5zvNDgP"
      }
    },
    {
      "cell_type": "code",
      "source": [
        "d2 = d1 + datetime.timedelta(days=2)\n",
        "print('Fecha: 2 dias a partir de hoy :', d2)"
      ],
      "metadata": {
        "colab": {
          "base_uri": "https://localhost:8080/"
        },
        "id": "gspcm_T6MlXx",
        "outputId": "19e74cb0-bbde-405f-af4e-608ba0d87a63"
      },
      "execution_count": null,
      "outputs": [
        {
          "output_type": "stream",
          "name": "stdout",
          "text": [
            "Fecha: 2 dias a partir de hoy : 2022-05-25 18:33:44.373676\n"
          ]
        }
      ]
    },
    {
      "cell_type": "code",
      "source": [
        "d3 = d1 + datetime.timedelta(weeks=2)\n",
        "print('Fecha: 2 semanas a partir de hoy :', d3)"
      ],
      "metadata": {
        "colab": {
          "base_uri": "https://localhost:8080/"
        },
        "id": "ooJx8HpUM0CB",
        "outputId": "f0887eac-0566-4ddc-d93f-69077d48d8d4"
      },
      "execution_count": null,
      "outputs": [
        {
          "output_type": "stream",
          "name": "stdout",
          "text": [
            "Fecha: 2 semanas a partir de hoy : 2022-06-06 18:33:44.373676\n"
          ]
        }
      ]
    },
    {
      "cell_type": "markdown",
      "source": [
        "Para obtener una fecha pasada debemos realizar uns substraccion."
      ],
      "metadata": {
        "id": "0CsygX_JNBxL"
      }
    },
    {
      "cell_type": "code",
      "source": [
        "d2 = d1 - datetime.timedelta(days=2)\n",
        "print('Fecha: 2 dias antes de hoy :', d2)\n",
        "\n",
        "d3 = d1 - datetime.timedelta(weeks=2)\n",
        "print('Fecha: 2 semanas antes de hoy :', d3)"
      ],
      "metadata": {
        "colab": {
          "base_uri": "https://localhost:8080/"
        },
        "id": "PLBqdRN1NZkA",
        "outputId": "c0dca36c-07b7-4390-9800-7fc62850cffe"
      },
      "execution_count": null,
      "outputs": [
        {
          "output_type": "stream",
          "name": "stdout",
          "text": [
            "Fecha: 2 dias antes de hoy : 2022-05-21 18:33:44.373676\n",
            "Fecha: 2 semanas antes de hoy : 2022-05-09 18:33:44.373676\n"
          ]
        }
      ]
    }
  ]
}