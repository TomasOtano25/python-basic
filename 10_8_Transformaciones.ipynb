{
  "nbformat": 4,
  "nbformat_minor": 0,
  "metadata": {
    "colab": {
      "name": "10.8 Transformaciones.ipynb",
      "provenance": [],
      "authorship_tag": "ABX9TyNKRBY2DZ5qvbuwUXZUR77v",
      "include_colab_link": true
    },
    "kernelspec": {
      "name": "python3",
      "display_name": "Python 3"
    },
    "language_info": {
      "name": "python"
    }
  },
  "cells": [
    {
      "cell_type": "markdown",
      "metadata": {
        "id": "view-in-github",
        "colab_type": "text"
      },
      "source": [
        "<a href=\"https://colab.research.google.com/github/TomasOtano25/python-basic/blob/main/10_8_Transformaciones.ipynb\" target=\"_parent\"><img src=\"https://colab.research.google.com/assets/colab-badge.svg\" alt=\"Open In Colab\"/></a>"
      ]
    },
    {
      "cell_type": "markdown",
      "source": [
        "# **10.8 Transformaciones**"
      ],
      "metadata": {
        "id": "wLtBG-dNR-p5"
      }
    },
    {
      "cell_type": "markdown",
      "source": [
        "## ***As Type***\n",
        "\n",
        "Este metodo nos permite modificar el tipo de dato de los valores de un `array`."
      ],
      "metadata": {
        "id": "or5DeTdJSCFX"
      }
    },
    {
      "cell_type": "code",
      "execution_count": 25,
      "metadata": {
        "colab": {
          "base_uri": "https://localhost:8080/"
        },
        "id": "HqofQ45jR93b",
        "outputId": "aa996593-065a-41b4-ba78-987a5923fce3"
      },
      "outputs": [
        {
          "output_type": "execute_result",
          "data": {
            "text/plain": [
              "array([[34, 37, 56],\n",
              "       [14, 90, 28],\n",
              "       [98, 48, 82],\n",
              "       [70, 48, 11]])"
            ]
          },
          "metadata": {},
          "execution_count": 25
        }
      ],
      "source": [
        "import numpy as np\n",
        "\n",
        "arr_ent = np.random.randint(100, size=(4, 3))\n",
        "arr_ent"
      ]
    },
    {
      "cell_type": "code",
      "source": [
        "arr_ent.astype(float)"
      ],
      "metadata": {
        "colab": {
          "base_uri": "https://localhost:8080/"
        },
        "id": "klhHFUZeSVIJ",
        "outputId": "a018e3a8-b3d9-4a36-f723-66901533f239"
      },
      "execution_count": 2,
      "outputs": [
        {
          "output_type": "execute_result",
          "data": {
            "text/plain": [
              "array([[51., 50., 33., 88.],\n",
              "       [24.,  1., 75., 59.],\n",
              "       [37., 52., 26., 92.]])"
            ]
          },
          "metadata": {},
          "execution_count": 2
        }
      ]
    },
    {
      "cell_type": "markdown",
      "source": [
        "## ***Sort***\n",
        "\n",
        "Este metodo nos permite ordenar los valores de un `array`."
      ],
      "metadata": {
        "id": "LnhEEG_vScC_"
      }
    },
    {
      "cell_type": "code",
      "source": [
        "arr_ent"
      ],
      "metadata": {
        "colab": {
          "base_uri": "https://localhost:8080/"
        },
        "id": "7xXSK_NeSuLH",
        "outputId": "b1279195-bc7c-418e-9bc1-3034bff7cce8"
      },
      "execution_count": 3,
      "outputs": [
        {
          "output_type": "execute_result",
          "data": {
            "text/plain": [
              "array([[51, 50, 33, 88],\n",
              "       [24,  1, 75, 59],\n",
              "       [37, 52, 26, 92]])"
            ]
          },
          "metadata": {},
          "execution_count": 3
        }
      ]
    },
    {
      "cell_type": "code",
      "source": [
        "arr_ent.sort() # Ordena fila x fila\n",
        "arr_ent"
      ],
      "metadata": {
        "colab": {
          "base_uri": "https://localhost:8080/"
        },
        "id": "ABDi8Or5Sv7Y",
        "outputId": "7b0b06e4-9b19-4be8-c5f9-0894f5f0a611"
      },
      "execution_count": 6,
      "outputs": [
        {
          "output_type": "execute_result",
          "data": {
            "text/plain": [
              "array([[33, 50, 51, 88],\n",
              "       [ 1, 24, 59, 75],\n",
              "       [26, 37, 52, 92]])"
            ]
          },
          "metadata": {},
          "execution_count": 6
        }
      ]
    },
    {
      "cell_type": "code",
      "source": [
        "arr_ent.sort(axis=0)\n",
        "arr_ent"
      ],
      "metadata": {
        "colab": {
          "base_uri": "https://localhost:8080/"
        },
        "id": "MpTZuH6_Sxz3",
        "outputId": "c8cdadf6-dd1d-4d53-d267-310ad10b3bb3"
      },
      "execution_count": 7,
      "outputs": [
        {
          "output_type": "execute_result",
          "data": {
            "text/plain": [
              "array([[ 1, 24, 51, 75],\n",
              "       [26, 37, 52, 88],\n",
              "       [33, 50, 59, 92]])"
            ]
          },
          "metadata": {},
          "execution_count": 7
        }
      ]
    },
    {
      "cell_type": "markdown",
      "source": [
        "## ***Reshape***\n",
        "\n",
        "Este metodo nos permite modificar las dimensiones de un `array`."
      ],
      "metadata": {
        "id": "gS_PCk04TRfe"
      }
    },
    {
      "cell_type": "code",
      "source": [
        "arr_ent"
      ],
      "metadata": {
        "colab": {
          "base_uri": "https://localhost:8080/"
        },
        "id": "oQpGBk-zTjiP",
        "outputId": "fad570ad-ff1a-41b3-a8b4-8212ac14d48a"
      },
      "execution_count": 8,
      "outputs": [
        {
          "output_type": "execute_result",
          "data": {
            "text/plain": [
              "array([[ 1, 24, 51, 75],\n",
              "       [26, 37, 52, 88],\n",
              "       [33, 50, 59, 92]])"
            ]
          },
          "metadata": {},
          "execution_count": 8
        }
      ]
    },
    {
      "cell_type": "code",
      "source": [
        "# reshape(filas, columnas)\n",
        "arr_ent = arr_ent.reshape(6, 2)\n",
        "arr_ent"
      ],
      "metadata": {
        "colab": {
          "base_uri": "https://localhost:8080/"
        },
        "id": "TqfDRTHGTlpW",
        "outputId": "38e10523-dd66-4b2f-e5af-2e29f95b367c"
      },
      "execution_count": 10,
      "outputs": [
        {
          "output_type": "execute_result",
          "data": {
            "text/plain": [
              "array([[ 1, 24],\n",
              "       [51, 75],\n",
              "       [26, 37],\n",
              "       [52, 88],\n",
              "       [33, 50],\n",
              "       [59, 92]])"
            ]
          },
          "metadata": {},
          "execution_count": 10
        }
      ]
    },
    {
      "cell_type": "markdown",
      "source": [
        "## ***Flatten*** (Aplanar)\n",
        "\n",
        "Este metodo crea un array unidemensional desde el original."
      ],
      "metadata": {
        "id": "SYaKbsr-T2kw"
      }
    },
    {
      "cell_type": "code",
      "source": [
        "plano_arr = arr_ent.flatten()\n",
        "\n",
        "print(arr_ent)\n",
        "print(plano_arr)"
      ],
      "metadata": {
        "colab": {
          "base_uri": "https://localhost:8080/"
        },
        "id": "wh3WgalDTyn3",
        "outputId": "51e610bb-058c-4a71-a1f0-af3d535e9716"
      },
      "execution_count": 17,
      "outputs": [
        {
          "output_type": "stream",
          "name": "stdout",
          "text": [
            "[[ 1 24]\n",
            " [51 75]\n",
            " [26 37]\n",
            " [52 88]\n",
            " [33 50]\n",
            " [59 92]]\n",
            "[ 1 24 51 75 26 37 52 88 33 50 59 92]\n"
          ]
        }
      ]
    },
    {
      "cell_type": "markdown",
      "source": [
        "## ***To List***\n",
        "\n",
        "Este metodo crea una lista a partir de un array"
      ],
      "metadata": {
        "id": "1ueYp8NBURxD"
      }
    },
    {
      "cell_type": "code",
      "source": [
        "lista_arr = plano_arr.tolist()\n",
        "lista_arr\n",
        "type(lista_arr)"
      ],
      "metadata": {
        "colab": {
          "base_uri": "https://localhost:8080/"
        },
        "id": "V1uk4CppUaLv",
        "outputId": "b73a8d42-d234-4449-8e2d-1eb64548cdf5"
      },
      "execution_count": 13,
      "outputs": [
        {
          "output_type": "execute_result",
          "data": {
            "text/plain": [
              "list"
            ]
          },
          "metadata": {},
          "execution_count": 13
        }
      ]
    },
    {
      "cell_type": "markdown",
      "source": [
        "## ***Separar y juntar arrays***"
      ],
      "metadata": {
        "id": "KVIQQtwmUkks"
      }
    },
    {
      "cell_type": "code",
      "source": [
        "arrays = np.split(arr_ent, 4)\n",
        "arrays"
      ],
      "metadata": {
        "colab": {
          "base_uri": "https://localhost:8080/"
        },
        "id": "-drgaTRBUj0O",
        "outputId": "844a94e2-16ac-499b-9e1a-296532a73d80"
      },
      "execution_count": 26,
      "outputs": [
        {
          "output_type": "execute_result",
          "data": {
            "text/plain": [
              "[array([[34, 37, 56]]),\n",
              " array([[14, 90, 28]]),\n",
              " array([[98, 48, 82]]),\n",
              " array([[70, 48, 11]])]"
            ]
          },
          "metadata": {},
          "execution_count": 26
        }
      ]
    },
    {
      "cell_type": "code",
      "source": [
        "np.concatenate((arrays[1], arrays[0]), axis=1)"
      ],
      "metadata": {
        "colab": {
          "base_uri": "https://localhost:8080/"
        },
        "id": "k-WaXk9WVN_W",
        "outputId": "d9b8b2e0-b36e-4ddd-93d5-d7293373d46a"
      },
      "execution_count": 23,
      "outputs": [
        {
          "output_type": "execute_result",
          "data": {
            "text/plain": [
              "array([[ 4, 28, 50, 55, 87, 49, 24, 16]])"
            ]
          },
          "metadata": {},
          "execution_count": 23
        }
      ]
    },
    {
      "cell_type": "markdown",
      "source": [
        "## ***La matriz transpuesta***"
      ],
      "metadata": {
        "id": "l4--pBkxVeYE"
      }
    },
    {
      "cell_type": "code",
      "source": [
        "arr_ent"
      ],
      "metadata": {
        "colab": {
          "base_uri": "https://localhost:8080/"
        },
        "id": "GXKKQzyDVk8x",
        "outputId": "7e099157-194f-4116-9263-32691b9f53ed"
      },
      "execution_count": 27,
      "outputs": [
        {
          "output_type": "execute_result",
          "data": {
            "text/plain": [
              "array([[34, 37, 56],\n",
              "       [14, 90, 28],\n",
              "       [98, 48, 82],\n",
              "       [70, 48, 11]])"
            ]
          },
          "metadata": {},
          "execution_count": 27
        }
      ]
    },
    {
      "cell_type": "code",
      "source": [
        "t_arr = arr_ent.T\n",
        "t_arr"
      ],
      "metadata": {
        "colab": {
          "base_uri": "https://localhost:8080/"
        },
        "id": "SaHHDk2nVm4R",
        "outputId": "f77c9b4d-ec01-44c5-a09a-cf46929c9779"
      },
      "execution_count": 28,
      "outputs": [
        {
          "output_type": "execute_result",
          "data": {
            "text/plain": [
              "array([[34, 14, 98, 70],\n",
              "       [37, 90, 48, 48],\n",
              "       [56, 28, 82, 11]])"
            ]
          },
          "metadata": {},
          "execution_count": 28
        }
      ]
    }
  ]
}