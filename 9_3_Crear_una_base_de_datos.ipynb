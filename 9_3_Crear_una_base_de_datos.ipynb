{
  "nbformat": 4,
  "nbformat_minor": 0,
  "metadata": {
    "colab": {
      "name": "9.3 Crear una base de datos.ipynb",
      "provenance": [],
      "authorship_tag": "ABX9TyN5k5L1j1CzvRpv/FoxPprv",
      "include_colab_link": true
    },
    "kernelspec": {
      "name": "python3",
      "display_name": "Python 3"
    },
    "language_info": {
      "name": "python"
    }
  },
  "cells": [
    {
      "cell_type": "markdown",
      "metadata": {
        "id": "view-in-github",
        "colab_type": "text"
      },
      "source": [
        "<a href=\"https://colab.research.google.com/github/TomasOtano25/python-basic/blob/main/9_3_Crear_una_base_de_datos.ipynb\" target=\"_parent\"><img src=\"https://colab.research.google.com/assets/colab-badge.svg\" alt=\"Open In Colab\"/></a>"
      ]
    },
    {
      "cell_type": "markdown",
      "source": [
        "# 9.3 Crear una base de datos"
      ],
      "metadata": {
        "id": "wQd-WuSN5Svl"
      }
    },
    {
      "cell_type": "markdown",
      "source": [
        "Demos empezar por importar el modulo *sqlite3*."
      ],
      "metadata": {
        "id": "tbOy0rGq5xLw"
      }
    },
    {
      "cell_type": "code",
      "execution_count": null,
      "metadata": {
        "id": "uQOnOlf5xNIQ"
      },
      "outputs": [],
      "source": [
        "import sqlite3"
      ]
    },
    {
      "cell_type": "markdown",
      "source": [
        "Creamos una conexion a la base de datos"
      ],
      "metadata": {
        "id": "ubQtnLKT5lnU"
      }
    },
    {
      "cell_type": "code",
      "source": [
        "conexion = sqlite3.connect(\"ejemplo.db\")"
      ],
      "metadata": {
        "id": "zIMKhuAZ5Yzv"
      },
      "execution_count": null,
      "outputs": []
    },
    {
      "cell_type": "markdown",
      "source": [
        "Para crear una tabla, creamos una variable de tipo cursor."
      ],
      "metadata": {
        "id": "b8wsudj456d-"
      }
    },
    {
      "cell_type": "code",
      "source": [
        "conexion = sqlite3.connect(\"ejemplo.db\")\n",
        "\n",
        "#Creamos el cursor\n",
        "cursor = conexion.cursor()\n",
        "\n",
        "conexion.close()"
      ],
      "metadata": {
        "id": "FdMVyhVm5gcM"
      },
      "execution_count": null,
      "outputs": []
    }
  ]
}