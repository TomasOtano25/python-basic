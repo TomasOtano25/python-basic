{
  "nbformat": 4,
  "nbformat_minor": 0,
  "metadata": {
    "colab": {
      "name": "10.3 Algebra lineal.ipynb",
      "provenance": [],
      "authorship_tag": "ABX9TyPC2dko9ECNJ7uDNSA/85Py",
      "include_colab_link": true
    },
    "kernelspec": {
      "name": "python3",
      "display_name": "Python 3"
    },
    "language_info": {
      "name": "python"
    }
  },
  "cells": [
    {
      "cell_type": "markdown",
      "metadata": {
        "id": "view-in-github",
        "colab_type": "text"
      },
      "source": [
        "<a href=\"https://colab.research.google.com/github/TomasOtano25/python-basic/blob/main/10_3_Algebra_lineal.ipynb\" target=\"_parent\"><img src=\"https://colab.research.google.com/assets/colab-badge.svg\" alt=\"Open In Colab\"/></a>"
      ]
    },
    {
      "cell_type": "markdown",
      "source": [
        "# 10.3 Algebra lineal"
      ],
      "metadata": {
        "id": "E4rTo208fgD-"
      }
    },
    {
      "cell_type": "markdown",
      "source": [
        "## ***Producto de array***"
      ],
      "metadata": {
        "id": "xwAN3_EUgCLh"
      }
    },
    {
      "cell_type": "code",
      "execution_count": 2,
      "metadata": {
        "colab": {
          "base_uri": "https://localhost:8080/"
        },
        "id": "RTIuD3G-efZc",
        "outputId": "5255f04c-94e8-40ff-85ca-c66120c28e5e"
      },
      "outputs": [
        {
          "output_type": "execute_result",
          "data": {
            "text/plain": [
              "5.0"
            ]
          },
          "metadata": {},
          "execution_count": 2
        }
      ],
      "source": [
        "import numpy as np\n",
        "\n",
        "a = np.array([1,2,3], float)\n",
        "b = np.array([0,1,1], float)\n",
        "\n",
        "np.dot(b, a)"
      ]
    },
    {
      "cell_type": "code",
      "source": [
        "a.dot(b)"
      ],
      "metadata": {
        "colab": {
          "base_uri": "https://localhost:8080/"
        },
        "id": "HNMpwQmtf7MB",
        "outputId": "ced6479a-3879-47d9-9f26-b12010f39df5"
      },
      "execution_count": 3,
      "outputs": [
        {
          "output_type": "execute_result",
          "data": {
            "text/plain": [
              "5.0"
            ]
          },
          "metadata": {},
          "execution_count": 3
        }
      ]
    },
    {
      "cell_type": "code",
      "source": [
        "a = np.array([[5, 2], [4, 8]], float)\n",
        "b = np.array([[2, 4], [5, 3]], float)\n",
        "\n",
        "print(a, \"\\n ----------------\")\n",
        "print(b, \"\\n ----------------\")\n",
        "\n",
        "# El producto de arreglos en fila x columna"
      ],
      "metadata": {
        "colab": {
          "base_uri": "https://localhost:8080/"
        },
        "id": "6x_7wX2qgHre",
        "outputId": "50c03511-2cf0-46fa-a360-5aba8848f48a"
      },
      "execution_count": 8,
      "outputs": [
        {
          "output_type": "stream",
          "name": "stdout",
          "text": [
            "[[5. 2.]\n",
            " [4. 8.]] \n",
            " ----------------\n",
            "[[2. 4.]\n",
            " [5. 3.]] \n",
            " ----------------\n"
          ]
        }
      ]
    },
    {
      "cell_type": "code",
      "source": [
        "np.dot(a, b)"
      ],
      "metadata": {
        "colab": {
          "base_uri": "https://localhost:8080/"
        },
        "id": "pfSK8d98gmJR",
        "outputId": "41fc6a52-da52-47de-f492-5f33de479b37"
      },
      "execution_count": 7,
      "outputs": [
        {
          "output_type": "execute_result",
          "data": {
            "text/plain": [
              "array([[20., 26.],\n",
              "       [48., 40.]])"
            ]
          },
          "metadata": {},
          "execution_count": 7
        }
      ]
    },
    {
      "cell_type": "code",
      "source": [
        "a @ b"
      ],
      "metadata": {
        "colab": {
          "base_uri": "https://localhost:8080/"
        },
        "id": "JdGAJlyTheu9",
        "outputId": "b06e462c-3283-467d-d437-de4d9ffe6068"
      },
      "execution_count": 9,
      "outputs": [
        {
          "output_type": "execute_result",
          "data": {
            "text/plain": [
              "array([[20., 26.],\n",
              "       [48., 40.]])"
            ]
          },
          "metadata": {},
          "execution_count": 9
        }
      ]
    },
    {
      "cell_type": "code",
      "source": [
        "a = np.array([[0, 1, 4], [5, 2, 3], [1, 4, 8]], float)\n",
        "\n",
        "b = np.array([2, 3, 5], float)\n",
        "\n",
        "print(a, \"\\n ----------------\")\n",
        "print(b, \"\\n ----------------\")"
      ],
      "metadata": {
        "colab": {
          "base_uri": "https://localhost:8080/"
        },
        "id": "T0MWIFlThkkU",
        "outputId": "9649941c-59af-4d25-9b53-b10f17f572cd"
      },
      "execution_count": 13,
      "outputs": [
        {
          "output_type": "stream",
          "name": "stdout",
          "text": [
            "[[0. 1. 4.]\n",
            " [5. 2. 3.]\n",
            " [1. 4. 8.]] \n",
            " ----------------\n",
            "[2. 3. 5.] \n",
            " ----------------\n"
          ]
        }
      ]
    },
    {
      "cell_type": "code",
      "source": [
        "np.dot(a, b)"
      ],
      "metadata": {
        "colab": {
          "base_uri": "https://localhost:8080/"
        },
        "id": "__Rbz2BfiAMO",
        "outputId": "66905dfd-6ae7-4511-ad9d-f70f3acc4c1a"
      },
      "execution_count": 14,
      "outputs": [
        {
          "output_type": "execute_result",
          "data": {
            "text/plain": [
              "array([23., 31., 54.])"
            ]
          },
          "metadata": {},
          "execution_count": 14
        }
      ]
    },
    {
      "cell_type": "code",
      "source": [
        "b @ a"
      ],
      "metadata": {
        "colab": {
          "base_uri": "https://localhost:8080/"
        },
        "id": "ST2rJwdIiCLw",
        "outputId": "ca079afd-9fd7-444b-8cdc-bfec566bc320"
      },
      "execution_count": 19,
      "outputs": [
        {
          "output_type": "execute_result",
          "data": {
            "text/plain": [
              "array([20., 28., 57.])"
            ]
          },
          "metadata": {},
          "execution_count": 19
        }
      ]
    },
    {
      "cell_type": "code",
      "source": [
        "print(np.matmul(a, b))"
      ],
      "metadata": {
        "colab": {
          "base_uri": "https://localhost:8080/"
        },
        "id": "tPTlyN4FiVvf",
        "outputId": "7c172ce2-6f83-4609-b0a0-87d10040ceaf"
      },
      "execution_count": 18,
      "outputs": [
        {
          "output_type": "stream",
          "name": "stdout",
          "text": [
            "[23. 31. 54.]\n"
          ]
        }
      ]
    },
    {
      "cell_type": "markdown",
      "source": [
        "## ***Determinante de una matriz***"
      ],
      "metadata": {
        "id": "9C6WWVLMildE"
      }
    },
    {
      "cell_type": "code",
      "source": [
        "a = np.array([[8, 5], [3, 4]])\n",
        "print(a, \"\\n ----------------\")\n",
        "\n",
        "np.linalg.det(a)\n",
        "# El calculo de una determinante se hace multiplicando los valores 8 * 4 - 5 * 3"
      ],
      "metadata": {
        "colab": {
          "base_uri": "https://localhost:8080/"
        },
        "id": "BMP0JQTWitzQ",
        "outputId": "bc5a08a2-3774-4267-d134-1171195d4e35"
      },
      "execution_count": 20,
      "outputs": [
        {
          "output_type": "stream",
          "name": "stdout",
          "text": [
            "[[8 5]\n",
            " [3 4]] \n",
            " ----------------\n"
          ]
        },
        {
          "output_type": "execute_result",
          "data": {
            "text/plain": [
              "17.0"
            ]
          },
          "metadata": {},
          "execution_count": 20
        }
      ]
    },
    {
      "cell_type": "markdown",
      "source": [
        "# ***Auto-valores y auto-vectores***"
      ],
      "metadata": {
        "id": "CI2eTWFTjtAw"
      }
    },
    {
      "cell_type": "code",
      "source": [
        "vals, vecs = np.linalg.eig(a)\n",
        "\n",
        "print(vals, \"\\n ----------------\")\n",
        "print(vecs, \"\\n ----------------\")"
      ],
      "metadata": {
        "colab": {
          "base_uri": "https://localhost:8080/"
        },
        "id": "SnD5TAPxjD_E",
        "outputId": "99f49ce7-b955-4ece-a5fb-5333c3935baf"
      },
      "execution_count": 21,
      "outputs": [
        {
          "output_type": "stream",
          "name": "stdout",
          "text": [
            "[10.35889894  1.64110106] \n",
            " ----------------\n",
            "[[ 0.90440309 -0.61810602]\n",
            " [ 0.4266791   0.78609474]] \n",
            " ----------------\n"
          ]
        }
      ]
    }
  ]
}