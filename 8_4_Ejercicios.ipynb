{
  "nbformat": 4,
  "nbformat_minor": 0,
  "metadata": {
    "colab": {
      "name": "8.4 Ejercicios.ipynb",
      "provenance": [],
      "collapsed_sections": [],
      "authorship_tag": "ABX9TyORy/DDRyaLyAqYqkPad980",
      "include_colab_link": true
    },
    "kernelspec": {
      "name": "python3",
      "display_name": "Python 3"
    },
    "language_info": {
      "name": "python"
    }
  },
  "cells": [
    {
      "cell_type": "markdown",
      "metadata": {
        "id": "view-in-github",
        "colab_type": "text"
      },
      "source": [
        "<a href=\"https://colab.research.google.com/github/TomasOtano25/python-basic/blob/main/8_4_Ejercicios.ipynb\" target=\"_parent\"><img src=\"https://colab.research.google.com/assets/colab-badge.svg\" alt=\"Open In Colab\"/></a>"
      ]
    },
    {
      "cell_type": "markdown",
      "source": [
        "# 8.4 Ejercicios\n",
        "\n",
        "## 1) Crea una superclase llamada Vehículo cuyos atributos sean Color y Ruedas. Redefine el método _str_ para que devuelva por pantalla:\n",
        "> __Color: {El color del vehículo}, {Cantidad de ruedas} ruedas__. \n",
        "### Crea una subclase llamada Carro y agrega los atributos Velocidad, Cilindraje. Redefine el método _str_ para que devuelva por pantalla \n",
        "> __Color: {El color del vehículo}, {Velocidad} Km/h, {Cantidad de ruedas} ruedas, {Cilindraje} cc\".__"
      ],
      "metadata": {
        "id": "9CCOvCm8cDIk"
      }
    },
    {
      "cell_type": "code",
      "execution_count": 2,
      "metadata": {
        "id": "yYwlxRNgb9OZ"
      },
      "outputs": [],
      "source": [
        "class Vehiculo:\n",
        "\n",
        "  def __init__(self,color,ruedas):\n",
        "    self.color = color\n",
        "    self.ruedas = ruedas\n",
        "  \n",
        "  def __str__(self):\n",
        "    return f'Color: {self.color}, {self.ruedas} ruedas'\n",
        "\n",
        "class Carro(Vehiculo):\n",
        "\n",
        "  def __init__(self, color, ruedas, velocidad, cilindraje):\n",
        "    self.color = color\n",
        "    self.ruedas = ruedas\n",
        "    self.velocidad = velocidad\n",
        "    self.cilindraje = cilindraje\n",
        "\n",
        "  def __str__(self):\n",
        "    return f'Color: {self.color}, {self.velocidad} Km/h, {self.ruedas} ruedas, {self.cilindraje} cc'"
      ]
    },
    {
      "cell_type": "code",
      "source": [
        "toyota = Carro(\"azul\", 4, 150, 1200)\n",
        "print(toyota)"
      ],
      "metadata": {
        "colab": {
          "base_uri": "https://localhost:8080/"
        },
        "id": "X18q24Whc351",
        "outputId": "a4dc5d51-147f-4c00-ac7d-d7f7021dde02"
      },
      "execution_count": 3,
      "outputs": [
        {
          "output_type": "stream",
          "name": "stdout",
          "text": [
            "Color: azul, 150 Km/h, 4 ruedas, 1200 cc\n"
          ]
        }
      ]
    },
    {
      "cell_type": "code",
      "source": [
        "class Vehiculo:\n",
        "\n",
        "  def __init__(self,color,ruedas):\n",
        "    self.color = color\n",
        "    self.ruedas = ruedas\n",
        "  \n",
        "  def __str__(self):\n",
        "    return f'Color: {self.color}, {self.ruedas} ruedas'\n",
        "\n",
        "class Carro(Vehiculo):\n",
        "\n",
        "  def __init__(self, color, ruedas, velocidad, cilindraje):\n",
        "    Vehiculo.__init__(self, color, ruedas)\n",
        "    self.velocidad = velocidad\n",
        "    self.cilindraje = cilindraje\n",
        "\n",
        "  def __str__(self):\n",
        "    return f'{Vehiculo.__str__(self)}, {self.velocidad} Km/h, {self.cilindraje} cc'"
      ],
      "metadata": {
        "id": "nqG0V4sXd7vA"
      },
      "execution_count": 12,
      "outputs": []
    },
    {
      "cell_type": "code",
      "source": [
        "toyota = Carro(\"azul\", 4, 150, 1200)\n",
        "print(toyota)"
      ],
      "metadata": {
        "colab": {
          "base_uri": "https://localhost:8080/"
        },
        "id": "jJnjHfcKeHtZ",
        "outputId": "c64884cc-d319-4396-e195-6615488675b9"
      },
      "execution_count": 13,
      "outputs": [
        {
          "output_type": "stream",
          "name": "stdout",
          "text": [
            "Color: azul, 4 ruedas, 150 Km/h, 1200 cc\n"
          ]
        }
      ]
    },
    {
      "cell_type": "markdown",
      "source": [
        "## 2) Extiende las subclases siguiendo el siguiente esquema:\n",
        "\n",
        "<img src=\"https://pbs.twimg.com/media/EloOi68XYAEPK8u?format=png&name=900x900\">\n",
        "\n",
        "> PROTIP: Utiliza la función super()\n",
        "\n",
        "+ Crea al menos un objeto de cada subclase y añádelos a una lista llamada Vehiculos.\n",
        "+ Define una función llamada catalogar() que reciba un argumento optativo ruedas. La idea es que muestre únicamente los vehiculos cuyo número de ruedas coincida con el valor del argumento. Debe mostrar el siguiente mensaje solo si se envía el argumento ruedas:\n",
        "> __Se han encontrado {} vehículos con {} ruedas:__"
      ],
      "metadata": {
        "id": "VK1ZSM45fjDB"
      }
    },
    {
      "cell_type": "code",
      "source": [
        "class Vehiculo:\n",
        "\n",
        "  def __init__(self,color,ruedas):\n",
        "    self.color = color\n",
        "    self.ruedas = ruedas\n",
        "  \n",
        "  def __str__(self):\n",
        "    return f'Color: {self.color}, {self.ruedas} ruedas'\n",
        "\n",
        "class Carro(Vehiculo):\n",
        "\n",
        "  def __init__(self, color, ruedas, velocidad, cilindraje):\n",
        "    super().__init__(color, ruedas) # Utilizamos super()\n",
        "    self.velocidad = velocidad\n",
        "    self.cilindraje = cilindraje\n",
        "\n",
        "  def __str__(self):\n",
        "    return f'{super().__str__()}, {self.velocidad} Km/h, {self.cilindraje} cc'\n",
        "\n",
        "class Camioneta(Carro):\n",
        "\n",
        "  def __init__(self, color, ruedas, velocidad, cilindraje, carga):\n",
        "    super().__init__(color, ruedas, velocidad, cilindraje)\n",
        "    self.carga = carga\n",
        "\n",
        "  def __str__(self):\n",
        "    return f'{super().__str__()}, {self.carga} Kg de carga'\n",
        "\n",
        "class Bicicleta(Vehiculo):\n",
        "  def __init__(self, color, ruedas, tipo):\n",
        "    super().__init__(color, ruedas) # Utilizamos super()\n",
        "    self.tipo = tipo\n",
        "\n",
        "  def __str__(self):\n",
        "    return f'{super().__str__()}, {self.tipo}'\n",
        "\n",
        "class Motocicleta(Bicicleta):\n",
        "\n",
        "  def __init__(self, color, ruedas, tipo, velocidad, cilindraje):\n",
        "    super().__init__(color, ruedas, tipo)\n",
        "    self.velocidad = velocidad\n",
        "    self.cilindraje = cilindraje\n",
        "\n",
        "  def __str__(self):\n",
        "    return f'{super().__str__()}, {self.velocidad} Km/h, {self.cilindraje} cc'\n",
        "\n",
        "\n",
        "def catalogar(vehiculos, ruedas=None):\n",
        "\n",
        "  if ruedas != None:\n",
        "    contador = 0\n",
        "    for v in vehiculos:\n",
        "      if v.ruedas == ruedas:\n",
        "        contador += 1\n",
        "    print('\\n Se han encontrado {} vehiculos con {} ruedas'.format(contador, ruedas))\n",
        "\n",
        "  for v in vehiculos:\n",
        "    if ruedas == None:\n",
        "      print(type(v).__name__, v)\n",
        "    else:\n",
        "      if v.ruedas == ruedas:\n",
        "        print(type(v).__name__,v)\n",
        "\n",
        "\n",
        "vehiculos = [\n",
        "    Carro(\"Azul\", 4, 150, 1200),\n",
        "    Camioneta(\"Blanco\", 4, 100, 1300, 1500),\n",
        "    Bicicleta(\"Verde\", 2, \"urbana\"),\n",
        "    Motocicleta(\"Negro\", 2, \"deportiva\", 180, 900)\n",
        "]"
      ],
      "metadata": {
        "id": "z6Y6NlbGfiMT"
      },
      "execution_count": 29,
      "outputs": []
    },
    {
      "cell_type": "code",
      "source": [
        "catalogar(vehiculos)"
      ],
      "metadata": {
        "colab": {
          "base_uri": "https://localhost:8080/"
        },
        "id": "A1rrsdgIgTbw",
        "outputId": "6761276e-4a11-4c42-f693-184d0a728209"
      },
      "execution_count": 30,
      "outputs": [
        {
          "output_type": "stream",
          "name": "stdout",
          "text": [
            "Carro Color: Azul, 4 ruedas, 150 Km/h, 1200 cc\n",
            "Camioneta Color: Blanco, 4 ruedas, 100 Km/h, 1300 cc, 1500 Kg de carga\n",
            "Bicicleta Color: Verde, 2 ruedas, urbana\n",
            "Motocicleta Color: Negro, 2 ruedas, deportiva, 180 Km/h, 900 cc\n"
          ]
        }
      ]
    },
    {
      "cell_type": "code",
      "source": [
        "catalogar(vehiculos, 0)\n",
        "catalogar(vehiculos, 2)\n",
        "catalogar(vehiculos, 4)"
      ],
      "metadata": {
        "colab": {
          "base_uri": "https://localhost:8080/"
        },
        "id": "6cGSVop0j9Gw",
        "outputId": "684bc80a-eef4-4c36-d30b-27fb6f31f8ab"
      },
      "execution_count": 33,
      "outputs": [
        {
          "output_type": "stream",
          "name": "stdout",
          "text": [
            "\n",
            " Se han encontrado 0 vehiculos con 0 ruedas\n",
            "\n",
            " Se han encontrado 2 vehiculos con 2 ruedas\n",
            "Bicicleta Color: Verde, 2 ruedas, urbana\n",
            "Motocicleta Color: Negro, 2 ruedas, deportiva, 180 Km/h, 900 cc\n",
            "\n",
            " Se han encontrado 2 vehiculos con 4 ruedas\n",
            "Carro Color: Azul, 4 ruedas, 150 Km/h, 1200 cc\n",
            "Camioneta Color: Blanco, 4 ruedas, 100 Km/h, 1300 cc, 1500 Kg de carga\n"
          ]
        }
      ]
    }
  ]
}