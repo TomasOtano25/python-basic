{
  "nbformat": 4,
  "nbformat_minor": 0,
  "metadata": {
    "colab": {
      "name": "11.1 Crear Series.ipynb",
      "provenance": [],
      "authorship_tag": "ABX9TyOiZB3Q97yww2INPZjeLczf",
      "include_colab_link": true
    },
    "kernelspec": {
      "name": "python3",
      "display_name": "Python 3"
    },
    "language_info": {
      "name": "python"
    }
  },
  "cells": [
    {
      "cell_type": "markdown",
      "metadata": {
        "id": "view-in-github",
        "colab_type": "text"
      },
      "source": [
        "<a href=\"https://colab.research.google.com/github/TomasOtano25/python-basic/blob/main/11_1_Crear_Series.ipynb\" target=\"_parent\"><img src=\"https://colab.research.google.com/assets/colab-badge.svg\" alt=\"Open In Colab\"/></a>"
      ]
    },
    {
      "cell_type": "markdown",
      "source": [
        "# 11.1 Crear Series\n",
        "\n",
        "## Pandas\n",
        "\n",
        "`pandas` es una librería que proporciona herramientas analíticas y estructuras de datos con alto rendimiento y facilidad de uso. \n",
        "\n",
        "\n",
        "En particular, la clase `DataFrame` es útil para representación y manipulación de datos heterogéneos tabulados (hojas de cálculo, tabla SQL, etc.)  \n",
        "\n",
        "### Características:\n",
        "\n",
        "- Ofrece estructuras de datos flexibles y expresivas diseñadas para trabajar con datos tabulados y etiquetados, esta son: `Series` y  `DataFrame`.\n",
        "- Posee herramientas robustas de lectura/escritura de datos desde ficheros con formatos conocidos como: CSV, XLS. SQL, HDF5, entre otros.\n",
        "- Permite filtrar, agregar, o eliminar datos.\n",
        "- Combina las características de las matrices de alto rendimiento de `numpy` con capacidades de manipulación de datos tabulados.\n",
        "\n",
        "\n",
        "Para importar los modulos de la libreria `pandas`, por convencion se utiliza:"
      ],
      "metadata": {
        "id": "saeWH4ID90_r"
      }
    },
    {
      "cell_type": "code",
      "execution_count": 3,
      "metadata": {
        "id": "tpCMsaEW90US"
      },
      "outputs": [],
      "source": [
        "import numpy as np\n",
        "import pandas as pd"
      ]
    },
    {
      "cell_type": "markdown",
      "source": [
        "## Series\n",
        "\n",
        "Las funcionalidades de `pandas` se basan en dos estructuras de datos fundamentales: Series y DataFrames\n",
        "\n",
        "Una `Serie` es un objeto que contiene un `array` unidimensional de datos y un `array` de etiquetas, conocido como _indice_. Si no se especifica un indice o etiquera, este se genera internamente como una secuencia ordenada de numeros enteros.\n",
        "\n",
        "``` \n",
        "s = pd.Series(data, index=index)\n",
        "```\n"
      ],
      "metadata": {
        "id": "92Ab45yp-Upg"
      }
    },
    {
      "cell_type": "code",
      "source": [
        "# Crear una Serie con indice automaticos\n",
        "serie = pd.Series([1976,1980, 1981, 1985])\n",
        "serie"
      ],
      "metadata": {
        "colab": {
          "base_uri": "https://localhost:8080/"
        },
        "id": "EwxH8VDs-UD2",
        "outputId": "19dee610-abe5-4b78-a544-d6cf936d6d16"
      },
      "execution_count": 5,
      "outputs": [
        {
          "output_type": "execute_result",
          "data": {
            "text/plain": [
              "0    1976\n",
              "1    1980\n",
              "2    1981\n",
              "3    1985\n",
              "dtype: int64"
            ]
          },
          "metadata": {},
          "execution_count": 5
        }
      ]
    },
    {
      "cell_type": "code",
      "source": [
        "serie.values.sum()"
      ],
      "metadata": {
        "colab": {
          "base_uri": "https://localhost:8080/"
        },
        "id": "HKehlt0UAAYx",
        "outputId": "0fcae91a-b0de-496b-e034-a17d293ff4d5"
      },
      "execution_count": 8,
      "outputs": [
        {
          "output_type": "execute_result",
          "data": {
            "text/plain": [
              "7922"
            ]
          },
          "metadata": {},
          "execution_count": 8
        }
      ]
    },
    {
      "cell_type": "code",
      "source": [
        "serie.index"
      ],
      "metadata": {
        "colab": {
          "base_uri": "https://localhost:8080/"
        },
        "id": "EBsWB2F_AH9b",
        "outputId": "d46b0c4b-b456-47c4-cc5e-186a645c162d"
      },
      "execution_count": 9,
      "outputs": [
        {
          "output_type": "execute_result",
          "data": {
            "text/plain": [
              "RangeIndex(start=0, stop=4, step=1)"
            ]
          },
          "metadata": {},
          "execution_count": 9
        }
      ]
    },
    {
      "cell_type": "markdown",
      "source": [
        "### Podemos definir explicitamente un `array` indice y pasarlo como argumento."
      ],
      "metadata": {
        "id": "CspRKE_iAUar"
      }
    },
    {
      "cell_type": "code",
      "source": [
        "serie = pd.Series([1989, 1990, 1991, 1992, 1993], index=['daniela', 'valentina', 'andrea', 'sherezade', 'genesis'])\n",
        "serie"
      ],
      "metadata": {
        "colab": {
          "base_uri": "https://localhost:8080/"
        },
        "id": "gcUKdflEANTa",
        "outputId": "40a82a2b-6181-4c72-a5ef-e2f01fc0b0a3"
      },
      "execution_count": 10,
      "outputs": [
        {
          "output_type": "execute_result",
          "data": {
            "text/plain": [
              "daniela      1989\n",
              "valentina    1990\n",
              "andrea       1991\n",
              "sherezade    1992\n",
              "genesis      1993\n",
              "dtype: int64"
            ]
          },
          "metadata": {},
          "execution_count": 10
        }
      ]
    },
    {
      "cell_type": "code",
      "source": [
        "serie.index"
      ],
      "metadata": {
        "colab": {
          "base_uri": "https://localhost:8080/"
        },
        "id": "7E-jAglaAsPT",
        "outputId": "fef11c3d-d93c-4e06-8a52-c73045f8d0f6"
      },
      "execution_count": 11,
      "outputs": [
        {
          "output_type": "execute_result",
          "data": {
            "text/plain": [
              "Index(['daniela', 'valentina', 'andrea', 'sherezade', 'genesis'], dtype='object')"
            ]
          },
          "metadata": {},
          "execution_count": 11
        }
      ]
    },
    {
      "cell_type": "markdown",
      "source": [
        "### Tambien se puede crear `Series` a partir de diccionarios, `arrays`, etc."
      ],
      "metadata": {
        "id": "BzE6J2JJAwqr"
      }
    },
    {
      "cell_type": "code",
      "source": [
        "serie = pd.Series(np.random.rand(10))\n",
        "serie"
      ],
      "metadata": {
        "colab": {
          "base_uri": "https://localhost:8080/"
        },
        "id": "OlP2nugzA8te",
        "outputId": "37598c5d-62df-493f-b8ca-6277ddc7c449"
      },
      "execution_count": 13,
      "outputs": [
        {
          "output_type": "execute_result",
          "data": {
            "text/plain": [
              "0    0.914701\n",
              "1    0.961098\n",
              "2    0.790122\n",
              "3    0.538839\n",
              "4    0.113238\n",
              "5    0.374600\n",
              "6    0.596520\n",
              "7    0.873070\n",
              "8    0.684941\n",
              "9    0.912049\n",
              "dtype: float64"
            ]
          },
          "metadata": {},
          "execution_count": 13
        }
      ]
    },
    {
      "cell_type": "code",
      "source": [
        "dicci = { 'cuadrado de {}'.format(i) : i*i for i in range(11) }\n",
        "dicci"
      ],
      "metadata": {
        "colab": {
          "base_uri": "https://localhost:8080/"
        },
        "id": "Xw7otsq_BJ7G",
        "outputId": "461490df-2216-4fb1-d5c7-bcd52381cba1"
      },
      "execution_count": 15,
      "outputs": [
        {
          "output_type": "execute_result",
          "data": {
            "text/plain": [
              "{'cuadrado de 0': 0,\n",
              " 'cuadrado de 1': 1,\n",
              " 'cuadrado de 10': 100,\n",
              " 'cuadrado de 2': 4,\n",
              " 'cuadrado de 3': 9,\n",
              " 'cuadrado de 4': 16,\n",
              " 'cuadrado de 5': 25,\n",
              " 'cuadrado de 6': 36,\n",
              " 'cuadrado de 7': 49,\n",
              " 'cuadrado de 8': 64,\n",
              " 'cuadrado de 9': 81}"
            ]
          },
          "metadata": {},
          "execution_count": 15
        }
      ]
    },
    {
      "cell_type": "code",
      "source": [
        "serie_dic = pd.Series(dicci)\n",
        "serie_dic"
      ],
      "metadata": {
        "colab": {
          "base_uri": "https://localhost:8080/"
        },
        "id": "qd0vqthPBnW_",
        "outputId": "2a0d7ff2-220c-46d9-8e27-855339f39488"
      },
      "execution_count": 17,
      "outputs": [
        {
          "output_type": "execute_result",
          "data": {
            "text/plain": [
              "cuadrado de 0       0\n",
              "cuadrado de 1       1\n",
              "cuadrado de 2       4\n",
              "cuadrado de 3       9\n",
              "cuadrado de 4      16\n",
              "cuadrado de 5      25\n",
              "cuadrado de 6      36\n",
              "cuadrado de 7      49\n",
              "cuadrado de 8      64\n",
              "cuadrado de 9      81\n",
              "cuadrado de 10    100\n",
              "dtype: int64"
            ]
          },
          "metadata": {},
          "execution_count": 17
        }
      ]
    }
  ]
}