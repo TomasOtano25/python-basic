{
  "nbformat": 4,
  "nbformat_minor": 0,
  "metadata": {
    "colab": {
      "name": "7.4 Metodos especiales.ipynb",
      "provenance": [],
      "collapsed_sections": [],
      "authorship_tag": "ABX9TyNenMVCsjaTAyPKyiFtZJXr",
      "include_colab_link": true
    },
    "kernelspec": {
      "name": "python3",
      "display_name": "Python 3"
    },
    "language_info": {
      "name": "python"
    }
  },
  "cells": [
    {
      "cell_type": "markdown",
      "metadata": {
        "id": "view-in-github",
        "colab_type": "text"
      },
      "source": [
        "<a href=\"https://colab.research.google.com/github/TomasOtano25/python-basic/blob/main/7_4_Metodos_especiales.ipynb\" target=\"_parent\"><img src=\"https://colab.research.google.com/assets/colab-badge.svg\" alt=\"Open In Colab\"/></a>"
      ]
    },
    {
      "cell_type": "markdown",
      "source": [
        "# **7.4 Metodos especiales**"
      ],
      "metadata": {
        "id": "dHVKJPDzQh0s"
      }
    },
    {
      "cell_type": "markdown",
      "source": [
        "## El constructor de clase"
      ],
      "metadata": {
        "id": "-jKs_u6KQksU"
      }
    },
    {
      "cell_type": "code",
      "execution_count": null,
      "metadata": {
        "colab": {
          "base_uri": "https://localhost:8080/"
        },
        "id": "JhLkDJ1yQgHE",
        "outputId": "ae206fda-9104-4af1-8553-5c1d96195913"
      },
      "outputs": [
        {
          "output_type": "stream",
          "name": "stdout",
          "text": [
            "Se creo el video The Avengers\n"
          ]
        }
      ],
      "source": [
        "class Video():\n",
        "\n",
        "  def __init__(self,titulo,duracion,lanzamiento):\n",
        "    self.titulo = titulo\n",
        "    self.duracion = duracion\n",
        "    self.lanzamiento = lanzamiento\n",
        "    print('Se creo el video', self.titulo)\n",
        "\n",
        "v = Video('The Avengers',143,2012)"
      ]
    },
    {
      "cell_type": "code",
      "source": [
        "v.duracion"
      ],
      "metadata": {
        "colab": {
          "base_uri": "https://localhost:8080/"
        },
        "id": "sJlF-72dRF3X",
        "outputId": "77353fc7-dbec-4a4e-a040-846e76f02eb3"
      },
      "execution_count": null,
      "outputs": [
        {
          "output_type": "execute_result",
          "data": {
            "text/plain": [
              "143"
            ]
          },
          "metadata": {},
          "execution_count": 5
        }
      ]
    },
    {
      "cell_type": "markdown",
      "source": [
        "## El destructor de clase"
      ],
      "metadata": {
        "id": "eCu6OklCRLue"
      }
    },
    {
      "cell_type": "code",
      "source": [
        "class Video():\n",
        "\n",
        "  def __init__(self,titulo,duracion,lanzamiento):\n",
        "    self.titulo = titulo\n",
        "    self.duracion = duracion\n",
        "    self.lanzamiento = lanzamiento\n",
        "    print('Se creo el video', self.titulo)\n",
        "\n",
        "  def __del__(self):\n",
        "    print('Se elimino el video', self.titulo)\n",
        "\n",
        "v = Video('The Avengers',143,2012)"
      ],
      "metadata": {
        "colab": {
          "base_uri": "https://localhost:8080/"
        },
        "id": "dwHDcQpTRQeO",
        "outputId": "657340bb-2ec4-4456-c591-ee1f22d0db49"
      },
      "execution_count": null,
      "outputs": [
        {
          "output_type": "stream",
          "name": "stdout",
          "text": [
            "Se creo el video The Avengers\n"
          ]
        }
      ]
    },
    {
      "cell_type": "code",
      "source": [
        "del(v)"
      ],
      "metadata": {
        "colab": {
          "base_uri": "https://localhost:8080/"
        },
        "id": "aZ7PrRGvRhlm",
        "outputId": "ceab3593-f28c-46f2-84d7-e745604cc690"
      },
      "execution_count": null,
      "outputs": [
        {
          "output_type": "stream",
          "name": "stdout",
          "text": [
            "Se elimino el video The Avengers\n"
          ]
        }
      ]
    },
    {
      "cell_type": "markdown",
      "source": [
        "## Metodos str() y len()"
      ],
      "metadata": {
        "id": "mdPm7QCyRzys"
      }
    },
    {
      "cell_type": "code",
      "source": [
        "v = Video('The Avengers',143,2012)"
      ],
      "metadata": {
        "colab": {
          "base_uri": "https://localhost:8080/"
        },
        "id": "oD2MnC97R5ka",
        "outputId": "8ca587fe-6b88-4689-e53f-bc7a8701c730"
      },
      "execution_count": null,
      "outputs": [
        {
          "output_type": "stream",
          "name": "stdout",
          "text": [
            "Se creo el video The Avengers\n"
          ]
        }
      ]
    },
    {
      "cell_type": "code",
      "source": [
        "str(v)"
      ],
      "metadata": {
        "colab": {
          "base_uri": "https://localhost:8080/",
          "height": 35
        },
        "id": "IS_hPtdZR_BE",
        "outputId": "6f004352-800c-4794-8e6f-259725d0b9b4"
      },
      "execution_count": null,
      "outputs": [
        {
          "output_type": "execute_result",
          "data": {
            "text/plain": [
              "'<__main__.Video object at 0x7f6cc362b910>'"
            ],
            "application/vnd.google.colaboratory.intrinsic+json": {
              "type": "string"
            }
          },
          "metadata": {},
          "execution_count": 12
        }
      ]
    },
    {
      "cell_type": "code",
      "source": [
        "class Video():\n",
        "\n",
        "  def __init__(self,titulo,duracion,lanzamiento):\n",
        "    self.titulo = titulo\n",
        "    self.duracion = duracion\n",
        "    self.lanzamiento = lanzamiento\n",
        "    print('Se creo el video', self.titulo)\n",
        "\n",
        "  def __del__(self):\n",
        "    print('Se elimino el video', self.titulo)\n",
        "\n",
        "  # Redefinimos str para que muestre la informacion del video\n",
        "  def __str__(self):\n",
        "    return f'{self.titulo} publicado en {self.lanzamiento} con una duracion de {self.duracion} minutos'\n",
        "\n",
        "c = Video('Black Panther',134,2018)"
      ],
      "metadata": {
        "colab": {
          "base_uri": "https://localhost:8080/"
        },
        "id": "BcJmBAUQSELY",
        "outputId": "f64d7dbb-c546-4694-fe80-64e3d10a6d1f"
      },
      "execution_count": 25,
      "outputs": [
        {
          "output_type": "stream",
          "name": "stdout",
          "text": [
            "Se creo el video Black Panther\n"
          ]
        }
      ]
    },
    {
      "cell_type": "code",
      "source": [
        "str(c)"
      ],
      "metadata": {
        "colab": {
          "base_uri": "https://localhost:8080/",
          "height": 35
        },
        "id": "xUGULzjNS96X",
        "outputId": "7aedd565-0f0d-4437-bc13-75ad55daf932"
      },
      "execution_count": 26,
      "outputs": [
        {
          "output_type": "execute_result",
          "data": {
            "text/plain": [
              "'Black Panther publicado en 2018 con una duracion de 134 minutos'"
            ],
            "application/vnd.google.colaboratory.intrinsic+json": {
              "type": "string"
            }
          },
          "metadata": {},
          "execution_count": 26
        }
      ]
    },
    {
      "cell_type": "code",
      "source": [
        "len(c)"
      ],
      "metadata": {
        "colab": {
          "base_uri": "https://localhost:8080/",
          "height": 165
        },
        "id": "tM6bkOfoTKac",
        "outputId": "8e717821-a700-4805-a6fe-31c310422618"
      },
      "execution_count": 27,
      "outputs": [
        {
          "output_type": "error",
          "ename": "TypeError",
          "evalue": "ignored",
          "traceback": [
            "\u001b[0;31m---------------------------------------------------------------------------\u001b[0m",
            "\u001b[0;31mTypeError\u001b[0m                                 Traceback (most recent call last)",
            "\u001b[0;32m<ipython-input-27-821a70939e36>\u001b[0m in \u001b[0;36m<module>\u001b[0;34m()\u001b[0m\n\u001b[0;32m----> 1\u001b[0;31m \u001b[0mlen\u001b[0m\u001b[0;34m(\u001b[0m\u001b[0mc\u001b[0m\u001b[0;34m)\u001b[0m\u001b[0;34m\u001b[0m\u001b[0;34m\u001b[0m\u001b[0m\n\u001b[0m",
            "\u001b[0;31mTypeError\u001b[0m: object of type 'Video' has no len()"
          ]
        }
      ]
    },
    {
      "cell_type": "code",
      "source": [
        "class Video():\n",
        "\n",
        "  def __init__(self,titulo,duracion,lanzamiento):\n",
        "    self.titulo = titulo\n",
        "    self.duracion = duracion\n",
        "    self.lanzamiento = lanzamiento\n",
        "    print('Se creo el video', self.titulo)\n",
        "\n",
        "  # Redefinimos str para que muestre la informacion del video\n",
        "  def __str__(self):\n",
        "    return f'{self.titulo} publicado en {self.lanzamiento} con una duracion de {self.duracion} minutos'\n",
        "\n",
        "  def __len__(self):\n",
        "    return self.duracion\n",
        "  \n",
        "  def __del__(self):\n",
        "    print('Se elimino el video', self.titulo)"
      ],
      "metadata": {
        "id": "V_GHX3MHTXgn"
      },
      "execution_count": 37,
      "outputs": []
    },
    {
      "cell_type": "code",
      "source": [
        "v = Video('The Avengers',143,2012)\n",
        "\n",
        "c = Video('Black Panther',134,2018)"
      ],
      "metadata": {
        "colab": {
          "base_uri": "https://localhost:8080/"
        },
        "id": "l6zvieKmTgHr",
        "outputId": "5c457778-4633-44c4-ec7a-52898ad6743a"
      },
      "execution_count": 34,
      "outputs": [
        {
          "output_type": "stream",
          "name": "stdout",
          "text": [
            "Se creo el video The Avengers\n",
            "Se creo el video Black Panther\n",
            "Se elimino el video The Avengers\n",
            "Se elimino el video Black Panther\n"
          ]
        }
      ]
    },
    {
      "cell_type": "code",
      "source": [
        "str(v)"
      ],
      "metadata": {
        "colab": {
          "base_uri": "https://localhost:8080/",
          "height": 35
        },
        "id": "7riWeS3QTwe_",
        "outputId": "89521f70-a27f-4dfc-c3a8-8b3b7f6583bd"
      },
      "execution_count": 38,
      "outputs": [
        {
          "output_type": "execute_result",
          "data": {
            "text/plain": [
              "'The Avengers publicado en 2012 con una duracion de 143 minutos'"
            ],
            "application/vnd.google.colaboratory.intrinsic+json": {
              "type": "string"
            }
          },
          "metadata": {},
          "execution_count": 38
        }
      ]
    },
    {
      "cell_type": "code",
      "source": [
        "len(v)"
      ],
      "metadata": {
        "colab": {
          "base_uri": "https://localhost:8080/"
        },
        "id": "USeSFeY_UG4U",
        "outputId": "05fd06ca-df0c-4dbb-9879-9a16aa426905"
      },
      "execution_count": 39,
      "outputs": [
        {
          "output_type": "execute_result",
          "data": {
            "text/plain": [
              "143"
            ]
          },
          "metadata": {},
          "execution_count": 39
        }
      ]
    },
    {
      "cell_type": "code",
      "source": [
        "len(c)"
      ],
      "metadata": {
        "colab": {
          "base_uri": "https://localhost:8080/"
        },
        "id": "ePXoiyBOUI3T",
        "outputId": "eb84f4a0-032a-4ac2-fc33-9a2e518c6bdf"
      },
      "execution_count": 40,
      "outputs": [
        {
          "output_type": "execute_result",
          "data": {
            "text/plain": [
              "134"
            ]
          },
          "metadata": {},
          "execution_count": 40
        }
      ]
    }
  ]
}