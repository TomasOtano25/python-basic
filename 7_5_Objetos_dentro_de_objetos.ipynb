{
  "nbformat": 4,
  "nbformat_minor": 0,
  "metadata": {
    "colab": {
      "name": "7.5 Objetos dentro de objetos.ipynb",
      "provenance": [],
      "authorship_tag": "ABX9TyNNcQwuwI4e886A515X+AdP",
      "include_colab_link": true
    },
    "kernelspec": {
      "name": "python3",
      "display_name": "Python 3"
    },
    "language_info": {
      "name": "python"
    }
  },
  "cells": [
    {
      "cell_type": "markdown",
      "metadata": {
        "id": "view-in-github",
        "colab_type": "text"
      },
      "source": [
        "<a href=\"https://colab.research.google.com/github/TomasOtano25/python-basic/blob/main/7_5_Objetos_dentro_de_objetos.ipynb\" target=\"_parent\"><img src=\"https://colab.research.google.com/assets/colab-badge.svg\" alt=\"Open In Colab\"/></a>"
      ]
    },
    {
      "cell_type": "markdown",
      "source": [
        "# 7.5 Objetos dentro de objetos"
      ],
      "metadata": {
        "id": "IKeNLIt8Uoeq"
      }
    },
    {
      "cell_type": "code",
      "execution_count": 8,
      "metadata": {
        "id": "CY9NDjxQUnZe"
      },
      "outputs": [],
      "source": [
        "class Videojuego:\n",
        "\n",
        "  # Constructor de clase\n",
        "  def __init__(self,titulo,genero,lanzamiento):\n",
        "    self.titulo = titulo\n",
        "    self.genero = genero\n",
        "    self.lanzamiento = lanzamiento\n",
        "    print('Se creo el videojuego:', self.titulo)\n",
        "  \n",
        "  def __str__(self):\n",
        "    return '{} ({})'.format(self.titulo, self.lanzamiento)"
      ]
    },
    {
      "cell_type": "code",
      "source": [
        "vj = Videojuego(\"The Last of Us\", \"Accion\", 2013)\n",
        "str(vj)"
      ],
      "metadata": {
        "colab": {
          "base_uri": "https://localhost:8080/",
          "height": 53
        },
        "id": "O68sbofbVDtz",
        "outputId": "b39f58d8-2fa8-4a5d-e597-6dc79795f75f"
      },
      "execution_count": 9,
      "outputs": [
        {
          "output_type": "stream",
          "name": "stdout",
          "text": [
            "Se creo el videojuego: The Last of Us\n"
          ]
        },
        {
          "output_type": "execute_result",
          "data": {
            "text/plain": [
              "'The Last of Us (2013)'"
            ],
            "application/vnd.google.colaboratory.intrinsic+json": {
              "type": "string"
            }
          },
          "metadata": {},
          "execution_count": 9
        }
      ]
    },
    {
      "cell_type": "code",
      "source": [
        "class Catalogo:\n",
        "\n",
        "  vjuegos = []\n",
        "\n",
        "  def __init__(self, vjuegos=[]):\n",
        "    self.vjuegos = vjuegos\n",
        "  \n",
        "  def agregar(self, v):\n",
        "    self.vjuegos.append(v)\n",
        "  \n",
        "  def mostrar(self):\n",
        "    for v in self.vjuegos:\n",
        "      print(v) # Print toma por defecto str(v)"
      ],
      "metadata": {
        "id": "JhgK20ViVVZ1"
      },
      "execution_count": 12,
      "outputs": []
    },
    {
      "cell_type": "code",
      "source": [
        "vi = Videojuego(\"The Last of Us Part II\", \"Accion\", 2020)"
      ],
      "metadata": {
        "colab": {
          "base_uri": "https://localhost:8080/"
        },
        "id": "AMYGeIS1WnI0",
        "outputId": "bc0d1912-76a7-4940-8336-eb9d397820fe"
      },
      "execution_count": 13,
      "outputs": [
        {
          "output_type": "stream",
          "name": "stdout",
          "text": [
            "Se creo el videojuego: The Last of Us Part II\n"
          ]
        }
      ]
    },
    {
      "cell_type": "code",
      "source": [
        "c = Catalogo([vj,vi])"
      ],
      "metadata": {
        "id": "bPtGuaf2WyzK"
      },
      "execution_count": 15,
      "outputs": []
    },
    {
      "cell_type": "code",
      "source": [
        "c.mostrar()"
      ],
      "metadata": {
        "colab": {
          "base_uri": "https://localhost:8080/"
        },
        "id": "tG55tH18W6lS",
        "outputId": "7609ce21-a94c-43ea-f528-d8cb8beeab29"
      },
      "execution_count": 16,
      "outputs": [
        {
          "output_type": "stream",
          "name": "stdout",
          "text": [
            "The Last of Us (2013)\n",
            "The Last of Us Part II (2020)\n"
          ]
        }
      ]
    },
    {
      "cell_type": "code",
      "source": [
        "c.agregar(Videojuego(\"Pokemon\", \"RPG\", 1996))"
      ],
      "metadata": {
        "colab": {
          "base_uri": "https://localhost:8080/"
        },
        "id": "O2nps022W-32",
        "outputId": "28803c55-497b-4b79-8ec0-56d0bf882470"
      },
      "execution_count": 17,
      "outputs": [
        {
          "output_type": "stream",
          "name": "stdout",
          "text": [
            "Se creo el videojuego: Pokemon\n"
          ]
        }
      ]
    },
    {
      "cell_type": "code",
      "source": [
        "c.mostrar()"
      ],
      "metadata": {
        "colab": {
          "base_uri": "https://localhost:8080/"
        },
        "id": "FLjPmhqCW-y9",
        "outputId": "48fe85b6-253e-4297-9b59-c404bcfa52bc"
      },
      "execution_count": 18,
      "outputs": [
        {
          "output_type": "stream",
          "name": "stdout",
          "text": [
            "The Last of Us (2013)\n",
            "The Last of Us Part II (2020)\n",
            "Pokemon (1996)\n"
          ]
        }
      ]
    }
  ]
}