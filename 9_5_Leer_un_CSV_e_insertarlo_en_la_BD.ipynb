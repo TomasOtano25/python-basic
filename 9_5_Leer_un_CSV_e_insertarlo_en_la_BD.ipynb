{
  "nbformat": 4,
  "nbformat_minor": 0,
  "metadata": {
    "colab": {
      "name": "9.5 Leer un CSV e insertarlo en la BD.ipynb",
      "provenance": [],
      "collapsed_sections": [],
      "authorship_tag": "ABX9TyOQs/f0HfUex62Ut4jPoSeZ",
      "include_colab_link": true
    },
    "kernelspec": {
      "name": "python3",
      "display_name": "Python 3"
    },
    "language_info": {
      "name": "python"
    }
  },
  "cells": [
    {
      "cell_type": "markdown",
      "metadata": {
        "id": "view-in-github",
        "colab_type": "text"
      },
      "source": [
        "<a href=\"https://colab.research.google.com/github/TomasOtano25/python-basic/blob/main/9_5_Leer_un_CSV_e_insertarlo_en_la_BD.ipynb\" target=\"_parent\"><img src=\"https://colab.research.google.com/assets/colab-badge.svg\" alt=\"Open In Colab\"/></a>"
      ]
    },
    {
      "cell_type": "markdown",
      "source": [
        "# 9.5 Leer un CSV e insertarlo en la BD"
      ],
      "metadata": {
        "id": "WFXRJNijCLn5"
      }
    },
    {
      "cell_type": "code",
      "source": [
        "import sqlite3"
      ],
      "metadata": {
        "id": "_lFeQNwLCc5L"
      },
      "execution_count": 2,
      "outputs": []
    },
    {
      "cell_type": "code",
      "source": [
        "conexion = sqlite3.connect(\"ejemplo.db\")\n",
        "cursor = conexion.cursor()\n",
        "\n",
        "#Creamos una tabla llamada Estudiantes\n",
        "cursor.execute(\"CREATE TABLE estudiantes (email VARCHAR(100), carrera VARCHAR(100), nombre VARCHAR(100), edad INTEGER)\")\n",
        "\n",
        "conexion.close()"
      ],
      "metadata": {
        "id": "vz0thPE1CcZI"
      },
      "execution_count": 3,
      "outputs": []
    },
    {
      "cell_type": "code",
      "source": [
        "conexion = sqlite3.connect(\"ejemplo.db\")\n",
        "cursor = conexion.cursor()\n",
        "\n",
        "usuarios = [\n",
        "    ('tomasotano25@gmail.com', 'Artes', 'Sharon', 27),\n",
        "    ('lollipopbusiness@vip.com', 'Contaduria', 'Rosana', 60),\n",
        "    ('solfernandez@googlemail.com', 'Estadistica', 'Sol', 30)\n",
        "]\n",
        "\n",
        "cursor.executemany(\"INSERT INTO estudiantes VALUES (?,?,?,?)\", usuarios)\n",
        "\n",
        "conexion.commit()\n",
        "\n",
        "conexion.close()"
      ],
      "metadata": {
        "id": "pOL0TRfRCYoq"
      },
      "execution_count": 4,
      "outputs": []
    },
    {
      "cell_type": "code",
      "source": [
        "import csv\n",
        "\n",
        "conexion = sqlite3.connect(\"ejemplo.db\")\n",
        "cursor = conexion.cursor()\n",
        "\n",
        "f = open(\"/content/datos_db.txt\", \"w\")\n",
        "\n",
        "writer = csv.writer(f)\n",
        "\n",
        "#Seleccionamos todos los registros en la tabla\n",
        "cursor.execute(\"SELECT * FROM estudiantes\")\n",
        "\n",
        "usuarios = cursor.fetchall()\n",
        "\n",
        "for u in usuarios:\n",
        "  writer.writerow(u)\n",
        "  \n",
        "conexion.close()\n",
        "f.close()"
      ],
      "metadata": {
        "id": "VSJeYu-uENQV"
      },
      "execution_count": 7,
      "outputs": []
    },
    {
      "cell_type": "code",
      "execution_count": 9,
      "metadata": {
        "colab": {
          "base_uri": "https://localhost:8080/"
        },
        "id": "boObn5bmCDBl",
        "outputId": "0f083cb5-c2cd-480c-c545-0980eab01cdc"
      },
      "outputs": [
        {
          "output_type": "stream",
          "name": "stdout",
          "text": [
            "[('tomasotano25@gmail.com', 'Artes', 'Sharon', 27), ('lollipopbusiness@vip.com', 'Contaduria', 'Rosana', 60), ('solfernandez@googlemail.com', 'Estadistica', 'Sol', 30), ('tomasotano25@gmail.com', 'Artes', 'Sharon', 27), ('lollipopbusiness@vip.com', 'Contaduria', 'Rosana', 60), ('solfernandez@googlemail.com', 'Estadistica', 'Sol', 30), ('tomasotano25@gmail.com', 'Artes', 'Sharon', 27), ('lollipopbusiness@vip.com', 'Contaduria', 'Rosana', 60), ('solfernandez@googlemail.com', 'Estadistica', 'Sol', 30)]\n"
          ]
        }
      ],
      "source": [
        "import sqlite3\n",
        "import csv\n",
        "\n",
        "conexion = sqlite3.connect(\"ejemplo.db\")\n",
        "cursor = conexion.cursor()\n",
        "\n",
        "archivo = open(\"/content/datos_db.txt\")\n",
        "\n",
        "filas = csv.reader(archivo)\n",
        "\n",
        "cursor.executemany(\"INSERT INTO estudiantes VALUES (?,?,?,?)\", filas)\n",
        "\n",
        "cursor.execute(\"SELECT * from  estudiantes\")\n",
        "\n",
        "print(cursor.fetchall())\n",
        "\n",
        "conexion.commit()\n",
        "conexion.close()\n"
      ]
    }
  ]
}