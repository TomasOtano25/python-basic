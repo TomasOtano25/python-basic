{
  "nbformat": 4,
  "nbformat_minor": 0,
  "metadata": {
    "colab": {
      "name": "8.2 Multiherencia.ipynb",
      "provenance": [],
      "authorship_tag": "ABX9TyMsixEgS39RruQTlihp7TyM",
      "include_colab_link": true
    },
    "kernelspec": {
      "name": "python3",
      "display_name": "Python 3"
    },
    "language_info": {
      "name": "python"
    }
  },
  "cells": [
    {
      "cell_type": "markdown",
      "metadata": {
        "id": "view-in-github",
        "colab_type": "text"
      },
      "source": [
        "<a href=\"https://colab.research.google.com/github/TomasOtano25/python-basic/blob/main/8_2_Multiherencia.ipynb\" target=\"_parent\"><img src=\"https://colab.research.google.com/assets/colab-badge.svg\" alt=\"Open In Colab\"/></a>"
      ]
    },
    {
      "cell_type": "markdown",
      "source": [
        "# 8.2 Multiherencia\n",
        "\n",
        "La multiherencia, o referencia multiple, hace referencia a que en Python existe la posibilidad de que una subclase herede de varias superclases a la vez."
      ],
      "metadata": {
        "id": "vbnPeQJLzx0t"
      }
    },
    {
      "cell_type": "code",
      "execution_count": 5,
      "metadata": {
        "id": "l55WC9gCzopz"
      },
      "outputs": [],
      "source": [
        "class A:\n",
        "  def __init__(self):\n",
        "    print(\"Soy de clase A\")\n",
        "\n",
        "class B:\n",
        "  def __init__(self):\n",
        "    print(\"Soy de clase B\")\n"
      ]
    },
    {
      "cell_type": "code",
      "source": [
        "class C(A,B):\n",
        "  pass"
      ],
      "metadata": {
        "id": "u2qaiXfg0D0I"
      },
      "execution_count": 4,
      "outputs": []
    },
    {
      "cell_type": "code",
      "source": [
        "objeto_1 = A()\n",
        "objeto_2 = B()\n",
        "objeto_3 = C()"
      ],
      "metadata": {
        "colab": {
          "base_uri": "https://localhost:8080/"
        },
        "id": "Ew0SNOvs0Ybl",
        "outputId": "f8304e72-9022-4885-ca6a-367e1492d0c2"
      },
      "execution_count": 8,
      "outputs": [
        {
          "output_type": "stream",
          "name": "stdout",
          "text": [
            "Soy de clase A\n",
            "Soy de clase B\n",
            "Soy de clase A\n"
          ]
        }
      ]
    },
    {
      "cell_type": "markdown",
      "source": [
        "Cuando las superclases tienen metodos/atributos iguales, Python da prioridad a las superclases que estan mas a la izquierda en la declaracion de argumentos"
      ],
      "metadata": {
        "id": "6mI3fia70pHR"
      }
    },
    {
      "cell_type": "code",
      "source": [
        "class C(B, A):\n",
        "  pass"
      ],
      "metadata": {
        "id": "vOduoW9201b6"
      },
      "execution_count": 9,
      "outputs": []
    },
    {
      "cell_type": "code",
      "source": [
        "c = C()"
      ],
      "metadata": {
        "colab": {
          "base_uri": "https://localhost:8080/"
        },
        "id": "DbvlN0rJ06JJ",
        "outputId": "d8a4f0cf-88a7-467a-9a96-55ea04931f18"
      },
      "execution_count": 10,
      "outputs": [
        {
          "output_type": "stream",
          "name": "stdout",
          "text": [
            "Soy de clase B\n"
          ]
        }
      ]
    },
    {
      "cell_type": "code",
      "source": [
        "class A:\n",
        "  def __init__(self):\n",
        "    print(\"Soy de clase A\")\n",
        "  def metodo_a(self):\n",
        "    print(\"Este metodo lo hereda de A\")\n",
        "\n",
        "class B:\n",
        "  def __init__(self):\n",
        "    print(\"Soy de clase B\")\n",
        "  def metodo_b(self):\n",
        "    print(\"Este metodo lo hereda de B\")\n",
        "\n",
        "class C(B,A):\n",
        "    def metodo_c(self):\n",
        "      print(\"Este metodo es de C\")"
      ],
      "metadata": {
        "id": "x6QQVJxw1BeJ"
      },
      "execution_count": 11,
      "outputs": []
    },
    {
      "cell_type": "code",
      "source": [
        "objeto_nuevo=C()"
      ],
      "metadata": {
        "colab": {
          "base_uri": "https://localhost:8080/"
        },
        "id": "Z2FTdjNT1Xm2",
        "outputId": "1d2e0b5c-e084-470c-c6b2-84afbd1fc703"
      },
      "execution_count": 13,
      "outputs": [
        {
          "output_type": "stream",
          "name": "stdout",
          "text": [
            "Soy de clase B\n"
          ]
        }
      ]
    },
    {
      "cell_type": "code",
      "source": [
        "objeto_nuevo.metodo_a()"
      ],
      "metadata": {
        "colab": {
          "base_uri": "https://localhost:8080/"
        },
        "id": "Wgrjx9u_1ZU9",
        "outputId": "dd19be34-b83a-4cbe-a4ae-82d7c08d1c83"
      },
      "execution_count": 14,
      "outputs": [
        {
          "output_type": "stream",
          "name": "stdout",
          "text": [
            "Este metodo lo hereda de A\n"
          ]
        }
      ]
    },
    {
      "cell_type": "code",
      "source": [
        "objeto_nuevo.metodo_b()"
      ],
      "metadata": {
        "colab": {
          "base_uri": "https://localhost:8080/"
        },
        "id": "bQWrbRWq1e3Q",
        "outputId": "147a3945-bc20-426b-cd74-861debcc7caf"
      },
      "execution_count": 15,
      "outputs": [
        {
          "output_type": "stream",
          "name": "stdout",
          "text": [
            "Este metodo lo hereda de B\n"
          ]
        }
      ]
    },
    {
      "cell_type": "code",
      "source": [
        "objeto_nuevo.metodo_c()"
      ],
      "metadata": {
        "colab": {
          "base_uri": "https://localhost:8080/"
        },
        "id": "n8H5NWgM1hn_",
        "outputId": "138196e0-3425-42b1-ceb2-a8747b54c9d1"
      },
      "execution_count": 16,
      "outputs": [
        {
          "output_type": "stream",
          "name": "stdout",
          "text": [
            "Este metodo es de C\n"
          ]
        }
      ]
    }
  ]
}