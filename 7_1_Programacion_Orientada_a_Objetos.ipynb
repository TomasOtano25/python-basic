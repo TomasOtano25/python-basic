{
  "nbformat": 4,
  "nbformat_minor": 0,
  "metadata": {
    "colab": {
      "name": "7.1 Programacion Orientada a Objetos.ipynb",
      "provenance": [],
      "collapsed_sections": [],
      "authorship_tag": "ABX9TyPuFhkfXvnIBukzFqFv4QF8",
      "include_colab_link": true
    },
    "kernelspec": {
      "name": "python3",
      "display_name": "Python 3"
    },
    "language_info": {
      "name": "python"
    }
  },
  "cells": [
    {
      "cell_type": "markdown",
      "metadata": {
        "id": "view-in-github",
        "colab_type": "text"
      },
      "source": [
        "<a href=\"https://colab.research.google.com/github/TomasOtano25/python-basic/blob/main/7_1_Programacion_Orientada_a_Objetos.ipynb\" target=\"_parent\"><img src=\"https://colab.research.google.com/assets/colab-badge.svg\" alt=\"Open In Colab\"/></a>"
      ]
    },
    {
      "cell_type": "markdown",
      "source": [
        "# 7.1 Programacion Orientada a Objetos"
      ],
      "metadata": {
        "id": "EGd1mGoR4wI4"
      }
    },
    {
      "cell_type": "markdown",
      "source": [
        "## Solucion del problema con Programacion Estructurada --->"
      ],
      "metadata": {
        "id": "Q4GMGfqe5B0S"
      }
    },
    {
      "cell_type": "code",
      "source": [
        "productos = [\n",
        "  {'cod':'10001', 'Nombre':'Jabon Harmony', 'Categoria':'Higiene personal', 'pvp':0.9},\n",
        "  {'cod':'10002', 'Nombre':'Cereal Nestle', 'Categoria':'Cereal', 'pvp':1.5},\n",
        "  {'cod':'10003', 'Nombre':'Limones', 'Categoria':'Fruta', 'pvp':.7}\n",
        "]"
      ],
      "metadata": {
        "id": "T5wNtZlw5BRF"
      },
      "execution_count": 30,
      "outputs": []
    },
    {
      "cell_type": "code",
      "execution_count": null,
      "metadata": {
        "colab": {
          "base_uri": "https://localhost:8080/"
        },
        "id": "1pW9Y5zi4uwr",
        "outputId": "9bb3399c-79d1-4f29-a13a-f8551344e694"
      },
      "outputs": [
        {
          "output_type": "execute_result",
          "data": {
            "text/plain": [
              "{'Categoria': 'Higiene personal',\n",
              " 'Nombre': 'Jabon Harmony',\n",
              " 'cod': '10001',\n",
              " 'pvp': 0.9}"
            ]
          },
          "metadata": {},
          "execution_count": 3
        }
      ],
      "source": [
        "productos[0]"
      ]
    },
    {
      "cell_type": "code",
      "source": [
        "def mostrar_producto(productos, cod):\n",
        "  for p in productos:\n",
        "    if(cod == p['cod']):\n",
        "      return ('{} {}'.format(p['Nombre'], p['pvp']))\n",
        "  print('Producto no encontado')"
      ],
      "metadata": {
        "id": "KLhl87Md5yAF"
      },
      "execution_count": 47,
      "outputs": []
    },
    {
      "cell_type": "code",
      "source": [
        "mostrar_producto(productos, '10003')"
      ],
      "metadata": {
        "colab": {
          "base_uri": "https://localhost:8080/",
          "height": 35
        },
        "id": "xMTOTxNI6Kjn",
        "outputId": "b9fe1689-5bd5-4bb1-ec87-3a3711da5f30"
      },
      "execution_count": 48,
      "outputs": [
        {
          "output_type": "execute_result",
          "data": {
            "text/plain": [
              "'Limones 0.7'"
            ],
            "application/vnd.google.colaboratory.intrinsic+json": {
              "type": "string"
            }
          },
          "metadata": {},
          "execution_count": 48
        }
      ]
    },
    {
      "cell_type": "code",
      "source": [
        "mostrar_producto(productos, '111')"
      ],
      "metadata": {
        "colab": {
          "base_uri": "https://localhost:8080/"
        },
        "id": "yrqX2NWO6Q5D",
        "outputId": "d65c77b6-b306-4e9e-8418-67c335c7c6cb"
      },
      "execution_count": null,
      "outputs": [
        {
          "output_type": "stream",
          "name": "stdout",
          "text": [
            "Producto no encontado\n"
          ]
        }
      ]
    },
    {
      "cell_type": "code",
      "source": [
        "def borrar_producto(productos, cod):\n",
        "  for i, p in enumerate(productos):\n",
        "    if(cod == p['cod']):\n",
        "      del(productos[i])\n",
        "      return print(str(p),\">ELIMINADO\")\n",
        "  print('Producto no encontado')"
      ],
      "metadata": {
        "id": "E__PzMzO6TDH"
      },
      "execution_count": null,
      "outputs": []
    },
    {
      "cell_type": "code",
      "source": [
        "borrar_producto(productos, '10003')"
      ],
      "metadata": {
        "colab": {
          "base_uri": "https://localhost:8080/"
        },
        "id": "qF_IanEn7Y_B",
        "outputId": "e44739d0-55cb-45a6-f365-16f0d5a963a5"
      },
      "execution_count": null,
      "outputs": [
        {
          "output_type": "stream",
          "name": "stdout",
          "text": [
            "{'cod': '10003', 'Nombre': 'Limones', 'Categoria': 'Fruta', 'pvp': 0.7} >ELIMINADO\n"
          ]
        }
      ]
    },
    {
      "cell_type": "code",
      "source": [
        "mostrar_producto(productos, '10003')"
      ],
      "metadata": {
        "colab": {
          "base_uri": "https://localhost:8080/"
        },
        "id": "q9CK6qB879ar",
        "outputId": "11117ace-afd9-467b-c0ef-a6e1e8877637"
      },
      "execution_count": null,
      "outputs": [
        {
          "output_type": "stream",
          "name": "stdout",
          "text": [
            "Producto no encontado\n"
          ]
        }
      ]
    },
    {
      "cell_type": "code",
      "source": [
        "print(\"==CATALOGO DE PRODUCTOS\")\n",
        "print(productos)\n",
        "\n",
        "print(\"\\n==MOSTRAR PRODUCTO POR COD==\")\n",
        "mostrar_producto(productos, '10001')\n",
        "mostrar_producto(productos, '10002')\n",
        "\n",
        "print(\"\\n==BORRAR PRODUCTO POR COD==\")\n",
        "borrar_producto(productos, '10001')\n",
        "borrar_producto(productos, '10002')\n",
        "\n",
        "print(\"\\n==CATALOGO DE PRODUCTOS\")\n",
        "print(productos)\n"
      ],
      "metadata": {
        "colab": {
          "base_uri": "https://localhost:8080/"
        },
        "id": "sl2wBQ9_8C8i",
        "outputId": "3d857fa1-a327-4aeb-ee79-a7dbee2e637b"
      },
      "execution_count": 50,
      "outputs": [
        {
          "output_type": "stream",
          "name": "stdout",
          "text": [
            "==CATALOGO DE PRODUCTOS\n",
            "[{'cod': '10001', 'Nombre': 'Jabon Harmony', 'Categoria': 'Higiene personal', 'pvp': 0.9}, {'cod': '10002', 'Nombre': 'Cereal Nestle', 'Categoria': 'Cereal', 'pvp': 1.5}, {'cod': '10003', 'Nombre': 'Limones', 'Categoria': 'Fruta', 'pvp': 0.7}]\n",
            "\n",
            "==MOSTRAR PRODUCTO POR COD==\n",
            "\n",
            "==BORRAR PRODUCTO POR COD==\n",
            "{'cod': '10001', 'Nombre': 'Jabon Harmony', 'Categoria': 'Higiene personal', 'pvp': 0.9} >ELIMINADO\n",
            "{'cod': '10002', 'Nombre': 'Cereal Nestle', 'Categoria': 'Cereal', 'pvp': 1.5} >ELIMINADO\n",
            "\n",
            "==CATALOGO DE PRODUCTOS\n",
            "[{'cod': '10003', 'Nombre': 'Limones', 'Categoria': 'Fruta', 'pvp': 0.7}]\n"
          ]
        }
      ]
    },
    {
      "cell_type": "markdown",
      "source": [
        "## Solucion del problema con Programacion Orientada a Objetos --->"
      ],
      "metadata": {
        "id": "EVnVrxeQ-HjW"
      }
    },
    {
      "cell_type": "code",
      "source": [
        "# SE crear una estructura para los productos\n",
        "\n",
        "class Producto:\n",
        "\n",
        "  def __init__(self,cod,nombre,categoria,pvp):\n",
        "    self.cod = cod\n",
        "    self.nombre = nombre\n",
        "    self.categoria = categoria\n",
        "    self.pvp = pvp\n",
        "\n",
        "  def __str__(self):\n",
        "    return '{} {}'.format(self.nombre, self.pvp)\n",
        "\n",
        "# Y otra estructura para el negocio\n",
        "\n",
        "class Negocio:\n",
        "\n",
        "  def __init__(self, productos=[]):\n",
        "    self.productos = productos\n",
        "  \n",
        "  def mostrar_producto(self, cod=None):\n",
        "    for p in self.productos:\n",
        "      if p.cod == cod:\n",
        "        print(p)\n",
        "        return\n",
        "    print(\"Producto no entrontrado\")\n",
        "  \n",
        "  def borrar_producto(self, cod=None):\n",
        "    for i, p in enumerate(self.productos):\n",
        "      if p.cod == cod:\n",
        "        del(self.productos[i])\n",
        "        print(str(p),\"> ELIMINADO\")\n",
        "        return\n",
        "    print(\"Producto no encontrado\")\n",
        "    "
      ],
      "metadata": {
        "id": "J-fyh671-Ns-"
      },
      "execution_count": 51,
      "outputs": []
    },
    {
      "cell_type": "code",
      "source": [
        "limones = Producto(nombre=\"Limones\", cod=\"10010\", categoria=\"Frutas\", pvp=0.8)\n",
        "platos = Producto(\"10020\", \"Platos Alpina\", \"Vajilla\", 2.4)"
      ],
      "metadata": {
        "id": "-8LAIKsHAQYj"
      },
      "execution_count": 52,
      "outputs": []
    },
    {
      "cell_type": "code",
      "source": [
        "limones"
      ],
      "metadata": {
        "colab": {
          "base_uri": "https://localhost:8080/"
        },
        "id": "0JP5s8QLAtkZ",
        "outputId": "29c66631-ff65-4a39-dc44-9bcd167a2a3b"
      },
      "execution_count": 61,
      "outputs": [
        {
          "output_type": "execute_result",
          "data": {
            "text/plain": [
              "<__main__.Producto at 0x7fb04c3a9c50>"
            ]
          },
          "metadata": {},
          "execution_count": 61
        }
      ]
    },
    {
      "cell_type": "code",
      "source": [
        "platos"
      ],
      "metadata": {
        "colab": {
          "base_uri": "https://localhost:8080/"
        },
        "id": "if8dByk0Az3r",
        "outputId": "34308de7-0a4f-49d0-b32a-e402bdc63345"
      },
      "execution_count": 62,
      "outputs": [
        {
          "output_type": "execute_result",
          "data": {
            "text/plain": [
              "<__main__.Producto at 0x7fb04c3a9e90>"
            ]
          },
          "metadata": {},
          "execution_count": 62
        }
      ]
    },
    {
      "cell_type": "code",
      "source": [
        "str(limones)"
      ],
      "metadata": {
        "colab": {
          "base_uri": "https://localhost:8080/",
          "height": 35
        },
        "id": "wZC_oBGVBs7m",
        "outputId": "39670fdc-d7dc-4ea3-9140-be6a003adda1"
      },
      "execution_count": 60,
      "outputs": [
        {
          "output_type": "execute_result",
          "data": {
            "text/plain": [
              "'Limones 0.8'"
            ],
            "application/vnd.google.colaboratory.intrinsic+json": {
              "type": "string"
            }
          },
          "metadata": {},
          "execution_count": 60
        }
      ]
    },
    {
      "cell_type": "code",
      "source": [
        "negocio = Negocio(productos=[limones,platos])"
      ],
      "metadata": {
        "id": "7p7uGcSXA3lH"
      },
      "execution_count": 57,
      "outputs": []
    },
    {
      "cell_type": "code",
      "source": [
        "negocio.productos"
      ],
      "metadata": {
        "colab": {
          "base_uri": "https://localhost:8080/"
        },
        "id": "FHKMds66B80I",
        "outputId": "e376d1fd-7d13-407b-faf2-c8ccb18f84f0"
      },
      "execution_count": 68,
      "outputs": [
        {
          "output_type": "execute_result",
          "data": {
            "text/plain": [
              "[<__main__.Producto at 0x7fb04c3a9c50>, <__main__.Producto at 0x7fb04c3a9e90>]"
            ]
          },
          "metadata": {},
          "execution_count": 68
        }
      ]
    },
    {
      "cell_type": "code",
      "source": [
        "negocio.mostrar_producto('10020')"
      ],
      "metadata": {
        "colab": {
          "base_uri": "https://localhost:8080/"
        },
        "id": "KozmwgpJBCrl",
        "outputId": "14a1811e-7afd-4678-d7e8-4b3b65c89a30"
      },
      "execution_count": 59,
      "outputs": [
        {
          "output_type": "stream",
          "name": "stdout",
          "text": [
            "Platos Alpina 2.4\n"
          ]
        }
      ]
    },
    {
      "cell_type": "code",
      "source": [
        "negocio.borrar_producto('10010')"
      ],
      "metadata": {
        "colab": {
          "base_uri": "https://localhost:8080/"
        },
        "id": "e0WSB0CCCRyE",
        "outputId": "de443cc2-832c-43a6-bde1-57402fa13910"
      },
      "execution_count": 69,
      "outputs": [
        {
          "output_type": "stream",
          "name": "stdout",
          "text": [
            "Limones 0.8 > ELIMINADO\n"
          ]
        }
      ]
    },
    {
      "cell_type": "code",
      "source": [
        "negocio.mostrar_producto('10010')"
      ],
      "metadata": {
        "colab": {
          "base_uri": "https://localhost:8080/"
        },
        "id": "O3STXJByCVN1",
        "outputId": "d7fb07af-a0bd-47bf-bb84-2b7bf897751b"
      },
      "execution_count": 70,
      "outputs": [
        {
          "output_type": "stream",
          "name": "stdout",
          "text": [
            "Producto no entrontrado\n"
          ]
        }
      ]
    }
  ]
}