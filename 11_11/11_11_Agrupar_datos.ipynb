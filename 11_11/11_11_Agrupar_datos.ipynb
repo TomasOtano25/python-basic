{
  "nbformat": 4,
  "nbformat_minor": 0,
  "metadata": {
    "colab": {
      "name": "11.11 Agrupar datos.ipynb",
      "provenance": [],
      "authorship_tag": "ABX9TyMybdxxd1Q3in695gmCG10R",
      "include_colab_link": true
    },
    "kernelspec": {
      "name": "python3",
      "display_name": "Python 3"
    },
    "language_info": {
      "name": "python"
    }
  },
  "cells": [
    {
      "cell_type": "markdown",
      "metadata": {
        "id": "view-in-github",
        "colab_type": "text"
      },
      "source": [
        "<a href=\"https://colab.research.google.com/github/TomasOtano25/python-basic/blob/main/11_11/11_11_Agrupar_datos.ipynb\" target=\"_parent\"><img src=\"https://colab.research.google.com/assets/colab-badge.svg\" alt=\"Open In Colab\"/></a>"
      ]
    },
    {
      "cell_type": "markdown",
      "source": [
        "# 11.11 Agrupar datos\n"
      ],
      "metadata": {
        "id": "gv5lVyDtRVcQ"
      }
    },
    {
      "cell_type": "code",
      "execution_count": 2,
      "metadata": {
        "id": "jn57etDBRU6z"
      },
      "outputs": [],
      "source": [
        "import numpy as np\n",
        "import pandas as pd"
      ]
    },
    {
      "cell_type": "code",
      "source": [
        "data = pd.read_csv(r'data_celular.csv',\n",
        "                   header=0,\n",
        "                   index_col=0,\n",
        "                   names=['indice', 'fecha', 'duracion', 'item', 'mes', 'red', 'tipo_red'],\n",
        "                   parse_dates=['fecha'])\n",
        "data.head()"
      ],
      "metadata": {
        "colab": {
          "base_uri": "https://localhost:8080/",
          "height": 237
        },
        "id": "qT1SIjJZRfS5",
        "outputId": "a0a80bf7-1b1f-4dab-d1b4-5c9ade546c34"
      },
      "execution_count": 3,
      "outputs": [
        {
          "output_type": "execute_result",
          "data": {
            "text/plain": [
              "                     fecha  duracion  item      mes       red tipo_red\n",
              "indice                                                                \n",
              "0      2014-10-15 06:58:00    34.429  data  2014-11      data     data\n",
              "1      2014-10-15 06:58:00    13.000  call  2014-11  Vodafone   mobile\n",
              "2      2014-10-15 14:46:00    23.000  call  2014-11    Meteor   mobile\n",
              "3      2014-10-15 14:48:00     4.000  call  2014-11     Tesco   mobile\n",
              "4      2014-10-15 17:27:00     4.000  call  2014-11     Tesco   mobile"
            ],
            "text/html": [
              "\n",
              "  <div id=\"df-51627a3d-5efa-457f-b9c5-ce0506e07b9d\">\n",
              "    <div class=\"colab-df-container\">\n",
              "      <div>\n",
              "<style scoped>\n",
              "    .dataframe tbody tr th:only-of-type {\n",
              "        vertical-align: middle;\n",
              "    }\n",
              "\n",
              "    .dataframe tbody tr th {\n",
              "        vertical-align: top;\n",
              "    }\n",
              "\n",
              "    .dataframe thead th {\n",
              "        text-align: right;\n",
              "    }\n",
              "</style>\n",
              "<table border=\"1\" class=\"dataframe\">\n",
              "  <thead>\n",
              "    <tr style=\"text-align: right;\">\n",
              "      <th></th>\n",
              "      <th>fecha</th>\n",
              "      <th>duracion</th>\n",
              "      <th>item</th>\n",
              "      <th>mes</th>\n",
              "      <th>red</th>\n",
              "      <th>tipo_red</th>\n",
              "    </tr>\n",
              "    <tr>\n",
              "      <th>indice</th>\n",
              "      <th></th>\n",
              "      <th></th>\n",
              "      <th></th>\n",
              "      <th></th>\n",
              "      <th></th>\n",
              "      <th></th>\n",
              "    </tr>\n",
              "  </thead>\n",
              "  <tbody>\n",
              "    <tr>\n",
              "      <th>0</th>\n",
              "      <td>2014-10-15 06:58:00</td>\n",
              "      <td>34.429</td>\n",
              "      <td>data</td>\n",
              "      <td>2014-11</td>\n",
              "      <td>data</td>\n",
              "      <td>data</td>\n",
              "    </tr>\n",
              "    <tr>\n",
              "      <th>1</th>\n",
              "      <td>2014-10-15 06:58:00</td>\n",
              "      <td>13.000</td>\n",
              "      <td>call</td>\n",
              "      <td>2014-11</td>\n",
              "      <td>Vodafone</td>\n",
              "      <td>mobile</td>\n",
              "    </tr>\n",
              "    <tr>\n",
              "      <th>2</th>\n",
              "      <td>2014-10-15 14:46:00</td>\n",
              "      <td>23.000</td>\n",
              "      <td>call</td>\n",
              "      <td>2014-11</td>\n",
              "      <td>Meteor</td>\n",
              "      <td>mobile</td>\n",
              "    </tr>\n",
              "    <tr>\n",
              "      <th>3</th>\n",
              "      <td>2014-10-15 14:48:00</td>\n",
              "      <td>4.000</td>\n",
              "      <td>call</td>\n",
              "      <td>2014-11</td>\n",
              "      <td>Tesco</td>\n",
              "      <td>mobile</td>\n",
              "    </tr>\n",
              "    <tr>\n",
              "      <th>4</th>\n",
              "      <td>2014-10-15 17:27:00</td>\n",
              "      <td>4.000</td>\n",
              "      <td>call</td>\n",
              "      <td>2014-11</td>\n",
              "      <td>Tesco</td>\n",
              "      <td>mobile</td>\n",
              "    </tr>\n",
              "  </tbody>\n",
              "</table>\n",
              "</div>\n",
              "      <button class=\"colab-df-convert\" onclick=\"convertToInteractive('df-51627a3d-5efa-457f-b9c5-ce0506e07b9d')\"\n",
              "              title=\"Convert this dataframe to an interactive table.\"\n",
              "              style=\"display:none;\">\n",
              "        \n",
              "  <svg xmlns=\"http://www.w3.org/2000/svg\" height=\"24px\"viewBox=\"0 0 24 24\"\n",
              "       width=\"24px\">\n",
              "    <path d=\"M0 0h24v24H0V0z\" fill=\"none\"/>\n",
              "    <path d=\"M18.56 5.44l.94 2.06.94-2.06 2.06-.94-2.06-.94-.94-2.06-.94 2.06-2.06.94zm-11 1L8.5 8.5l.94-2.06 2.06-.94-2.06-.94L8.5 2.5l-.94 2.06-2.06.94zm10 10l.94 2.06.94-2.06 2.06-.94-2.06-.94-.94-2.06-.94 2.06-2.06.94z\"/><path d=\"M17.41 7.96l-1.37-1.37c-.4-.4-.92-.59-1.43-.59-.52 0-1.04.2-1.43.59L10.3 9.45l-7.72 7.72c-.78.78-.78 2.05 0 2.83L4 21.41c.39.39.9.59 1.41.59.51 0 1.02-.2 1.41-.59l7.78-7.78 2.81-2.81c.8-.78.8-2.07 0-2.86zM5.41 20L4 18.59l7.72-7.72 1.47 1.35L5.41 20z\"/>\n",
              "  </svg>\n",
              "      </button>\n",
              "      \n",
              "  <style>\n",
              "    .colab-df-container {\n",
              "      display:flex;\n",
              "      flex-wrap:wrap;\n",
              "      gap: 12px;\n",
              "    }\n",
              "\n",
              "    .colab-df-convert {\n",
              "      background-color: #E8F0FE;\n",
              "      border: none;\n",
              "      border-radius: 50%;\n",
              "      cursor: pointer;\n",
              "      display: none;\n",
              "      fill: #1967D2;\n",
              "      height: 32px;\n",
              "      padding: 0 0 0 0;\n",
              "      width: 32px;\n",
              "    }\n",
              "\n",
              "    .colab-df-convert:hover {\n",
              "      background-color: #E2EBFA;\n",
              "      box-shadow: 0px 1px 2px rgba(60, 64, 67, 0.3), 0px 1px 3px 1px rgba(60, 64, 67, 0.15);\n",
              "      fill: #174EA6;\n",
              "    }\n",
              "\n",
              "    [theme=dark] .colab-df-convert {\n",
              "      background-color: #3B4455;\n",
              "      fill: #D2E3FC;\n",
              "    }\n",
              "\n",
              "    [theme=dark] .colab-df-convert:hover {\n",
              "      background-color: #434B5C;\n",
              "      box-shadow: 0px 1px 3px 1px rgba(0, 0, 0, 0.15);\n",
              "      filter: drop-shadow(0px 1px 2px rgba(0, 0, 0, 0.3));\n",
              "      fill: #FFFFFF;\n",
              "    }\n",
              "  </style>\n",
              "\n",
              "      <script>\n",
              "        const buttonEl =\n",
              "          document.querySelector('#df-51627a3d-5efa-457f-b9c5-ce0506e07b9d button.colab-df-convert');\n",
              "        buttonEl.style.display =\n",
              "          google.colab.kernel.accessAllowed ? 'block' : 'none';\n",
              "\n",
              "        async function convertToInteractive(key) {\n",
              "          const element = document.querySelector('#df-51627a3d-5efa-457f-b9c5-ce0506e07b9d');\n",
              "          const dataTable =\n",
              "            await google.colab.kernel.invokeFunction('convertToInteractive',\n",
              "                                                     [key], {});\n",
              "          if (!dataTable) return;\n",
              "\n",
              "          const docLinkHtml = 'Like what you see? Visit the ' +\n",
              "            '<a target=\"_blank\" href=https://colab.research.google.com/notebooks/data_table.ipynb>data table notebook</a>'\n",
              "            + ' to learn more about interactive tables.';\n",
              "          element.innerHTML = '';\n",
              "          dataTable['output_type'] = 'display_data';\n",
              "          await google.colab.output.renderOutput(dataTable, element);\n",
              "          const docLink = document.createElement('div');\n",
              "          docLink.innerHTML = docLinkHtml;\n",
              "          element.appendChild(docLink);\n",
              "        }\n",
              "      </script>\n",
              "    </div>\n",
              "  </div>\n",
              "  "
            ]
          },
          "metadata": {},
          "execution_count": 3
        }
      ]
    },
    {
      "cell_type": "markdown",
      "source": [
        "### Podemos obtener informacion basica seleccionando columnas y aplicando alguna de las operaciones que ya conocemos."
      ],
      "metadata": {
        "id": "2c_3AWf1SQhw"
      }
    },
    {
      "cell_type": "code",
      "source": [
        "print('Cuantas filas tiene el DataFrames:')\n",
        "print(data['item'].count())"
      ],
      "metadata": {
        "colab": {
          "base_uri": "https://localhost:8080/"
        },
        "id": "m3roMUPDSaRU",
        "outputId": "f62e396a-7b73-4381-a08d-62b187596ad0"
      },
      "execution_count": 4,
      "outputs": [
        {
          "output_type": "stream",
          "name": "stdout",
          "text": [
            "Cuantas filas tiene el DataFrames:\n",
            "830\n"
          ]
        }
      ]
    },
    {
      "cell_type": "code",
      "source": [
        "print('El tiempo total (en segundos ) registro en llamadas es:')\n",
        "print(data[\"duracion\"][data[\"item\"] == \"call\"].sum())"
      ],
      "metadata": {
        "colab": {
          "base_uri": "https://localhost:8080/"
        },
        "id": "Bp25tSseSj72",
        "outputId": "142b84d8-5895-4b1e-a00d-520a9f767f93"
      },
      "execution_count": 5,
      "outputs": [
        {
          "output_type": "stream",
          "name": "stdout",
          "text": [
            "El tiempo total (en segundos ) registro en llamadas es:\n",
            "92321.0\n"
          ]
        }
      ]
    },
    {
      "cell_type": "code",
      "source": [
        "print(\"Con cuantas redes telefonicas se contacto en el periodo de 2014/11 al 2015/03\")\n",
        "print(data[\"red\"].nunique())"
      ],
      "metadata": {
        "colab": {
          "base_uri": "https://localhost:8080/"
        },
        "id": "aj_rV1T8S-HZ",
        "outputId": "fe692378-2f8d-4a38-aeb7-de5afbf29f3c"
      },
      "execution_count": 6,
      "outputs": [
        {
          "output_type": "stream",
          "name": "stdout",
          "text": [
            "Con cuantas redes telefonicas se contacto en el periodo de 2014/11 al 2015/03\n",
            "9\n"
          ]
        }
      ]
    },
    {
      "cell_type": "markdown",
      "source": [
        "## ***.groupby()***\n",
        "\n",
        "### Este metodo nos permite agrupar nuestros datos para obtener informacion segregada."
      ],
      "metadata": {
        "id": "GUjHnkSCTVOo"
      }
    },
    {
      "cell_type": "code",
      "source": [
        "data.groupby('mes')"
      ],
      "metadata": {
        "colab": {
          "base_uri": "https://localhost:8080/"
        },
        "id": "Ov5_kd44Tj8C",
        "outputId": "346606bd-14d2-4738-e24a-1a309308608f"
      },
      "execution_count": 7,
      "outputs": [
        {
          "output_type": "execute_result",
          "data": {
            "text/plain": [
              "<pandas.core.groupby.generic.DataFrameGroupBy object at 0x7fab12414790>"
            ]
          },
          "metadata": {},
          "execution_count": 7
        }
      ]
    },
    {
      "cell_type": "code",
      "source": [
        "data.groupby('mes').groups.keys()"
      ],
      "metadata": {
        "colab": {
          "base_uri": "https://localhost:8080/"
        },
        "id": "pQDxAeB4Tq3T",
        "outputId": "fa305542-5e2c-4bd0-8468-8116b9fc3ded"
      },
      "execution_count": 10,
      "outputs": [
        {
          "output_type": "execute_result",
          "data": {
            "text/plain": [
              "dict_keys(['2014-11', '2014-12', '2015-01', '2015-02', '2015-03'])"
            ]
          },
          "metadata": {},
          "execution_count": 10
        }
      ]
    },
    {
      "cell_type": "code",
      "source": [
        "data.groupby('mes').groups.values()"
      ],
      "metadata": {
        "colab": {
          "base_uri": "https://localhost:8080/"
        },
        "id": "RWpsxH9-T9wC",
        "outputId": "fdac023e-6060-4abc-ef9e-de68c0b8cc63"
      },
      "execution_count": 12,
      "outputs": [
        {
          "output_type": "execute_result",
          "data": {
            "text/plain": [
              "dict_values([Int64Index([  0,   1,   2,   3,   4,   5,   6,   7,   8,   9,\n",
              "            ...\n",
              "            220, 221, 222, 223, 224, 225, 226, 227, 229, 230],\n",
              "           dtype='int64', name='indice', length=230), Int64Index([228, 231, 232, 233, 234, 235, 236, 237, 238, 239,\n",
              "            ...\n",
              "            377, 378, 379, 380, 382, 383, 384, 385, 387, 388],\n",
              "           dtype='int64', name='indice', length=157), Int64Index([381, 386, 389, 390, 391, 392, 393, 394, 395, 396,\n",
              "            ...\n",
              "            583, 584, 585, 587, 588, 589, 590, 591, 592, 593],\n",
              "           dtype='int64', name='indice', length=205), Int64Index([577, 586, 594, 595, 596, 597, 598, 599, 600, 601,\n",
              "            ...\n",
              "            719, 720, 721, 722, 723, 724, 725, 726, 727, 728],\n",
              "           dtype='int64', name='indice', length=137), Int64Index([729, 730, 731, 732, 733, 734, 735, 736, 737, 738,\n",
              "            ...\n",
              "            820, 821, 822, 823, 824, 825, 826, 827, 828, 829],\n",
              "           dtype='int64', name='indice', length=101)])"
            ]
          },
          "metadata": {},
          "execution_count": 12
        }
      ]
    },
    {
      "cell_type": "code",
      "source": [
        "data.groupby('mes').sum()"
      ],
      "metadata": {
        "colab": {
          "base_uri": "https://localhost:8080/",
          "height": 237
        },
        "id": "swZBuHIkUDsp",
        "outputId": "b7dabcc5-5f7b-48c3-cde7-7b41434915e6"
      },
      "execution_count": 13,
      "outputs": [
        {
          "output_type": "execute_result",
          "data": {
            "text/plain": [
              "          duracion\n",
              "mes               \n",
              "2014-11  26639.441\n",
              "2014-12  14641.870\n",
              "2015-01  18223.299\n",
              "2015-02  15522.299\n",
              "2015-03  22750.441"
            ],
            "text/html": [
              "\n",
              "  <div id=\"df-4a8ccb40-bf71-4455-81eb-605e96d30d9a\">\n",
              "    <div class=\"colab-df-container\">\n",
              "      <div>\n",
              "<style scoped>\n",
              "    .dataframe tbody tr th:only-of-type {\n",
              "        vertical-align: middle;\n",
              "    }\n",
              "\n",
              "    .dataframe tbody tr th {\n",
              "        vertical-align: top;\n",
              "    }\n",
              "\n",
              "    .dataframe thead th {\n",
              "        text-align: right;\n",
              "    }\n",
              "</style>\n",
              "<table border=\"1\" class=\"dataframe\">\n",
              "  <thead>\n",
              "    <tr style=\"text-align: right;\">\n",
              "      <th></th>\n",
              "      <th>duracion</th>\n",
              "    </tr>\n",
              "    <tr>\n",
              "      <th>mes</th>\n",
              "      <th></th>\n",
              "    </tr>\n",
              "  </thead>\n",
              "  <tbody>\n",
              "    <tr>\n",
              "      <th>2014-11</th>\n",
              "      <td>26639.441</td>\n",
              "    </tr>\n",
              "    <tr>\n",
              "      <th>2014-12</th>\n",
              "      <td>14641.870</td>\n",
              "    </tr>\n",
              "    <tr>\n",
              "      <th>2015-01</th>\n",
              "      <td>18223.299</td>\n",
              "    </tr>\n",
              "    <tr>\n",
              "      <th>2015-02</th>\n",
              "      <td>15522.299</td>\n",
              "    </tr>\n",
              "    <tr>\n",
              "      <th>2015-03</th>\n",
              "      <td>22750.441</td>\n",
              "    </tr>\n",
              "  </tbody>\n",
              "</table>\n",
              "</div>\n",
              "      <button class=\"colab-df-convert\" onclick=\"convertToInteractive('df-4a8ccb40-bf71-4455-81eb-605e96d30d9a')\"\n",
              "              title=\"Convert this dataframe to an interactive table.\"\n",
              "              style=\"display:none;\">\n",
              "        \n",
              "  <svg xmlns=\"http://www.w3.org/2000/svg\" height=\"24px\"viewBox=\"0 0 24 24\"\n",
              "       width=\"24px\">\n",
              "    <path d=\"M0 0h24v24H0V0z\" fill=\"none\"/>\n",
              "    <path d=\"M18.56 5.44l.94 2.06.94-2.06 2.06-.94-2.06-.94-.94-2.06-.94 2.06-2.06.94zm-11 1L8.5 8.5l.94-2.06 2.06-.94-2.06-.94L8.5 2.5l-.94 2.06-2.06.94zm10 10l.94 2.06.94-2.06 2.06-.94-2.06-.94-.94-2.06-.94 2.06-2.06.94z\"/><path d=\"M17.41 7.96l-1.37-1.37c-.4-.4-.92-.59-1.43-.59-.52 0-1.04.2-1.43.59L10.3 9.45l-7.72 7.72c-.78.78-.78 2.05 0 2.83L4 21.41c.39.39.9.59 1.41.59.51 0 1.02-.2 1.41-.59l7.78-7.78 2.81-2.81c.8-.78.8-2.07 0-2.86zM5.41 20L4 18.59l7.72-7.72 1.47 1.35L5.41 20z\"/>\n",
              "  </svg>\n",
              "      </button>\n",
              "      \n",
              "  <style>\n",
              "    .colab-df-container {\n",
              "      display:flex;\n",
              "      flex-wrap:wrap;\n",
              "      gap: 12px;\n",
              "    }\n",
              "\n",
              "    .colab-df-convert {\n",
              "      background-color: #E8F0FE;\n",
              "      border: none;\n",
              "      border-radius: 50%;\n",
              "      cursor: pointer;\n",
              "      display: none;\n",
              "      fill: #1967D2;\n",
              "      height: 32px;\n",
              "      padding: 0 0 0 0;\n",
              "      width: 32px;\n",
              "    }\n",
              "\n",
              "    .colab-df-convert:hover {\n",
              "      background-color: #E2EBFA;\n",
              "      box-shadow: 0px 1px 2px rgba(60, 64, 67, 0.3), 0px 1px 3px 1px rgba(60, 64, 67, 0.15);\n",
              "      fill: #174EA6;\n",
              "    }\n",
              "\n",
              "    [theme=dark] .colab-df-convert {\n",
              "      background-color: #3B4455;\n",
              "      fill: #D2E3FC;\n",
              "    }\n",
              "\n",
              "    [theme=dark] .colab-df-convert:hover {\n",
              "      background-color: #434B5C;\n",
              "      box-shadow: 0px 1px 3px 1px rgba(0, 0, 0, 0.15);\n",
              "      filter: drop-shadow(0px 1px 2px rgba(0, 0, 0, 0.3));\n",
              "      fill: #FFFFFF;\n",
              "    }\n",
              "  </style>\n",
              "\n",
              "      <script>\n",
              "        const buttonEl =\n",
              "          document.querySelector('#df-4a8ccb40-bf71-4455-81eb-605e96d30d9a button.colab-df-convert');\n",
              "        buttonEl.style.display =\n",
              "          google.colab.kernel.accessAllowed ? 'block' : 'none';\n",
              "\n",
              "        async function convertToInteractive(key) {\n",
              "          const element = document.querySelector('#df-4a8ccb40-bf71-4455-81eb-605e96d30d9a');\n",
              "          const dataTable =\n",
              "            await google.colab.kernel.invokeFunction('convertToInteractive',\n",
              "                                                     [key], {});\n",
              "          if (!dataTable) return;\n",
              "\n",
              "          const docLinkHtml = 'Like what you see? Visit the ' +\n",
              "            '<a target=\"_blank\" href=https://colab.research.google.com/notebooks/data_table.ipynb>data table notebook</a>'\n",
              "            + ' to learn more about interactive tables.';\n",
              "          element.innerHTML = '';\n",
              "          dataTable['output_type'] = 'display_data';\n",
              "          await google.colab.output.renderOutput(dataTable, element);\n",
              "          const docLink = document.createElement('div');\n",
              "          docLink.innerHTML = docLinkHtml;\n",
              "          element.appendChild(docLink);\n",
              "        }\n",
              "      </script>\n",
              "    </div>\n",
              "  </div>\n",
              "  "
            ]
          },
          "metadata": {},
          "execution_count": 13
        }
      ]
    },
    {
      "cell_type": "code",
      "source": [
        "print('En el siguiente cuadro vemos la cantidad de entradas por mes \\n segregadas en llamadas, sms y datos: \\n \\n')\n",
        "\n",
        "print(data.groupby(['mes', 'item'])['duracion'].count())"
      ],
      "metadata": {
        "colab": {
          "base_uri": "https://localhost:8080/"
        },
        "id": "RfBzwJviUSLX",
        "outputId": "56cf8b05-e9c4-4f15-e28d-953e43bc6353"
      },
      "execution_count": 15,
      "outputs": [
        {
          "output_type": "stream",
          "name": "stdout",
          "text": [
            "En el siguiente cuadro vemos la cantidad de entradas por mes \n",
            " segregadas en llamadas, sms y datos: \n",
            " \n",
            "\n",
            "mes      item\n",
            "2014-11  call    107\n",
            "         data     29\n",
            "         sms      94\n",
            "2014-12  call     79\n",
            "         data     30\n",
            "         sms      48\n",
            "2015-01  call     88\n",
            "         data     31\n",
            "         sms      86\n",
            "2015-02  call     67\n",
            "         data     31\n",
            "         sms      39\n",
            "2015-03  call     47\n",
            "         data     29\n",
            "         sms      25\n",
            "Name: duracion, dtype: int64\n"
          ]
        }
      ]
    },
    {
      "cell_type": "code",
      "source": [
        "print('La duracion total de las llamadas realizadas a cada una de las operadoras es: \\n')\n",
        "\n",
        "print(data[data['item'] == 'call'].groupby('red')['duracion'].sum())"
      ],
      "metadata": {
        "colab": {
          "base_uri": "https://localhost:8080/"
        },
        "id": "LQReqwEgVSe7",
        "outputId": "3c3cb397-3379-4ea1-e42d-fa7fa793146d"
      },
      "execution_count": 20,
      "outputs": [
        {
          "output_type": "stream",
          "name": "stdout",
          "text": [
            "La duracion total de las llamadas realizadas a cada una de las operadoras es: \n",
            "\n",
            "red\n",
            "Meteor        7200.0\n",
            "Tesco        13828.0\n",
            "Three        36464.0\n",
            "Vodafone     14621.0\n",
            "landline     18433.0\n",
            "voicemail     1775.0\n",
            "Name: duracion, dtype: float64\n"
          ]
        }
      ]
    },
    {
      "cell_type": "code",
      "source": [
        "print('Cuantas llamas, sms y datos son enviados a cada operadora por mes?')\n",
        "\n",
        "print(data.groupby(['mes', 'tipo_red'])['fecha'].count())"
      ],
      "metadata": {
        "colab": {
          "base_uri": "https://localhost:8080/"
        },
        "id": "iTW_hfeiV_bx",
        "outputId": "8ca281e3-7d5d-49a0-b998-b0b590ce0b70"
      },
      "execution_count": 21,
      "outputs": [
        {
          "output_type": "stream",
          "name": "stdout",
          "text": [
            "Cuantas llamas, sms y datos son enviados a cada operadora por mes?\n",
            "mes      tipo_red \n",
            "2014-11  data          29\n",
            "         landline       5\n",
            "         mobile       189\n",
            "         special        1\n",
            "         voicemail      6\n",
            "2014-12  data          30\n",
            "         landline       7\n",
            "         mobile       108\n",
            "         voicemail      8\n",
            "         world          4\n",
            "2015-01  data          31\n",
            "         landline      11\n",
            "         mobile       160\n",
            "         voicemail      3\n",
            "2015-02  data          31\n",
            "         landline       8\n",
            "         mobile        90\n",
            "         special        2\n",
            "         voicemail      6\n",
            "2015-03  data          29\n",
            "         landline      11\n",
            "         mobile        54\n",
            "         voicemail      4\n",
            "         world          3\n",
            "Name: fecha, dtype: int64\n"
          ]
        }
      ]
    }
  ]
}