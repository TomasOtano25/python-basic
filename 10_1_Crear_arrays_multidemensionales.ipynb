{
  "nbformat": 4,
  "nbformat_minor": 0,
  "metadata": {
    "colab": {
      "name": "10.1 Crear arrays multidemensionales.ipynb",
      "provenance": [],
      "authorship_tag": "ABX9TyPIueR5FkGeUO5laUOBh2WW",
      "include_colab_link": true
    },
    "kernelspec": {
      "name": "python3",
      "display_name": "Python 3"
    },
    "language_info": {
      "name": "python"
    }
  },
  "cells": [
    {
      "cell_type": "markdown",
      "metadata": {
        "id": "view-in-github",
        "colab_type": "text"
      },
      "source": [
        "<a href=\"https://colab.research.google.com/github/TomasOtano25/python-basic/blob/main/10_1_Crear_arrays_multidemensionales.ipynb\" target=\"_parent\"><img src=\"https://colab.research.google.com/assets/colab-badge.svg\" alt=\"Open In Colab\"/></a>"
      ]
    },
    {
      "cell_type": "markdown",
      "source": [
        "# 10.1 Crear arrays multidemensionales\n",
        "\n",
        "`NumPy` (abreviación de **Num**erical **Py**thon) es un paquete para computación científica avanzada y análisis de datos. Proporciona funcionalidades específicas para manipular datos de tipo `array`.\n",
        "\n",
        "Un `array` es una estructura de datos homogénea (todos sus elementos son del mismo tipo) cuyos elementos están almacenados contiguamente en la memoria.  \n",
        "\n",
        "Debemos empezar por importar el módulo _numpy_."
      ],
      "metadata": {
        "id": "FsmrvRF-Y4za"
      }
    },
    {
      "cell_type": "code",
      "execution_count": 1,
      "metadata": {
        "id": "VTr1v5iEY2o9"
      },
      "outputs": [],
      "source": [
        "import numpy as np"
      ]
    },
    {
      "cell_type": "code",
      "source": [
        "arreglo = np.array([0,1,2,3,4,5])"
      ],
      "metadata": {
        "id": "WFuuO2i4ZTNW"
      },
      "execution_count": 2,
      "outputs": []
    },
    {
      "cell_type": "code",
      "source": [
        "arreglo, type(arreglo)"
      ],
      "metadata": {
        "colab": {
          "base_uri": "https://localhost:8080/"
        },
        "id": "L2hV6aUEZYd5",
        "outputId": "533af45f-005b-4d1c-aec9-5e20f233e055"
      },
      "execution_count": 3,
      "outputs": [
        {
          "output_type": "execute_result",
          "data": {
            "text/plain": [
              "(array([0, 1, 2, 3, 4, 5]), numpy.ndarray)"
            ]
          },
          "metadata": {},
          "execution_count": 3
        }
      ]
    },
    {
      "cell_type": "code",
      "source": [
        "notas = [16,17,14,17,19,15]\n",
        "\n",
        "ar_notas = np.array(notas, dtype=float)"
      ],
      "metadata": {
        "id": "Ssd1Do2pZj_i"
      },
      "execution_count": 5,
      "outputs": []
    },
    {
      "cell_type": "code",
      "source": [
        "ar_notas, type(ar_notas[0])"
      ],
      "metadata": {
        "colab": {
          "base_uri": "https://localhost:8080/"
        },
        "id": "ZP28gTsLZyoR",
        "outputId": "ea51fdd9-dc2a-47fd-9d00-9383ae159a43"
      },
      "execution_count": 6,
      "outputs": [
        {
          "output_type": "execute_result",
          "data": {
            "text/plain": [
              "(array([16., 17., 14., 17., 19., 15.]), numpy.float64)"
            ]
          },
          "metadata": {},
          "execution_count": 6
        }
      ]
    },
    {
      "cell_type": "code",
      "source": [
        "ar_notas_todas = np.array(([0,1,2,3,4,5], notas))\n",
        "ar_notas_todas\n"
      ],
      "metadata": {
        "colab": {
          "base_uri": "https://localhost:8080/"
        },
        "id": "8z8UanNyZ-sS",
        "outputId": "71faf790-0e21-4cff-b4f0-f71b64bdcdaa"
      },
      "execution_count": 7,
      "outputs": [
        {
          "output_type": "execute_result",
          "data": {
            "text/plain": [
              "array([[ 0,  1,  2,  3,  4,  5],\n",
              "       [16, 17, 14, 17, 19, 15]])"
            ]
          },
          "metadata": {},
          "execution_count": 7
        }
      ]
    },
    {
      "cell_type": "markdown",
      "source": [
        "## *__ndim__*\n",
        "\n",
        "El atributo ndim nos indica cuantas dimensiones tiene el `array`.\n",
        "\n"
      ],
      "metadata": {
        "id": "vHOq44fBZ7m_"
      }
    },
    {
      "cell_type": "code",
      "source": [
        "print(ar_notas_todas.ndim)"
      ],
      "metadata": {
        "colab": {
          "base_uri": "https://localhost:8080/"
        },
        "id": "KjIrhuwaanGU",
        "outputId": "95ac9fe5-7e9a-41e2-e2b9-b00c51a20ed9"
      },
      "execution_count": 8,
      "outputs": [
        {
          "output_type": "stream",
          "name": "stdout",
          "text": [
            "2\n"
          ]
        }
      ]
    },
    {
      "cell_type": "code",
      "source": [
        "print(ar_notas.ndim)"
      ],
      "metadata": {
        "colab": {
          "base_uri": "https://localhost:8080/"
        },
        "id": "-x2NO4tkaxzN",
        "outputId": "89f58f8b-a717-408e-be1e-950334bcf155"
      },
      "execution_count": 10,
      "outputs": [
        {
          "output_type": "stream",
          "name": "stdout",
          "text": [
            "1\n"
          ]
        }
      ]
    },
    {
      "cell_type": "markdown",
      "source": [
        "## *__shape__*\n",
        "\n",
        "El atributo shape nos indica el tamaño de cada dimension del `array`."
      ],
      "metadata": {
        "id": "X0w3fWrBa9kx"
      }
    },
    {
      "cell_type": "code",
      "source": [
        "print(ar_notas_todas.shape)\n",
        "print(ar_notas.shape)"
      ],
      "metadata": {
        "colab": {
          "base_uri": "https://localhost:8080/"
        },
        "id": "0snIxYRDbE0N",
        "outputId": "79650983-7908-432d-de68-510f028c8170"
      },
      "execution_count": 11,
      "outputs": [
        {
          "output_type": "stream",
          "name": "stdout",
          "text": [
            "(2, 6)\n",
            "(6,)\n"
          ]
        }
      ]
    },
    {
      "cell_type": "markdown",
      "source": [
        "## *__Arrays especiales__*\n",
        "\n",
        "- **`zeros`** : Produce un ndarray con todos sus elementos igual a cero.\n",
        "- **`ones`** : Produce un ndarray con todos sus elementos igual a uno.\n",
        "- **`identity`** : Produce una matriz cuadrada identidad. \n",
        "- **`arange`** : produce un nuevo `ndarray` cuyos elementos están en el rango especificado."
      ],
      "metadata": {
        "id": "4WGSVobLbYzz"
      }
    },
    {
      "cell_type": "code",
      "source": [
        "arr = np.zeros((2,3), dtype=float)\n",
        "print(arr)"
      ],
      "metadata": {
        "colab": {
          "base_uri": "https://localhost:8080/"
        },
        "id": "80u08KjHbfEl",
        "outputId": "2d016444-66dc-45e9-f100-64bca4c929a1"
      },
      "execution_count": 13,
      "outputs": [
        {
          "output_type": "stream",
          "name": "stdout",
          "text": [
            "[[0. 0. 0.]\n",
            " [0. 0. 0.]]\n"
          ]
        }
      ]
    },
    {
      "cell_type": "code",
      "source": [
        "ar2 = np.ones((3,4), dtype=float)\n",
        "print(ar2)"
      ],
      "metadata": {
        "colab": {
          "base_uri": "https://localhost:8080/"
        },
        "id": "F0DUNEG6cKjH",
        "outputId": "ced67cc6-8550-4658-a0de-ad9bc1163bcc"
      },
      "execution_count": 14,
      "outputs": [
        {
          "output_type": "stream",
          "name": "stdout",
          "text": [
            "[[1. 1. 1. 1.]\n",
            " [1. 1. 1. 1.]\n",
            " [1. 1. 1. 1.]]\n"
          ]
        }
      ]
    },
    {
      "cell_type": "code",
      "source": [
        "ar3 = np.identity((4), dtype=float) # crear una matriz identidad\n",
        "print(ar3)"
      ],
      "metadata": {
        "colab": {
          "base_uri": "https://localhost:8080/"
        },
        "id": "1w-kx-uYcTD0",
        "outputId": "9c7a7273-0a92-4166-96dd-d79077a67a2f"
      },
      "execution_count": 15,
      "outputs": [
        {
          "output_type": "stream",
          "name": "stdout",
          "text": [
            "[[1. 0. 0. 0.]\n",
            " [0. 1. 0. 0.]\n",
            " [0. 0. 1. 0.]\n",
            " [0. 0. 0. 1.]]\n"
          ]
        }
      ]
    },
    {
      "cell_type": "code",
      "source": [
        "ar4 = np.eye((4), dtype=float) # crear una matriz identidad\n",
        "print(ar4)"
      ],
      "metadata": {
        "colab": {
          "base_uri": "https://localhost:8080/"
        },
        "id": "NhaVxQFFcl8U",
        "outputId": "992a6fb6-7bdd-4f09-c187-b1c1be992194"
      },
      "execution_count": 16,
      "outputs": [
        {
          "output_type": "stream",
          "name": "stdout",
          "text": [
            "[[1. 0. 0. 0.]\n",
            " [0. 1. 0. 0.]\n",
            " [0. 0. 1. 0.]\n",
            " [0. 0. 0. 1.]]\n"
          ]
        }
      ]
    },
    {
      "cell_type": "code",
      "source": [
        "ar5 = np.arange(1,9)\n",
        "print(ar5)"
      ],
      "metadata": {
        "colab": {
          "base_uri": "https://localhost:8080/"
        },
        "id": "lrY0jM4Rcrhg",
        "outputId": "8cf2d149-240f-4012-efb9-c1eba18206fc"
      },
      "execution_count": 18,
      "outputs": [
        {
          "output_type": "stream",
          "name": "stdout",
          "text": [
            "[1 2 3 4 5 6 7 8]\n"
          ]
        }
      ]
    }
  ]
}