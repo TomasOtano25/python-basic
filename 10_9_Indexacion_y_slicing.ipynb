{
  "nbformat": 4,
  "nbformat_minor": 0,
  "metadata": {
    "colab": {
      "name": "10.9 Indexacion y slicing.ipynb",
      "provenance": [],
      "authorship_tag": "ABX9TyNECVbYqOGWhrZgMuGbA7f/",
      "include_colab_link": true
    },
    "kernelspec": {
      "name": "python3",
      "display_name": "Python 3"
    },
    "language_info": {
      "name": "python"
    }
  },
  "cells": [
    {
      "cell_type": "markdown",
      "metadata": {
        "id": "view-in-github",
        "colab_type": "text"
      },
      "source": [
        "<a href=\"https://colab.research.google.com/github/TomasOtano25/python-basic/blob/main/10_9_Indexacion_y_slicing.ipynb\" target=\"_parent\"><img src=\"https://colab.research.google.com/assets/colab-badge.svg\" alt=\"Open In Colab\"/></a>"
      ]
    },
    {
      "cell_type": "markdown",
      "source": [
        "# **10.9 Indexacion y slicing**"
      ],
      "metadata": {
        "id": "18A4kLzsWJtD"
      }
    },
    {
      "cell_type": "markdown",
      "source": [
        "EL slicing (filtrado) sigue la siguiente forma ___`[i:j:k]`___\n",
        "\n",
        "Donde *i* es el indice; *j* es el indice de parada; y *k* es el incremento (step) no nulo."
      ],
      "metadata": {
        "id": "D0b1jPpcWXU6"
      }
    },
    {
      "cell_type": "code",
      "execution_count": null,
      "metadata": {
        "colab": {
          "base_uri": "https://localhost:8080/"
        },
        "id": "dYqW9xpmWHm3",
        "outputId": "c4c95e1b-be57-454c-86d4-bf0f12133969"
      },
      "outputs": [
        {
          "output_type": "execute_result",
          "data": {
            "text/plain": [
              "array([[ 0,  1,  2,  3,  4,  5,  6,  7],\n",
              "       [ 8,  9, 10, 11, 12, 13, 14, 15],\n",
              "       [16, 17, 18, 19, 20, 21, 22, 23],\n",
              "       [24, 25, 26, 27, 28, 29, 30, 31],\n",
              "       [32, 33, 34, 35, 36, 37, 38, 39],\n",
              "       [40, 41, 42, 43, 44, 45, 46, 47],\n",
              "       [48, 49, 50, 51, 52, 53, 54, 55],\n",
              "       [56, 57, 58, 59, 60, 61, 62, 63]])"
            ]
          },
          "metadata": {},
          "execution_count": 2
        }
      ],
      "source": [
        "import numpy as np\n",
        "\n",
        "a = np.array(range(64)).reshape((8, 8))\n",
        "a"
      ]
    },
    {
      "cell_type": "code",
      "source": [
        "a[1, 1]"
      ],
      "metadata": {
        "colab": {
          "base_uri": "https://localhost:8080/"
        },
        "id": "nQMs3gKvXEtz",
        "outputId": "26ae006c-8771-4727-eac8-e8520cd86a8d"
      },
      "execution_count": null,
      "outputs": [
        {
          "output_type": "execute_result",
          "data": {
            "text/plain": [
              "9"
            ]
          },
          "metadata": {},
          "execution_count": 3
        }
      ]
    },
    {
      "cell_type": "code",
      "source": [
        "# Desde la fila 0 a la fila 6 con saltos de 2 en 2\n",
        "a[0:7:2,]"
      ],
      "metadata": {
        "colab": {
          "base_uri": "https://localhost:8080/"
        },
        "id": "YVsUsrVWXJED",
        "outputId": "915c45cf-f2c9-41e8-e956-a45d550e60d6"
      },
      "execution_count": null,
      "outputs": [
        {
          "output_type": "execute_result",
          "data": {
            "text/plain": [
              "array([[ 0,  1,  2,  3,  4,  5,  6,  7],\n",
              "       [16, 17, 18, 19, 20, 21, 22, 23],\n",
              "       [32, 33, 34, 35, 36, 37, 38, 39],\n",
              "       [48, 49, 50, 51, 52, 53, 54, 55]])"
            ]
          },
          "metadata": {},
          "execution_count": 7
        }
      ]
    },
    {
      "cell_type": "code",
      "source": [
        "a[0:7:2,0:4]"
      ],
      "metadata": {
        "colab": {
          "base_uri": "https://localhost:8080/"
        },
        "id": "tQ5AM_3zX9I-",
        "outputId": "48bf8750-1ce2-4a6d-ca03-9fa67dbb59f0"
      },
      "execution_count": null,
      "outputs": [
        {
          "output_type": "execute_result",
          "data": {
            "text/plain": [
              "array([[ 0,  1,  2,  3],\n",
              "       [16, 17, 18, 19],\n",
              "       [32, 33, 34, 35],\n",
              "       [48, 49, 50, 51]])"
            ]
          },
          "metadata": {},
          "execution_count": 8
        }
      ]
    },
    {
      "cell_type": "code",
      "source": [
        "# Fila 1 y Columnas desde el indice 3 hasta el final\n",
        "a[1,3:]"
      ],
      "metadata": {
        "colab": {
          "base_uri": "https://localhost:8080/"
        },
        "id": "wjLmC7vaXxU0",
        "outputId": "abe8d942-6991-4db4-f9eb-33b2cf2e7e80"
      },
      "execution_count": null,
      "outputs": [
        {
          "output_type": "execute_result",
          "data": {
            "text/plain": [
              "array([11, 12, 13, 14, 15])"
            ]
          },
          "metadata": {},
          "execution_count": 9
        }
      ]
    },
    {
      "cell_type": "code",
      "source": [
        "a[1,3:5]"
      ],
      "metadata": {
        "colab": {
          "base_uri": "https://localhost:8080/"
        },
        "id": "hp10CmUUYSgv",
        "outputId": "1ce1d56c-0b95-4884-e17c-f5706a9a12f3"
      },
      "execution_count": null,
      "outputs": [
        {
          "output_type": "execute_result",
          "data": {
            "text/plain": [
              "array([11, 12])"
            ]
          },
          "metadata": {},
          "execution_count": 10
        }
      ]
    },
    {
      "cell_type": "code",
      "source": [
        "# Elementos particulares\n",
        "a[[1,3,5],[3,6,7]]"
      ],
      "metadata": {
        "colab": {
          "base_uri": "https://localhost:8080/"
        },
        "id": "69_0CnnYYX0w",
        "outputId": "d23e8ada-d258-4805-ec08-92ad876708f2"
      },
      "execution_count": null,
      "outputs": [
        {
          "output_type": "execute_result",
          "data": {
            "text/plain": [
              "array([11, 30, 47])"
            ]
          },
          "metadata": {},
          "execution_count": 12
        }
      ]
    },
    {
      "cell_type": "code",
      "source": [
        "# El simbolo ::3 representa incrementeto (es decir de 3 en 3)\n",
        "a[[1,3,5], ::3]"
      ],
      "metadata": {
        "colab": {
          "base_uri": "https://localhost:8080/"
        },
        "id": "_9gNdvyDY9KC",
        "outputId": "19a40c7f-6a0c-4453-b879-0b21917ed9ab"
      },
      "execution_count": null,
      "outputs": [
        {
          "output_type": "execute_result",
          "data": {
            "text/plain": [
              "array([[ 8, 11, 14],\n",
              "       [24, 27, 30],\n",
              "       [40, 43, 46]])"
            ]
          },
          "metadata": {},
          "execution_count": 13
        }
      ]
    },
    {
      "cell_type": "markdown",
      "source": [
        "Indexacion booleana"
      ],
      "metadata": {
        "id": "9ib19UeOZZY1"
      }
    },
    {
      "cell_type": "code",
      "source": [
        "data = np.arange(8)\n",
        "data"
      ],
      "metadata": {
        "colab": {
          "base_uri": "https://localhost:8080/"
        },
        "id": "jnbKsxdPZb0e",
        "outputId": "3942acde-1d57-4100-b286-f34a533f90a6"
      },
      "execution_count": null,
      "outputs": [
        {
          "output_type": "execute_result",
          "data": {
            "text/plain": [
              "array([0, 1, 2, 3, 4, 5, 6, 7])"
            ]
          },
          "metadata": {},
          "execution_count": 15
        }
      ]
    },
    {
      "cell_type": "code",
      "source": [
        "data < 4"
      ],
      "metadata": {
        "colab": {
          "base_uri": "https://localhost:8080/"
        },
        "id": "qONhJls4Zh3x",
        "outputId": "e08267ca-20a7-4028-d4db-54f2964f667b"
      },
      "execution_count": null,
      "outputs": [
        {
          "output_type": "execute_result",
          "data": {
            "text/plain": [
              "array([ True,  True,  True,  True, False, False, False, False])"
            ]
          },
          "metadata": {},
          "execution_count": 16
        }
      ]
    },
    {
      "cell_type": "code",
      "source": [
        "data[data < 4]"
      ],
      "metadata": {
        "colab": {
          "base_uri": "https://localhost:8080/"
        },
        "id": "m1yaApj5Zk6j",
        "outputId": "1e82c1d6-da18-4d44-d845-e4b56a18c7c5"
      },
      "execution_count": null,
      "outputs": [
        {
          "output_type": "execute_result",
          "data": {
            "text/plain": [
              "array([0, 1, 2, 3])"
            ]
          },
          "metadata": {},
          "execution_count": 17
        }
      ]
    },
    {
      "cell_type": "code",
      "source": [
        "data[np.array([ True,  True,  True,  True, False, False, False, False])]"
      ],
      "metadata": {
        "colab": {
          "base_uri": "https://localhost:8080/"
        },
        "id": "zX5F8IVYZs7t",
        "outputId": "4d4c470e-3b0b-4793-f598-16fb75846404"
      },
      "execution_count": null,
      "outputs": [
        {
          "output_type": "execute_result",
          "data": {
            "text/plain": [
              "array([0, 1, 2, 3])"
            ]
          },
          "metadata": {},
          "execution_count": 18
        }
      ]
    },
    {
      "cell_type": "code",
      "source": [
        "amigos = np.array(['giulia', 'victor', 'johel', 'andrelina', 'valentina', 'albert', 'roque'])"
      ],
      "metadata": {
        "id": "A2Eon_n4Z22p"
      },
      "execution_count": null,
      "outputs": []
    },
    {
      "cell_type": "code",
      "source": [
        "'giulia' in amigos"
      ],
      "metadata": {
        "colab": {
          "base_uri": "https://localhost:8080/"
        },
        "id": "zbnuRRu2aNRR",
        "outputId": "a981e0e0-3bad-4374-bebe-f7af132e015d"
      },
      "execution_count": null,
      "outputs": [
        {
          "output_type": "execute_result",
          "data": {
            "text/plain": [
              "True"
            ]
          },
          "metadata": {},
          "execution_count": 20
        }
      ]
    },
    {
      "cell_type": "code",
      "source": [
        "amigos[amigos != 'giulia']"
      ],
      "metadata": {
        "colab": {
          "base_uri": "https://localhost:8080/"
        },
        "id": "lbPkjGxdaQ22",
        "outputId": "e314e4a0-46e0-440f-8d30-b9a4b5dbc087"
      },
      "execution_count": null,
      "outputs": [
        {
          "output_type": "execute_result",
          "data": {
            "text/plain": [
              "array(['victor', 'johel', 'andrelina', 'valentina', 'albert', 'roque'],\n",
              "      dtype='<U9')"
            ]
          },
          "metadata": {},
          "execution_count": 21
        }
      ]
    },
    {
      "cell_type": "code",
      "source": [
        ""
      ],
      "metadata": {
        "id": "skmdmWPbaYgj"
      },
      "execution_count": null,
      "outputs": []
    }
  ]
}