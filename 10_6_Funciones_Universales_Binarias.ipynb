{
  "nbformat": 4,
  "nbformat_minor": 0,
  "metadata": {
    "colab": {
      "name": "10.6 Funciones Universales Binarias.ipynb",
      "provenance": [],
      "authorship_tag": "ABX9TyPLVk7j5NJyuuc/DOsl7vdW",
      "include_colab_link": true
    },
    "kernelspec": {
      "name": "python3",
      "display_name": "Python 3"
    },
    "language_info": {
      "name": "python"
    }
  },
  "cells": [
    {
      "cell_type": "markdown",
      "metadata": {
        "id": "view-in-github",
        "colab_type": "text"
      },
      "source": [
        "<a href=\"https://colab.research.google.com/github/TomasOtano25/python-basic/blob/main/10_6_Funciones_Universales_Binarias.ipynb\" target=\"_parent\"><img src=\"https://colab.research.google.com/assets/colab-badge.svg\" alt=\"Open In Colab\"/></a>"
      ]
    },
    {
      "cell_type": "markdown",
      "source": [
        "# ***10.6 Funciones Universales Binarias***\n",
        "\n",
        "Son funciones que realizan operaciones elemento-a-elemento sobre los datos de una `ndarray`.\n",
        "\n",
        "Las funciones *binarias* tomas dos arrays y devuelven uno o mas arrays.\n",
        "\n",
        "|Función|Descripción|\n",
        "|-------|-----------|\n",
        "|`add`|Suma entre elementos correspondientes entre arrays|\n",
        "|`subtract`|Resta entre elementos de arrays|\n",
        "|`multiply`|Multiplica arrays|\n",
        "|`divide`, `floor_divide`|Divide o división truncada|\n",
        "|`array_equal`|Devuelve `True` si los elementos del array son iguales entre sí|\n",
        "|`power`|Eleva cada elemento del primer array a la potencia indicada en el segundo array|\n",
        "|`fmin`|Devuelve el mínimo entre cada elemento. `fmin` ignora los `NaN`|\n",
        "|`fmax`|Devuelve el máximo entre cada elemento. `fmax` ignora los `NaN`|"
      ],
      "metadata": {
        "id": "Coc80XcMHAQd"
      }
    },
    {
      "cell_type": "code",
      "execution_count": null,
      "metadata": {
        "id": "FOVCD-PlG17M"
      },
      "outputs": [],
      "source": [
        "import numpy as np\n",
        "\n",
        "arr = np.array([5,36,17,18,9])\n",
        "\n",
        "arr_2 = np.array([8,24,17,19,9])"
      ]
    },
    {
      "cell_type": "code",
      "source": [
        "np.add(arr, arr_2)"
      ],
      "metadata": {
        "colab": {
          "base_uri": "https://localhost:8080/"
        },
        "id": "RvOttjX4HwvN",
        "outputId": "8826dc29-65b6-4cd8-e3b5-33d2a75297cb"
      },
      "execution_count": null,
      "outputs": [
        {
          "output_type": "execute_result",
          "data": {
            "text/plain": [
              "array([13, 60, 34, 37, 18])"
            ]
          },
          "metadata": {},
          "execution_count": 6
        }
      ]
    },
    {
      "cell_type": "code",
      "source": [
        "np.subtract(arr, arr_2)"
      ],
      "metadata": {
        "colab": {
          "base_uri": "https://localhost:8080/"
        },
        "id": "kqNa2-n0H4pB",
        "outputId": "adaa7fdc-0ab4-4bb8-a58f-fb68c5127dc6"
      },
      "execution_count": null,
      "outputs": [
        {
          "output_type": "execute_result",
          "data": {
            "text/plain": [
              "array([-3, 12,  0, -1,  0])"
            ]
          },
          "metadata": {},
          "execution_count": 7
        }
      ]
    },
    {
      "cell_type": "code",
      "source": [
        "np.multiply(arr, arr_2)"
      ],
      "metadata": {
        "colab": {
          "base_uri": "https://localhost:8080/"
        },
        "id": "WoFg02-sH_rj",
        "outputId": "cdadec37-e5b4-4c91-e1f6-732d118eb04f"
      },
      "execution_count": null,
      "outputs": [
        {
          "output_type": "execute_result",
          "data": {
            "text/plain": [
              "array([ 40, 864, 289, 342,  81])"
            ]
          },
          "metadata": {},
          "execution_count": 8
        }
      ]
    },
    {
      "cell_type": "code",
      "source": [
        "np.divide(arr, arr_2)"
      ],
      "metadata": {
        "colab": {
          "base_uri": "https://localhost:8080/"
        },
        "id": "biwJaMKEIF_b",
        "outputId": "2ad2d479-cd4e-4060-990d-1cc4cc657c26"
      },
      "execution_count": null,
      "outputs": [
        {
          "output_type": "execute_result",
          "data": {
            "text/plain": [
              "array([0.625     , 1.5       , 1.        , 0.94736842, 1.        ])"
            ]
          },
          "metadata": {},
          "execution_count": 9
        }
      ]
    },
    {
      "cell_type": "code",
      "source": [
        "np.array_equal(arr, arr_2)"
      ],
      "metadata": {
        "colab": {
          "base_uri": "https://localhost:8080/"
        },
        "id": "GtUmIhM0IJU_",
        "outputId": "c9e51053-35e8-43d1-f1d7-a7a3a0aeceb9"
      },
      "execution_count": null,
      "outputs": [
        {
          "output_type": "execute_result",
          "data": {
            "text/plain": [
              "False"
            ]
          },
          "metadata": {},
          "execution_count": 10
        }
      ]
    },
    {
      "cell_type": "code",
      "source": [
        "np.fmin(arr, arr_2)"
      ],
      "metadata": {
        "colab": {
          "base_uri": "https://localhost:8080/"
        },
        "id": "lZAKCkbbINPB",
        "outputId": "9459b538-0bf1-4c62-9db7-6bf19a5a78e5"
      },
      "execution_count": null,
      "outputs": [
        {
          "output_type": "execute_result",
          "data": {
            "text/plain": [
              "array([ 5, 24, 17, 18,  9])"
            ]
          },
          "metadata": {},
          "execution_count": 11
        }
      ]
    },
    {
      "cell_type": "code",
      "source": [
        "np.fmax(arr, arr_2)"
      ],
      "metadata": {
        "colab": {
          "base_uri": "https://localhost:8080/"
        },
        "id": "L3rbeUvLIi_v",
        "outputId": "f3b02a47-29d5-48d1-c948-b84fe9444de1"
      },
      "execution_count": null,
      "outputs": [
        {
          "output_type": "execute_result",
          "data": {
            "text/plain": [
              "array([ 8, 36, 17, 19,  9])"
            ]
          },
          "metadata": {},
          "execution_count": 12
        }
      ]
    }
  ]
}