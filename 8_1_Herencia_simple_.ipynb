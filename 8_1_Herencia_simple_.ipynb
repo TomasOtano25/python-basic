{
  "nbformat": 4,
  "nbformat_minor": 0,
  "metadata": {
    "colab": {
      "name": "8.1 Herencia simple .ipynb",
      "provenance": [],
      "collapsed_sections": [],
      "authorship_tag": "ABX9TyNHo9491Mznb8vVXvxWHrmL",
      "include_colab_link": true
    },
    "kernelspec": {
      "name": "python3",
      "display_name": "Python 3"
    },
    "language_info": {
      "name": "python"
    }
  },
  "cells": [
    {
      "cell_type": "markdown",
      "metadata": {
        "id": "view-in-github",
        "colab_type": "text"
      },
      "source": [
        "<a href=\"https://colab.research.google.com/github/TomasOtano25/python-basic/blob/main/8_1_Herencia_simple_.ipynb\" target=\"_parent\"><img src=\"https://colab.research.google.com/assets/colab-badge.svg\" alt=\"Open In Colab\"/></a>"
      ]
    },
    {
      "cell_type": "markdown",
      "source": [
        "# 8.1 Herencia simple "
      ],
      "metadata": {
        "id": "PC1Jj8ENu2E_"
      }
    },
    {
      "cell_type": "code",
      "execution_count": 2,
      "metadata": {
        "colab": {
          "base_uri": "https://localhost:8080/"
        },
        "id": "szi9a_1Yu0-S",
        "outputId": "d18332de-9230-4960-b590-3c46f5e0b6ef"
      },
      "outputs": [
        {
          "output_type": "stream",
          "name": "stdout",
          "text": [
            "<__main__.Producto object at 0x7f107ed06ed0>\n",
            "Harina de maiz (1kg), Carne de res (2kg), Detergente para ropa (500g)\n"
          ]
        }
      ],
      "source": [
        "class Producto:\n",
        "\n",
        "  def __init__(self, ref, nombre, pvp, descripcion, marca=None, categoria=None, talla=None):\n",
        "    self.ref = ref\n",
        "    self.nombre = nombre\n",
        "    self.pvp = pvp\n",
        "    self.descripcion = descripcion\n",
        "    self.marca = marca\n",
        "    self.categoria = categoria\n",
        "    self.talla = talla\n",
        "\n",
        "\n",
        "combo_1 = Producto('70010','Combo 1',150,'Harina de maiz (1kg), Carne de res (2kg), Detergente para ropa (500g)')\n",
        "\n",
        "print(combo_1)\n",
        "print(combo_1.descripcion)"
      ]
    },
    {
      "cell_type": "markdown",
      "source": [
        "## Superclase y subclases\n",
        "\n",
        "Debemos identificar una superclase que contendra todos los atributos comunes\n",
        "\n",
        "A la superclase la llamaremos Producto"
      ],
      "metadata": {
        "id": "e72KREiXvxcj"
      }
    },
    {
      "cell_type": "code",
      "source": [
        "class Producto:\n",
        "\n",
        "  def __init__(self, ref, nombre, pvp, descripcion):\n",
        "    self.ref = ref\n",
        "    self.nombre = nombre\n",
        "    self.pvp = pvp\n",
        "    self.descripcion = descripcion\n",
        "\n",
        "  def __str__(self):\n",
        "    return  f\"Referencia:\\t {self.ref} \\n\" \\\n",
        "            f\"Nombre:\\t\\t {self.nombre} \\n\" \\\n",
        "            f\"PVP:\\t\\t {self.pvp} \\n\" \\\n",
        "            f\"Descripcion:\\t {self.descripcion} \\n\" \\"
      ],
      "metadata": {
        "id": "QW_t-clywOIN"
      },
      "execution_count": 9,
      "outputs": []
    },
    {
      "cell_type": "markdown",
      "source": [
        "A partir del tipo de producto, vamos a definir subclases: *Combo, Ropa, Alimentos*"
      ],
      "metadata": {
        "id": "NcATBeo6wwOK"
      }
    },
    {
      "cell_type": "code",
      "source": [
        "class Combo(Producto):\n",
        "    pass"
      ],
      "metadata": {
        "id": "JXoJtMkowu8q"
      },
      "execution_count": 12,
      "outputs": []
    },
    {
      "cell_type": "code",
      "source": [
        "c_1 = Combo('70010','Combo 1',150,'Harina de maiz (1kg), Carne de res (2kg), Detergente para ropa (500g)')"
      ],
      "metadata": {
        "id": "xnvpFsb0xIfc"
      },
      "execution_count": 13,
      "outputs": []
    },
    {
      "cell_type": "code",
      "source": [
        "print(c_1)"
      ],
      "metadata": {
        "colab": {
          "base_uri": "https://localhost:8080/"
        },
        "id": "5YQvSDsbxYcO",
        "outputId": "8de97380-e75f-45ce-f37a-330c7b50e136"
      },
      "execution_count": 14,
      "outputs": [
        {
          "output_type": "stream",
          "name": "stdout",
          "text": [
            "Referencia:\t 70010 \n",
            "Nombre:\t\t Combo 1 \n",
            "PVP:\t\t 150 \n",
            "Descripcion:\t Harina de maiz (1kg), Carne de res (2kg), Detergente para ropa (500g) \n",
            "\n"
          ]
        }
      ]
    },
    {
      "cell_type": "code",
      "source": [
        "class Alimento(Producto):\n",
        "  marca = \"\"\n",
        "  categoria = \"\"\n",
        "\n",
        "  def __str__(self):\n",
        "    return  f\"Referencia:\\t {self.ref} \\n\" \\\n",
        "            f\"Nombre:\\t\\t {self.nombre} \\n\" \\\n",
        "            f\"PVP:\\t\\t {self.pvp} \\n\" \\\n",
        "            f\"Descripcion:\\t {self.descripcion} \\n\" \\\n",
        "            f\"Marca:\\t\\t {self.marca} \\n\" \\\n",
        "            f\"Categoria:\\t {self.categoria} \\n\""
      ],
      "metadata": {
        "id": "wi_lliCHxsrM"
      },
      "execution_count": 23,
      "outputs": []
    },
    {
      "cell_type": "code",
      "source": [
        "harina = Alimento(10001, \"Harina de Maiz\", 0.9, \"Harian precocida (1kg)\")\n",
        "harina.marca = \"Nestle\"\n",
        "harina.categoria = \"Cereares\""
      ],
      "metadata": {
        "id": "4aCY8edCyGZy"
      },
      "execution_count": 24,
      "outputs": []
    },
    {
      "cell_type": "code",
      "source": [
        "print(harina)"
      ],
      "metadata": {
        "colab": {
          "base_uri": "https://localhost:8080/"
        },
        "id": "u5nHOUT0yRiy",
        "outputId": "f628911c-345a-4d1e-dde1-dc091a861e0c"
      },
      "execution_count": 25,
      "outputs": [
        {
          "output_type": "stream",
          "name": "stdout",
          "text": [
            "Referencia:\t 10001 \n",
            "Nombre:\t\t Harina de Maiz \n",
            "PVP:\t\t 0.9 \n",
            "Descripcion:\t Harian precocida (1kg) \n",
            "Marca:\t\t Nestle \n",
            "Categoria:\t Cereares \n",
            "\n"
          ]
        }
      ]
    },
    {
      "cell_type": "code",
      "source": [
        "class Ropa(Producto):\n",
        "  marca = \"\"\n",
        "  categoria = \"\"\n",
        "  talla = \"\"\n",
        "\n",
        "  def __str__(self):\n",
        "    return  f\"Referencia:\\t {self.ref} \\n\" \\\n",
        "            f\"Nombre:\\t\\t {self.nombre} \\n\" \\\n",
        "            f\"PVP:\\t\\t {self.pvp} \\n\" \\\n",
        "            f\"Descripcion:\\t {self.descripcion} \\n\" \\\n",
        "            f\"Marca:\\t\\t {self.marca} \\n\" \\\n",
        "            f\"Categoria:\\t {self.categoria} \\n\" \\\n",
        "            f\"Talla:\\t\\t {self.talla} \\n\""
      ],
      "metadata": {
        "id": "b472a_hyyjZS"
      },
      "execution_count": 33,
      "outputs": []
    },
    {
      "cell_type": "code",
      "source": [
        "pantalon = Ropa(\"20001\", \"Pantalon\", 4.7, \"Strech Color rojo\")"
      ],
      "metadata": {
        "id": "Kfv7XhVvys6u"
      },
      "execution_count": 34,
      "outputs": []
    },
    {
      "cell_type": "code",
      "source": [
        "print(pantalon)"
      ],
      "metadata": {
        "colab": {
          "base_uri": "https://localhost:8080/"
        },
        "id": "FprdxvPPy1F5",
        "outputId": "a9faef93-8267-4bbd-b105-d3daaf846892"
      },
      "execution_count": 35,
      "outputs": [
        {
          "output_type": "stream",
          "name": "stdout",
          "text": [
            "Referencia:\t 20001 \n",
            "Nombre:\t\t Pantalon \n",
            "PVP:\t\t 4.7 \n",
            "Descripcion:\t Strech Color rojo \n",
            "Marca:\t\t  \n",
            "Categoria:\t  \n",
            "Talla:\t\t  \n",
            "\n"
          ]
        }
      ]
    },
    {
      "cell_type": "code",
      "source": [
        "pantalon.marca=\"Levi's\"\n",
        "pantalon.categoria=\"Dama\"\n",
        "pantalon.talla=30"
      ],
      "metadata": {
        "id": "KaCBaNHJy8cD"
      },
      "execution_count": 36,
      "outputs": []
    },
    {
      "cell_type": "code",
      "source": [
        "print(pantalon)"
      ],
      "metadata": {
        "colab": {
          "base_uri": "https://localhost:8080/"
        },
        "id": "W_5IjXfEzG6p",
        "outputId": "09bfc2fd-bed9-47fc-f7ee-31c874e2bfc6"
      },
      "execution_count": 37,
      "outputs": [
        {
          "output_type": "stream",
          "name": "stdout",
          "text": [
            "Referencia:\t 20001 \n",
            "Nombre:\t\t Pantalon \n",
            "PVP:\t\t 4.7 \n",
            "Descripcion:\t Strech Color rojo \n",
            "Marca:\t\t Levi's \n",
            "Categoria:\t Dama \n",
            "Talla:\t\t 30 \n",
            "\n"
          ]
        }
      ]
    }
  ]
}