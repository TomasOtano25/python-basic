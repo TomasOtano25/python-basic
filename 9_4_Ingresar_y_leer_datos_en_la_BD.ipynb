{
  "nbformat": 4,
  "nbformat_minor": 0,
  "metadata": {
    "colab": {
      "name": "9.4 Ingresar y leer datos en la BD.ipynb",
      "provenance": [],
      "authorship_tag": "ABX9TyP+rUIBx2PYN6CasSrLudjC",
      "include_colab_link": true
    },
    "kernelspec": {
      "name": "python3",
      "display_name": "Python 3"
    },
    "language_info": {
      "name": "python"
    }
  },
  "cells": [
    {
      "cell_type": "markdown",
      "metadata": {
        "id": "view-in-github",
        "colab_type": "text"
      },
      "source": [
        "<a href=\"https://colab.research.google.com/github/TomasOtano25/python-basic/blob/main/9_4_Ingresar_y_leer_datos_en_la_BD.ipynb\" target=\"_parent\"><img src=\"https://colab.research.google.com/assets/colab-badge.svg\" alt=\"Open In Colab\"/></a>"
      ]
    },
    {
      "cell_type": "markdown",
      "source": [
        "#9.4 Ingresar y leer datos en la BD\n",
        "\n",
        "`CREATE TABLE` es el comando para crear una tabla"
      ],
      "metadata": {
        "id": "HpR-5R1p6e4P"
      }
    },
    {
      "cell_type": "code",
      "execution_count": 1,
      "metadata": {
        "id": "5u4ZLrpK6WXW"
      },
      "outputs": [],
      "source": [
        "import sqlite3"
      ]
    },
    {
      "cell_type": "code",
      "source": [
        "conexion = sqlite3.connect(\"ejemplo.db\")\n",
        "cursor = conexion.cursor()\n",
        "\n",
        "#Creamos una tabla llamada Estudiantes\n",
        "cursor.execute(\"CREATE TABLE estudiantes (email VARCHAR(100), carrera VARCHAR(100), nombre VARCHAR(100), edad INTEGER)\")\n",
        "\n",
        "conexion.close()"
      ],
      "metadata": {
        "id": "WdbATPB56jxS"
      },
      "execution_count": 2,
      "outputs": []
    },
    {
      "cell_type": "markdown",
      "source": [
        "`INSERT INTO` es el comando para ingresar datos"
      ],
      "metadata": {
        "id": "yAC2_gIz7qWX"
      }
    },
    {
      "cell_type": "code",
      "source": [
        "conexion = sqlite3.connect(\"ejemplo.db\")\n",
        "cursor = conexion.cursor()\n",
        "\n",
        "#Insertamos un registro en la tabla\n",
        "cursor.execute(\"INSERT INTO estudiantes VALUES ('tomasotano25@gmail.com', 'Artes', 'Sharon', '27')\")\n",
        "\n",
        "#Guardamos los cambios haciendo un commit\n",
        "conexion.commit()\n",
        "\n",
        "conexion.close()"
      ],
      "metadata": {
        "id": "mNvpenIQ7mk-"
      },
      "execution_count": 3,
      "outputs": []
    },
    {
      "cell_type": "markdown",
      "source": [
        "`SELECT * FROM` es el comando para leer el contenido de una tabla"
      ],
      "metadata": {
        "id": "GI6aGCuZ8UP4"
      }
    },
    {
      "cell_type": "code",
      "source": [
        "conexion = sqlite3.connect(\"ejemplo.db\")\n",
        "cursor = conexion.cursor()\n",
        "\n",
        "#Seleccionamos todos los registros en la tabla\n",
        "cursor.execute(\"SELECT * FROM estudiantes\")\n",
        "\n",
        "usuarios = cursor.fetchone()\n",
        "print(usuarios)"
      ],
      "metadata": {
        "colab": {
          "base_uri": "https://localhost:8080/"
        },
        "id": "F2sov0li8aGy",
        "outputId": "ae30f58f-359b-4468-829c-568a7c9e0271"
      },
      "execution_count": 5,
      "outputs": [
        {
          "output_type": "stream",
          "name": "stdout",
          "text": [
            "('tomasotano25@gmail.com', 'Artes', 'Sharon', 27)\n"
          ]
        }
      ]
    },
    {
      "cell_type": "markdown",
      "source": [
        "Tambien podemos ingresar y leer varios registros al mismo tiempo"
      ],
      "metadata": {
        "id": "AwQkptxi8vDq"
      }
    },
    {
      "cell_type": "code",
      "source": [
        "conexion = sqlite3.connect(\"ejemplo.db\")\n",
        "cursor = conexion.cursor()\n",
        "\n",
        "usuarios = [\n",
        "    ('tomasotano25@gmail.com', 'Artes', 'Sharon', 27),\n",
        "    ('lollipopbusiness@vip.com', 'Contaduria', 'Rosana', 60),\n",
        "    ('solfernandez@googlemail.com', 'Estadistica', 'Sol', 30)\n",
        "]\n",
        "\n",
        "cursor.executemany(\"INSERT INTO estudiantes VALUES (?,?,?,?)\", usuarios)\n",
        "\n",
        "conexion.commit()\n",
        "\n",
        "conexion.close()"
      ],
      "metadata": {
        "id": "gb41htAs88gu"
      },
      "execution_count": 7,
      "outputs": []
    },
    {
      "cell_type": "code",
      "source": [
        "conexion = sqlite3.connect(\"ejemplo.db\")\n",
        "cursor = conexion.cursor()\n",
        "\n",
        "#Seleccionamos todos los registros en la tabla\n",
        "cursor.execute(\"SELECT * FROM estudiantes\")\n",
        "\n",
        "usuarios = cursor.fetchall()\n",
        "\n",
        "for u in usuarios:\n",
        "  print(u)\n",
        "  \n",
        "conexion.close()"
      ],
      "metadata": {
        "colab": {
          "base_uri": "https://localhost:8080/"
        },
        "id": "EN8jp_MuBa8v",
        "outputId": "fe5ea64e-0c98-4a22-dc36-bbc14ca0c77e"
      },
      "execution_count": 8,
      "outputs": [
        {
          "output_type": "stream",
          "name": "stdout",
          "text": [
            "('tomasotano25@gmail.com', 'Artes', 'Sharon', 27)\n",
            "('tomasotano25@gmail.com', 'Artes', 'Sharon', 27)\n",
            "('lollipopbusiness@vip.com', 'Contaduria', 'Rosana', 60)\n",
            "('solfernandez@googlemail.com', 'Estadistica', 'Sol', 30)\n"
          ]
        }
      ]
    }
  ]
}