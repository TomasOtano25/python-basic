{
  "nbformat": 4,
  "nbformat_minor": 0,
  "metadata": {
    "colab": {
      "name": "8.3 Polimosfismo.ipynb",
      "provenance": [],
      "authorship_tag": "ABX9TyOnf2jbKQw15gXPkt6k23Ew",
      "include_colab_link": true
    },
    "kernelspec": {
      "name": "python3",
      "display_name": "Python 3"
    },
    "language_info": {
      "name": "python"
    }
  },
  "cells": [
    {
      "cell_type": "markdown",
      "metadata": {
        "id": "view-in-github",
        "colab_type": "text"
      },
      "source": [
        "<a href=\"https://colab.research.google.com/github/TomasOtano25/python-basic/blob/main/8_3_Polimosfismo.ipynb\" target=\"_parent\"><img src=\"https://colab.research.google.com/assets/colab-badge.svg\" alt=\"Open In Colab\"/></a>"
      ]
    },
    {
      "cell_type": "markdown",
      "source": [
        "# 8.3 Polimosfismo\n",
        "\n",
        "El polimorfismo es una propiedad de la herencia que permite que objetos de distintas clases puedan responder a la misma accion/llamada.\n",
        "\n",
        "En Python todas las clases son polimorficas por defecto ya que todas las clases son subclases de una superclase llamada Object"
      ],
      "metadata": {
        "id": "5iuqqvcwTTFE"
      }
    },
    {
      "cell_type": "code",
      "execution_count": 1,
      "metadata": {
        "id": "oyh-qic_TJg5"
      },
      "outputs": [],
      "source": [
        "class Producto:\n",
        "\n",
        "  def __init__(self, ref, nombre, pvp, descripcion):\n",
        "    self.ref = ref\n",
        "    self.nombre = nombre\n",
        "    self.pvp = pvp\n",
        "    self.descripcion = descripcion\n",
        "\n",
        "  def __str__(self):\n",
        "    return  f\"Referencia:\\t {self.ref} \\n\" \\\n",
        "            f\"Nombre:\\t\\t {self.nombre} \\n\" \\\n",
        "            f\"PVP:\\t\\t {self.pvp} \\n\" \\\n",
        "            f\"Descripcion:\\t {self.descripcion} \\n\" \\\n",
        "\n",
        "class Combo(Producto):\n",
        "    pass\n",
        "\n",
        "class Alimento(Producto):\n",
        "  marca = \"\"\n",
        "  categoria = \"\"\n",
        "\n",
        "  def __str__(self):\n",
        "    return  f\"Referencia:\\t {self.ref} \\n\" \\\n",
        "            f\"Nombre:\\t\\t {self.nombre} \\n\" \\\n",
        "            f\"PVP:\\t\\t {self.pvp} \\n\" \\\n",
        "            f\"Descripcion:\\t {self.descripcion} \\n\" \\\n",
        "            f\"Marca:\\t\\t {self.marca} \\n\" \\\n",
        "            f\"Categoria:\\t {self.categoria} \\n\"\n",
        "\n",
        "class Ropa(Producto):\n",
        "  marca = \"\"\n",
        "  categoria = \"\"\n",
        "  talla = \"\"\n",
        "\n",
        "  def __str__(self):\n",
        "    return  f\"Referencia:\\t {self.ref} \\n\" \\\n",
        "            f\"Nombre:\\t\\t {self.nombre} \\n\" \\\n",
        "            f\"PVP:\\t\\t {self.pvp} \\n\" \\\n",
        "            f\"Descripcion:\\t {self.descripcion} \\n\" \\\n",
        "            f\"Marca:\\t\\t {self.marca} \\n\" \\\n",
        "            f\"Categoria:\\t {self.categoria} \\n\" \\\n",
        "            f\"Talla:\\t\\t {self.talla} \\n\""
      ]
    },
    {
      "cell_type": "code",
      "source": [
        "combo_1 = Combo('70010','Combo 1',150,'Harina de maiz (1kg), Carne de res (2kg), Detergente para ropa (500g)')\n",
        "\n",
        "pant_1 = Ropa(\"20001\", \"Pantalon\", 200, \"Strech Color rojo\")\n",
        "pant_1.marca=\"Levi's\"\n",
        "pant_1.categoria=\"Dama\"\n",
        "pant_1.talla=30\n",
        "\n",
        "harina = Alimento(10001, \"Harina de Maiz\", 30, \"Harina precocida (1kg)\")\n",
        "harina.marca = \"Nestle\"\n",
        "harina.categoria = \"Cereales\""
      ],
      "metadata": {
        "id": "PYAvO07kT-3c"
      },
      "execution_count": 3,
      "outputs": []
    },
    {
      "cell_type": "code",
      "source": [
        "productos = [combo_1, harina]"
      ],
      "metadata": {
        "id": "KE2G3KyIUm4K"
      },
      "execution_count": 4,
      "outputs": []
    },
    {
      "cell_type": "code",
      "source": [
        "productos.append(pant_1)"
      ],
      "metadata": {
        "id": "vX2VlT7UUtKT"
      },
      "execution_count": 5,
      "outputs": []
    },
    {
      "cell_type": "code",
      "source": [
        "productos"
      ],
      "metadata": {
        "colab": {
          "base_uri": "https://localhost:8080/"
        },
        "id": "Yw_T-ac4UwZu",
        "outputId": "091634f8-18b9-4a9d-cee3-baf3919fc18d"
      },
      "execution_count": 6,
      "outputs": [
        {
          "output_type": "execute_result",
          "data": {
            "text/plain": [
              "[<__main__.Combo at 0x7f7590334250>,\n",
              " <__main__.Alimento at 0x7f7590334690>,\n",
              " <__main__.Ropa at 0x7f759032b990>]"
            ]
          },
          "metadata": {},
          "execution_count": 6
        }
      ]
    },
    {
      "cell_type": "code",
      "source": [
        "for p in productos:\n",
        "  print(p.ref, p.nombre)"
      ],
      "metadata": {
        "colab": {
          "base_uri": "https://localhost:8080/"
        },
        "id": "UcNOcg8mUxv2",
        "outputId": "c2745382-6bdc-4de5-9a79-389f3a956796"
      },
      "execution_count": 7,
      "outputs": [
        {
          "output_type": "stream",
          "name": "stdout",
          "text": [
            "70010 Combo 1\n",
            "10001 Harina de Maiz\n",
            "20001 Pantalon\n"
          ]
        }
      ]
    },
    {
      "cell_type": "code",
      "source": [
        "for p in productos:\n",
        "  print(p.marca)"
      ],
      "metadata": {
        "colab": {
          "base_uri": "https://localhost:8080/",
          "height": 182
        },
        "id": "GU319t0VU6T_",
        "outputId": "6c100bd1-5e69-4964-90f1-7cfa95193e78"
      },
      "execution_count": 8,
      "outputs": [
        {
          "output_type": "error",
          "ename": "AttributeError",
          "evalue": "ignored",
          "traceback": [
            "\u001b[0;31m---------------------------------------------------------------------------\u001b[0m",
            "\u001b[0;31mAttributeError\u001b[0m                            Traceback (most recent call last)",
            "\u001b[0;32m<ipython-input-8-7e7c8c4b73d8>\u001b[0m in \u001b[0;36m<module>\u001b[0;34m()\u001b[0m\n\u001b[1;32m      1\u001b[0m \u001b[0;32mfor\u001b[0m \u001b[0mp\u001b[0m \u001b[0;32min\u001b[0m \u001b[0mproductos\u001b[0m\u001b[0;34m:\u001b[0m\u001b[0;34m\u001b[0m\u001b[0;34m\u001b[0m\u001b[0m\n\u001b[0;32m----> 2\u001b[0;31m   \u001b[0mprint\u001b[0m\u001b[0;34m(\u001b[0m\u001b[0mp\u001b[0m\u001b[0;34m.\u001b[0m\u001b[0mmarca\u001b[0m\u001b[0;34m)\u001b[0m\u001b[0;34m\u001b[0m\u001b[0;34m\u001b[0m\u001b[0m\n\u001b[0m",
            "\u001b[0;31mAttributeError\u001b[0m: 'Combo' object has no attribute 'marca'"
          ]
        }
      ]
    },
    {
      "cell_type": "code",
      "source": [
        "isinstance(combo_1,Combo)"
      ],
      "metadata": {
        "colab": {
          "base_uri": "https://localhost:8080/"
        },
        "id": "ZXlvAOKTVFWX",
        "outputId": "fd036cd4-ff40-4d78-9bf7-98794f25ac63"
      },
      "execution_count": 11,
      "outputs": [
        {
          "output_type": "execute_result",
          "data": {
            "text/plain": [
              "True"
            ]
          },
          "metadata": {},
          "execution_count": 11
        }
      ]
    },
    {
      "cell_type": "code",
      "source": [
        "for p in productos:\n",
        "  if isinstance(p,Combo):\n",
        "    print(p.ref,p.nombre)\n",
        "  elif isinstance(p,Ropa):\n",
        "    print(p.ref,p.nombre,p.talla)\n",
        "  elif isinstance(p,Alimento):\n",
        "    print(p.ref,p.nombre,p.marca)"
      ],
      "metadata": {
        "colab": {
          "base_uri": "https://localhost:8080/"
        },
        "id": "HJCaJrdiVPm0",
        "outputId": "f4e5f8a5-d7fa-4e62-83ef-043eb4fb8e31"
      },
      "execution_count": 12,
      "outputs": [
        {
          "output_type": "stream",
          "name": "stdout",
          "text": [
            "70010 Combo 1\n",
            "10001 Harina de Maiz Nestle\n",
            "20001 Pantalon 30\n"
          ]
        }
      ]
    },
    {
      "cell_type": "code",
      "source": [
        "def descuento(p, rebaja):\n",
        "  p.pvp = p.pvp - (p.pvp*(rebaja/100))\n",
        "  return p"
      ],
      "metadata": {
        "id": "N4d4fgLsVudW"
      },
      "execution_count": 15,
      "outputs": []
    },
    {
      "cell_type": "code",
      "source": [
        "pantalon_desc = descuento(pant_1, 20)\n",
        "print(pantalon_desc)"
      ],
      "metadata": {
        "colab": {
          "base_uri": "https://localhost:8080/"
        },
        "id": "vmd16Iz5VxI6",
        "outputId": "6cb68493-7a85-40ea-b276-39608d25d85d"
      },
      "execution_count": 16,
      "outputs": [
        {
          "output_type": "stream",
          "name": "stdout",
          "text": [
            "Referencia:\t 20001 \n",
            "Nombre:\t\t Pantalon \n",
            "PVP:\t\t 160.0 \n",
            "Descripcion:\t Strech Color rojo \n",
            "Marca:\t\t Levi's \n",
            "Categoria:\t Dama \n",
            "Talla:\t\t 30 \n",
            "\n"
          ]
        }
      ]
    },
    {
      "cell_type": "code",
      "source": [
        "print(pant_1)\n",
        "print(pantalon_desc)"
      ],
      "metadata": {
        "colab": {
          "base_uri": "https://localhost:8080/"
        },
        "id": "KmRJqdGoWMRZ",
        "outputId": "9dbaf72a-79a9-4298-d6d2-452ed9625c1f"
      },
      "execution_count": 17,
      "outputs": [
        {
          "output_type": "stream",
          "name": "stdout",
          "text": [
            "Referencia:\t 20001 \n",
            "Nombre:\t\t Pantalon \n",
            "PVP:\t\t 160.0 \n",
            "Descripcion:\t Strech Color rojo \n",
            "Marca:\t\t Levi's \n",
            "Categoria:\t Dama \n",
            "Talla:\t\t 30 \n",
            "\n",
            "Referencia:\t 20001 \n",
            "Nombre:\t\t Pantalon \n",
            "PVP:\t\t 160.0 \n",
            "Descripcion:\t Strech Color rojo \n",
            "Marca:\t\t Levi's \n",
            "Categoria:\t Dama \n",
            "Talla:\t\t 30 \n",
            "\n"
          ]
        }
      ]
    },
    {
      "cell_type": "code",
      "source": [
        "copia_pant = pant_1"
      ],
      "metadata": {
        "id": "RbMDJhtDWcIH"
      },
      "execution_count": 18,
      "outputs": []
    },
    {
      "cell_type": "code",
      "source": [
        "copia_pant.marca = \"Nike\""
      ],
      "metadata": {
        "id": "todYQlFrWfjF"
      },
      "execution_count": 19,
      "outputs": []
    },
    {
      "cell_type": "code",
      "source": [
        "print(pant_1)\n",
        "print(copia_pant)"
      ],
      "metadata": {
        "colab": {
          "base_uri": "https://localhost:8080/"
        },
        "id": "lXF_TSacWj_U",
        "outputId": "ff6cab03-f6d7-4bce-8c97-3cefba09ee88"
      },
      "execution_count": 20,
      "outputs": [
        {
          "output_type": "stream",
          "name": "stdout",
          "text": [
            "Referencia:\t 20001 \n",
            "Nombre:\t\t Pantalon \n",
            "PVP:\t\t 160.0 \n",
            "Descripcion:\t Strech Color rojo \n",
            "Marca:\t\t Nike \n",
            "Categoria:\t Dama \n",
            "Talla:\t\t 30 \n",
            "\n",
            "Referencia:\t 20001 \n",
            "Nombre:\t\t Pantalon \n",
            "PVP:\t\t 160.0 \n",
            "Descripcion:\t Strech Color rojo \n",
            "Marca:\t\t Nike \n",
            "Categoria:\t Dama \n",
            "Talla:\t\t 30 \n",
            "\n"
          ]
        }
      ]
    },
    {
      "cell_type": "markdown",
      "source": [
        "## Modulo *copy*"
      ],
      "metadata": {
        "id": "eKimMYz_Wq97"
      }
    },
    {
      "cell_type": "code",
      "source": [
        "import copy\n",
        "\n",
        "copia_pant = copy.copy(pant_1)\n",
        "print(copia_pant)\n"
      ],
      "metadata": {
        "colab": {
          "base_uri": "https://localhost:8080/"
        },
        "id": "smbigse-WpT7",
        "outputId": "d0594fec-7d3c-44d5-f985-2320acb8fa83"
      },
      "execution_count": 23,
      "outputs": [
        {
          "output_type": "stream",
          "name": "stdout",
          "text": [
            "Referencia:\t 20001 \n",
            "Nombre:\t\t Pantalon \n",
            "PVP:\t\t 160.0 \n",
            "Descripcion:\t Strech Color rojo \n",
            "Marca:\t\t Nike \n",
            "Categoria:\t Dama \n",
            "Talla:\t\t 30 \n",
            "\n"
          ]
        }
      ]
    },
    {
      "cell_type": "code",
      "source": [
        "copia_pant.pvp = 500\n",
        "print(pant_1)\n",
        "print(copia_pant)"
      ],
      "metadata": {
        "colab": {
          "base_uri": "https://localhost:8080/"
        },
        "id": "Cp8VoGGuW4q3",
        "outputId": "18d8fe17-958f-44f9-b72a-fbacf881fb00"
      },
      "execution_count": 24,
      "outputs": [
        {
          "output_type": "stream",
          "name": "stdout",
          "text": [
            "Referencia:\t 20001 \n",
            "Nombre:\t\t Pantalon \n",
            "PVP:\t\t 160.0 \n",
            "Descripcion:\t Strech Color rojo \n",
            "Marca:\t\t Nike \n",
            "Categoria:\t Dama \n",
            "Talla:\t\t 30 \n",
            "\n",
            "Referencia:\t 20001 \n",
            "Nombre:\t\t Pantalon \n",
            "PVP:\t\t 500 \n",
            "Descripcion:\t Strech Color rojo \n",
            "Marca:\t\t Nike \n",
            "Categoria:\t Dama \n",
            "Talla:\t\t 30 \n",
            "\n"
          ]
        }
      ]
    }
  ]
}