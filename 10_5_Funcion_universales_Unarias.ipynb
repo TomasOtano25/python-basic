{
  "nbformat": 4,
  "nbformat_minor": 0,
  "metadata": {
    "colab": {
      "name": "10.5 Funcion universales Unarias.ipynb",
      "provenance": [],
      "authorship_tag": "ABX9TyNsiqgF5/T8utiD62W3n6IQ",
      "include_colab_link": true
    },
    "kernelspec": {
      "name": "python3",
      "display_name": "Python 3"
    },
    "language_info": {
      "name": "python"
    }
  },
  "cells": [
    {
      "cell_type": "markdown",
      "metadata": {
        "id": "view-in-github",
        "colab_type": "text"
      },
      "source": [
        "<a href=\"https://colab.research.google.com/github/TomasOtano25/python-basic/blob/main/10_5_Funcion_universales_Unarias.ipynb\" target=\"_parent\"><img src=\"https://colab.research.google.com/assets/colab-badge.svg\" alt=\"Open In Colab\"/></a>"
      ]
    },
    {
      "cell_type": "markdown",
      "source": [
        "# 10.5 Funcion universales Unarias\n",
        "\n",
        "Son funciones que realizan operaciones elemento a elemento sobre datos en un   `ndarray`. \n",
        "\n",
        "Las funciones _unarias_ comprenden todas las operaciones que reciben un solo array como argumento.\n",
        "\n",
        "|Función|Descripción|\n",
        "|-------|-----------|\n",
        "|`abs`, `fabs`|Calcular el valor absoluto|\n",
        "|`sqrt`|Calcular la raíz cuadrada|\n",
        "|`square`|Calcular el cuadrado|\n",
        "|`exp`|Calcular la exponencial $e^x$|\n",
        "|`log`, `log10`, `log2`, `log1p`|Calcula el Logaritmo natural, en base a 10, 2, y $log(x + 1)$|\n",
        "|`isnan`|Devuelve un array booleano indicando si cada elemento es NaN (Not a Number)|\n",
        "|`sin, cos, tan`| Devuelve un array con el resultado de aplicar la función seno, coseno, y tangente en los valores|\n",
        "|`mean, median, std, var`|Calcula la media aritmética, la mediana, la desviación estándard y la varianza en un array|"
      ],
      "metadata": {
        "id": "xNP99OhiFS-x"
      }
    },
    {
      "cell_type": "code",
      "execution_count": null,
      "metadata": {
        "id": "SWGEgn2nkgGC"
      },
      "outputs": [],
      "source": [
        "import numpy as np\n",
        "\n",
        "a = np.array([2, 4, 9], float)"
      ]
    },
    {
      "cell_type": "code",
      "source": [
        "a"
      ],
      "metadata": {
        "colab": {
          "base_uri": "https://localhost:8080/"
        },
        "id": "RH58hIaKFlUw",
        "outputId": "54286efa-ef02-41c1-9fd9-e270b4663903"
      },
      "execution_count": null,
      "outputs": [
        {
          "output_type": "execute_result",
          "data": {
            "text/plain": [
              "array([2., 4., 9.])"
            ]
          },
          "metadata": {},
          "execution_count": 2
        }
      ]
    },
    {
      "cell_type": "code",
      "source": [
        "np.sqrt(a)"
      ],
      "metadata": {
        "colab": {
          "base_uri": "https://localhost:8080/"
        },
        "id": "oyAY9AqpFq5Z",
        "outputId": "2773d7ec-18c7-4a8d-c474-45c539d6141b"
      },
      "execution_count": null,
      "outputs": [
        {
          "output_type": "execute_result",
          "data": {
            "text/plain": [
              "array([1.41421356, 2.        , 3.        ])"
            ]
          },
          "metadata": {},
          "execution_count": 3
        }
      ]
    },
    {
      "cell_type": "code",
      "source": [
        "np.square(a)"
      ],
      "metadata": {
        "colab": {
          "base_uri": "https://localhost:8080/"
        },
        "id": "PfukBVP2GAbn",
        "outputId": "5a98feec-10d8-490b-96b3-3dfa6da7dc87"
      },
      "execution_count": null,
      "outputs": [
        {
          "output_type": "execute_result",
          "data": {
            "text/plain": [
              "array([ 4., 16., 81.])"
            ]
          },
          "metadata": {},
          "execution_count": 4
        }
      ]
    },
    {
      "cell_type": "code",
      "source": [
        "np.exp(a)"
      ],
      "metadata": {
        "colab": {
          "base_uri": "https://localhost:8080/"
        },
        "id": "K3JeKbQZGD9P",
        "outputId": "17eee43b-e49b-4620-b42e-3d7d3629c10a"
      },
      "execution_count": null,
      "outputs": [
        {
          "output_type": "execute_result",
          "data": {
            "text/plain": [
              "array([7.38905610e+00, 5.45981500e+01, 8.10308393e+03])"
            ]
          },
          "metadata": {},
          "execution_count": 5
        }
      ]
    },
    {
      "cell_type": "code",
      "source": [
        "np.log(a)"
      ],
      "metadata": {
        "colab": {
          "base_uri": "https://localhost:8080/"
        },
        "id": "OKJK1oaKGOgX",
        "outputId": "72e6cf81-08c6-4c15-8d96-0d2bb2cf4787"
      },
      "execution_count": null,
      "outputs": [
        {
          "output_type": "execute_result",
          "data": {
            "text/plain": [
              "array([0.69314718, 1.38629436, 2.19722458])"
            ]
          },
          "metadata": {},
          "execution_count": 6
        }
      ]
    },
    {
      "cell_type": "code",
      "source": [
        "np.log10(a)"
      ],
      "metadata": {
        "colab": {
          "base_uri": "https://localhost:8080/"
        },
        "id": "ZYw2G29KGSTR",
        "outputId": "8b8e7efe-06a0-426e-94a1-08d3765af92c"
      },
      "execution_count": null,
      "outputs": [
        {
          "output_type": "execute_result",
          "data": {
            "text/plain": [
              "array([0.30103   , 0.60205999, 0.95424251])"
            ]
          },
          "metadata": {},
          "execution_count": 7
        }
      ]
    },
    {
      "cell_type": "code",
      "source": [
        "np.sin(a)"
      ],
      "metadata": {
        "colab": {
          "base_uri": "https://localhost:8080/"
        },
        "id": "7nwx4HiRGUQP",
        "outputId": "99eca323-f337-4402-d495-988cbe7d306f"
      },
      "execution_count": null,
      "outputs": [
        {
          "output_type": "execute_result",
          "data": {
            "text/plain": [
              "array([ 0.90929743, -0.7568025 ,  0.41211849])"
            ]
          },
          "metadata": {},
          "execution_count": 8
        }
      ]
    },
    {
      "cell_type": "code",
      "source": [
        "np.cos(a)"
      ],
      "metadata": {
        "colab": {
          "base_uri": "https://localhost:8080/"
        },
        "id": "RpDKnunrGdr_",
        "outputId": "7696efa6-82a4-4188-9637-b18e0f23ec93"
      },
      "execution_count": null,
      "outputs": [
        {
          "output_type": "execute_result",
          "data": {
            "text/plain": [
              "array([-0.41614684, -0.65364362, -0.91113026])"
            ]
          },
          "metadata": {},
          "execution_count": 9
        }
      ]
    },
    {
      "cell_type": "code",
      "source": [
        "np.mean(a)"
      ],
      "metadata": {
        "colab": {
          "base_uri": "https://localhost:8080/"
        },
        "id": "qEtKEzcZGfVZ",
        "outputId": "6c69bb27-2d40-45dc-a39b-6e88609d97b4"
      },
      "execution_count": null,
      "outputs": [
        {
          "output_type": "execute_result",
          "data": {
            "text/plain": [
              "5.0"
            ]
          },
          "metadata": {},
          "execution_count": 12
        }
      ]
    },
    {
      "cell_type": "code",
      "source": [
        "np.std(a)"
      ],
      "metadata": {
        "colab": {
          "base_uri": "https://localhost:8080/"
        },
        "id": "7SEBxg_MGobm",
        "outputId": "62cb23c7-db02-49ae-8ac4-e0c22ea2889c"
      },
      "execution_count": null,
      "outputs": [
        {
          "output_type": "execute_result",
          "data": {
            "text/plain": [
              "2.943920288775949"
            ]
          },
          "metadata": {},
          "execution_count": 13
        }
      ]
    },
    {
      "cell_type": "code",
      "source": [
        "np.var(a)"
      ],
      "metadata": {
        "colab": {
          "base_uri": "https://localhost:8080/"
        },
        "id": "pUS4LKleGtRb",
        "outputId": "8471ba30-2ec1-41a8-aecc-c3ca06a97305"
      },
      "execution_count": null,
      "outputs": [
        {
          "output_type": "execute_result",
          "data": {
            "text/plain": [
              "8.666666666666666"
            ]
          },
          "metadata": {},
          "execution_count": 14
        }
      ]
    }
  ]
}